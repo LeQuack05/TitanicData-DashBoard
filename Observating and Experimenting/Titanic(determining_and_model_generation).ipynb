{
  "nbformat": 4,
  "nbformat_minor": 0,
  "metadata": {
    "colab": {
      "name": "Titanic(determining and model generation).ipynb",
      "provenance": [],
      "collapsed_sections": []
    },
    "kernelspec": {
      "display_name": "Python 3",
      "name": "python3"
    }
  },
  "cells": [
    {
      "cell_type": "code",
      "metadata": {
        "id": "JsXK_9m3-BCX"
      },
      "source": [
        "import pandas as pd\n",
        "import matplotlib.pyplot as plt\n",
        "import numpy as np\n",
        "import seaborn as sns"
      ],
      "execution_count": null,
      "outputs": []
    },
    {
      "cell_type": "code",
      "metadata": {
        "colab": {
          "base_uri": "https://localhost:8080/",
          "height": 419
        },
        "id": "YAKjxqUGU0F4",
        "outputId": "b767a35d-227a-4b26-b628-00c0bc00ea58"
      },
      "source": [
        "df_titanic=pd.read_csv('TitanicClean.csv')\n",
        "df_titanic.drop('Unnamed: 0',axis=1,inplace=True)\n",
        "df_titanic"
      ],
      "execution_count": null,
      "outputs": [
        {
          "output_type": "execute_result",
          "data": {
            "text/html": [
              "<div>\n",
              "<style scoped>\n",
              "    .dataframe tbody tr th:only-of-type {\n",
              "        vertical-align: middle;\n",
              "    }\n",
              "\n",
              "    .dataframe tbody tr th {\n",
              "        vertical-align: top;\n",
              "    }\n",
              "\n",
              "    .dataframe thead th {\n",
              "        text-align: right;\n",
              "    }\n",
              "</style>\n",
              "<table border=\"1\" class=\"dataframe\">\n",
              "  <thead>\n",
              "    <tr style=\"text-align: right;\">\n",
              "      <th></th>\n",
              "      <th>Age</th>\n",
              "      <th>Cabin</th>\n",
              "      <th>Embarked</th>\n",
              "      <th>Fare</th>\n",
              "      <th>Fsize</th>\n",
              "      <th>PassengerId</th>\n",
              "      <th>Pclass</th>\n",
              "      <th>Sex</th>\n",
              "      <th>Died</th>\n",
              "      <th>Survived</th>\n",
              "    </tr>\n",
              "  </thead>\n",
              "  <tbody>\n",
              "    <tr>\n",
              "      <th>0</th>\n",
              "      <td>22</td>\n",
              "      <td>M</td>\n",
              "      <td>S</td>\n",
              "      <td>7.2500</td>\n",
              "      <td>2</td>\n",
              "      <td>1</td>\n",
              "      <td>3</td>\n",
              "      <td>male</td>\n",
              "      <td>Dead</td>\n",
              "      <td>0</td>\n",
              "    </tr>\n",
              "    <tr>\n",
              "      <th>1</th>\n",
              "      <td>38</td>\n",
              "      <td>C</td>\n",
              "      <td>C</td>\n",
              "      <td>71.2833</td>\n",
              "      <td>2</td>\n",
              "      <td>2</td>\n",
              "      <td>1</td>\n",
              "      <td>female</td>\n",
              "      <td>Alive</td>\n",
              "      <td>1</td>\n",
              "    </tr>\n",
              "    <tr>\n",
              "      <th>2</th>\n",
              "      <td>26</td>\n",
              "      <td>M</td>\n",
              "      <td>S</td>\n",
              "      <td>7.9250</td>\n",
              "      <td>1</td>\n",
              "      <td>3</td>\n",
              "      <td>3</td>\n",
              "      <td>female</td>\n",
              "      <td>Alive</td>\n",
              "      <td>1</td>\n",
              "    </tr>\n",
              "    <tr>\n",
              "      <th>3</th>\n",
              "      <td>35</td>\n",
              "      <td>C</td>\n",
              "      <td>S</td>\n",
              "      <td>53.1000</td>\n",
              "      <td>2</td>\n",
              "      <td>4</td>\n",
              "      <td>1</td>\n",
              "      <td>female</td>\n",
              "      <td>Alive</td>\n",
              "      <td>1</td>\n",
              "    </tr>\n",
              "    <tr>\n",
              "      <th>4</th>\n",
              "      <td>35</td>\n",
              "      <td>M</td>\n",
              "      <td>S</td>\n",
              "      <td>8.0500</td>\n",
              "      <td>1</td>\n",
              "      <td>5</td>\n",
              "      <td>3</td>\n",
              "      <td>male</td>\n",
              "      <td>Dead</td>\n",
              "      <td>0</td>\n",
              "    </tr>\n",
              "    <tr>\n",
              "      <th>...</th>\n",
              "      <td>...</td>\n",
              "      <td>...</td>\n",
              "      <td>...</td>\n",
              "      <td>...</td>\n",
              "      <td>...</td>\n",
              "      <td>...</td>\n",
              "      <td>...</td>\n",
              "      <td>...</td>\n",
              "      <td>...</td>\n",
              "      <td>...</td>\n",
              "    </tr>\n",
              "    <tr>\n",
              "      <th>1304</th>\n",
              "      <td>29</td>\n",
              "      <td>M</td>\n",
              "      <td>S</td>\n",
              "      <td>8.0500</td>\n",
              "      <td>1</td>\n",
              "      <td>1305</td>\n",
              "      <td>3</td>\n",
              "      <td>male</td>\n",
              "      <td>Dead</td>\n",
              "      <td>0</td>\n",
              "    </tr>\n",
              "    <tr>\n",
              "      <th>1305</th>\n",
              "      <td>39</td>\n",
              "      <td>C</td>\n",
              "      <td>C</td>\n",
              "      <td>108.9000</td>\n",
              "      <td>1</td>\n",
              "      <td>1306</td>\n",
              "      <td>1</td>\n",
              "      <td>female</td>\n",
              "      <td>Alive</td>\n",
              "      <td>1</td>\n",
              "    </tr>\n",
              "    <tr>\n",
              "      <th>1306</th>\n",
              "      <td>38</td>\n",
              "      <td>M</td>\n",
              "      <td>S</td>\n",
              "      <td>7.2500</td>\n",
              "      <td>1</td>\n",
              "      <td>1307</td>\n",
              "      <td>3</td>\n",
              "      <td>male</td>\n",
              "      <td>Dead</td>\n",
              "      <td>0</td>\n",
              "    </tr>\n",
              "    <tr>\n",
              "      <th>1307</th>\n",
              "      <td>29</td>\n",
              "      <td>M</td>\n",
              "      <td>S</td>\n",
              "      <td>8.0500</td>\n",
              "      <td>1</td>\n",
              "      <td>1308</td>\n",
              "      <td>3</td>\n",
              "      <td>male</td>\n",
              "      <td>Dead</td>\n",
              "      <td>0</td>\n",
              "    </tr>\n",
              "    <tr>\n",
              "      <th>1308</th>\n",
              "      <td>29</td>\n",
              "      <td>M</td>\n",
              "      <td>C</td>\n",
              "      <td>22.3583</td>\n",
              "      <td>3</td>\n",
              "      <td>1309</td>\n",
              "      <td>3</td>\n",
              "      <td>male</td>\n",
              "      <td>Dead</td>\n",
              "      <td>0</td>\n",
              "    </tr>\n",
              "  </tbody>\n",
              "</table>\n",
              "<p>1309 rows × 10 columns</p>\n",
              "</div>"
            ],
            "text/plain": [
              "      Age Cabin Embarked      Fare  ...  Pclass     Sex   Died Survived\n",
              "0      22     M        S    7.2500  ...       3    male   Dead        0\n",
              "1      38     C        C   71.2833  ...       1  female  Alive        1\n",
              "2      26     M        S    7.9250  ...       3  female  Alive        1\n",
              "3      35     C        S   53.1000  ...       1  female  Alive        1\n",
              "4      35     M        S    8.0500  ...       3    male   Dead        0\n",
              "...   ...   ...      ...       ...  ...     ...     ...    ...      ...\n",
              "1304   29     M        S    8.0500  ...       3    male   Dead        0\n",
              "1305   39     C        C  108.9000  ...       1  female  Alive        1\n",
              "1306   38     M        S    7.2500  ...       3    male   Dead        0\n",
              "1307   29     M        S    8.0500  ...       3    male   Dead        0\n",
              "1308   29     M        C   22.3583  ...       3    male   Dead        0\n",
              "\n",
              "[1309 rows x 10 columns]"
            ]
          },
          "metadata": {
            "tags": []
          },
          "execution_count": 660
        }
      ]
    },
    {
      "cell_type": "code",
      "metadata": {
        "id": "-U1UY6hUM-an"
      },
      "source": [
        "d_survived=df_titanic['Died']\n",
        "d_survived=pd.DataFrame(d_survived.value_counts().reset_index())\n",
        "d_survived.rename(columns={'index':'Survival'},inplace=True)"
      ],
      "execution_count": null,
      "outputs": []
    },
    {
      "cell_type": "code",
      "metadata": {
        "colab": {
          "base_uri": "https://localhost:8080/",
          "height": 513
        },
        "id": "gy6KchQqZCYp",
        "outputId": "70e847f5-84ff-4f9b-e337-01aefd709718"
      },
      "source": [
        "plt.figure(figsize=(4,8))\n",
        "sns.barplot(data=d_survived,x='Survival',y='Died',palette='Spectral_r')\n",
        "sns.set_style('darkgrid')\n",
        "plt.title(\"Survivors\")\n",
        "plt.ylabel('Count')\n",
        "plt.xlabel('Has Survived')\n",
        "for index,value in enumerate(d_survived['Died']):\n",
        "  plt.annotate('%.2f'%value, xy=(index-0.15,value+1), color='Black')\n",
        "plt.show()"
      ],
      "execution_count": null,
      "outputs": [
        {
          "output_type": "display_data",
          "data": {
            "image/png": "[encoded data removed]",
            "text/plain": [
              "<Figure size 288x576 with 1 Axes>"
            ]
          },
          "metadata": {
            "tags": []
          }
        }
      ]
    },
    {
      "cell_type": "code",
      "metadata": {
        "colab": {
          "base_uri": "https://localhost:8080/",
          "height": 419
        },
        "id": "BUnuBN2W_pWN",
        "outputId": "9ba89ec9-026c-4d29-ab76-f183bfc8e43b"
      },
      "source": [
        "d_ageS=df_titanic.groupby('Age')['Survived'].mean().reset_index()\n",
        "d_ageS=pd.DataFrame(d_ageS)\n",
        "d_ageS.rename(columns={'Survived':'Survival Rate'},inplace=True)\n",
        "d_ageS['Survival Rate']=(d_ageS['Survival Rate']*100).astype(int)\n",
        "d_ageS"
      ],
      "execution_count": null,
      "outputs": [
        {
          "output_type": "execute_result",
          "data": {
            "text/html": [
              "<div>\n",
              "<style scoped>\n",
              "    .dataframe tbody tr th:only-of-type {\n",
              "        vertical-align: middle;\n",
              "    }\n",
              "\n",
              "    .dataframe tbody tr th {\n",
              "        vertical-align: top;\n",
              "    }\n",
              "\n",
              "    .dataframe thead th {\n",
              "        text-align: right;\n",
              "    }\n",
              "</style>\n",
              "<table border=\"1\" class=\"dataframe\">\n",
              "  <thead>\n",
              "    <tr style=\"text-align: right;\">\n",
              "      <th></th>\n",
              "      <th>Age</th>\n",
              "      <th>Survival Rate</th>\n",
              "    </tr>\n",
              "  </thead>\n",
              "  <tbody>\n",
              "    <tr>\n",
              "      <th>0</th>\n",
              "      <td>0</td>\n",
              "      <td>75</td>\n",
              "    </tr>\n",
              "    <tr>\n",
              "      <th>1</th>\n",
              "      <td>1</td>\n",
              "      <td>80</td>\n",
              "    </tr>\n",
              "    <tr>\n",
              "      <th>2</th>\n",
              "      <td>2</td>\n",
              "      <td>33</td>\n",
              "    </tr>\n",
              "    <tr>\n",
              "      <th>3</th>\n",
              "      <td>3</td>\n",
              "      <td>85</td>\n",
              "    </tr>\n",
              "    <tr>\n",
              "      <th>4</th>\n",
              "      <td>4</td>\n",
              "      <td>70</td>\n",
              "    </tr>\n",
              "    <tr>\n",
              "      <th>...</th>\n",
              "      <td>...</td>\n",
              "      <td>...</td>\n",
              "    </tr>\n",
              "    <tr>\n",
              "      <th>68</th>\n",
              "      <td>70</td>\n",
              "      <td>0</td>\n",
              "    </tr>\n",
              "    <tr>\n",
              "      <th>69</th>\n",
              "      <td>71</td>\n",
              "      <td>0</td>\n",
              "    </tr>\n",
              "    <tr>\n",
              "      <th>70</th>\n",
              "      <td>74</td>\n",
              "      <td>0</td>\n",
              "    </tr>\n",
              "    <tr>\n",
              "      <th>71</th>\n",
              "      <td>76</td>\n",
              "      <td>100</td>\n",
              "    </tr>\n",
              "    <tr>\n",
              "      <th>72</th>\n",
              "      <td>80</td>\n",
              "      <td>100</td>\n",
              "    </tr>\n",
              "  </tbody>\n",
              "</table>\n",
              "<p>73 rows × 2 columns</p>\n",
              "</div>"
            ],
            "text/plain": [
              "    Age  Survival Rate\n",
              "0     0             75\n",
              "1     1             80\n",
              "2     2             33\n",
              "3     3             85\n",
              "4     4             70\n",
              "..  ...            ...\n",
              "68   70              0\n",
              "69   71              0\n",
              "70   74              0\n",
              "71   76            100\n",
              "72   80            100\n",
              "\n",
              "[73 rows x 2 columns]"
            ]
          },
          "metadata": {
            "tags": []
          },
          "execution_count": 663
        }
      ]
    },
    {
      "cell_type": "code",
      "metadata": {
        "id": "4c-PEN6lCumi"
      },
      "source": [
        "group=['Child(0-18 Years)','Youth(19-36 Years)','MiddleAge(37-54 Years)','Old(55-)']"
      ],
      "execution_count": null,
      "outputs": []
    },
    {
      "cell_type": "code",
      "metadata": {
        "colab": {
          "base_uri": "https://localhost:8080/",
          "height": 359
        },
        "id": "SDrYkVNiA-yr",
        "outputId": "c0b94edb-3bd1-4ff4-82f6-db75e3c414d4"
      },
      "source": [
        "d_ageS.describe(percentiles=[0,1/5,1/2,9/10,1])"
      ],
      "execution_count": null,
      "outputs": [
        {
          "output_type": "execute_result",
          "data": {
            "text/html": [
              "<div>\n",
              "<style scoped>\n",
              "    .dataframe tbody tr th:only-of-type {\n",
              "        vertical-align: middle;\n",
              "    }\n",
              "\n",
              "    .dataframe tbody tr th {\n",
              "        vertical-align: top;\n",
              "    }\n",
              "\n",
              "    .dataframe thead th {\n",
              "        text-align: right;\n",
              "    }\n",
              "</style>\n",
              "<table border=\"1\" class=\"dataframe\">\n",
              "  <thead>\n",
              "    <tr style=\"text-align: right;\">\n",
              "      <th></th>\n",
              "      <th>Age</th>\n",
              "      <th>Survival Rate</th>\n",
              "    </tr>\n",
              "  </thead>\n",
              "  <tbody>\n",
              "    <tr>\n",
              "      <th>count</th>\n",
              "      <td>73.000000</td>\n",
              "      <td>73.000000</td>\n",
              "    </tr>\n",
              "    <tr>\n",
              "      <th>mean</th>\n",
              "      <td>36.287671</td>\n",
              "      <td>39.931507</td>\n",
              "    </tr>\n",
              "    <tr>\n",
              "      <th>std</th>\n",
              "      <td>21.723310</td>\n",
              "      <td>24.497352</td>\n",
              "    </tr>\n",
              "    <tr>\n",
              "      <th>min</th>\n",
              "      <td>0.000000</td>\n",
              "      <td>0.000000</td>\n",
              "    </tr>\n",
              "    <tr>\n",
              "      <th>0%</th>\n",
              "      <td>0.000000</td>\n",
              "      <td>0.000000</td>\n",
              "    </tr>\n",
              "    <tr>\n",
              "      <th>20%</th>\n",
              "      <td>14.400000</td>\n",
              "      <td>23.200000</td>\n",
              "    </tr>\n",
              "    <tr>\n",
              "      <th>50%</th>\n",
              "      <td>36.000000</td>\n",
              "      <td>40.000000</td>\n",
              "    </tr>\n",
              "    <tr>\n",
              "      <th>90%</th>\n",
              "      <td>64.800000</td>\n",
              "      <td>75.000000</td>\n",
              "    </tr>\n",
              "    <tr>\n",
              "      <th>100%</th>\n",
              "      <td>80.000000</td>\n",
              "      <td>100.000000</td>\n",
              "    </tr>\n",
              "    <tr>\n",
              "      <th>max</th>\n",
              "      <td>80.000000</td>\n",
              "      <td>100.000000</td>\n",
              "    </tr>\n",
              "  </tbody>\n",
              "</table>\n",
              "</div>"
            ],
            "text/plain": [
              "             Age  Survival Rate\n",
              "count  73.000000      73.000000\n",
              "mean   36.287671      39.931507\n",
              "std    21.723310      24.497352\n",
              "min     0.000000       0.000000\n",
              "0%      0.000000       0.000000\n",
              "20%    14.400000      23.200000\n",
              "50%    36.000000      40.000000\n",
              "90%    64.800000      75.000000\n",
              "100%   80.000000     100.000000\n",
              "max    80.000000     100.000000"
            ]
          },
          "metadata": {
            "tags": []
          },
          "execution_count": 665
        }
      ]
    },
    {
      "cell_type": "code",
      "metadata": {
        "id": "EMrj6OLxDEwO"
      },
      "source": [
        "d_ageS['Category']=pd.qcut(d_ageS['Age'],labels=group,q=[0,1/5,1/2,9/10,1])\n",
        "d_ageS=pd.DataFrame(d_ageS)\n",
        "d_ageS=d_ageS.reset_index(drop=True)\n",
        "d_ageS.drop('Age',inplace=True,axis=1)\n",
        "d_ageS=d_ageS.groupby('Category')['Survival Rate'].mean().reset_index()"
      ],
      "execution_count": null,
      "outputs": []
    },
    {
      "cell_type": "code",
      "metadata": {
        "colab": {
          "base_uri": "https://localhost:8080/",
          "height": 513
        },
        "id": "y9MjiZkeKoaa",
        "outputId": "92c6c760-9630-427e-c2e8-9c9ecf7211e3"
      },
      "source": [
        "plt.figure(figsize=(10,8))\n",
        "sns.barplot(data=d_ageS,x='Category',y='Survival Rate',palette='coolwarm_r')\n",
        "sns.set_style('darkgrid')\n",
        "plt.title(\"Survivor Rate by Age Categorized\")\n",
        "plt.ylabel('Survival Rate %')\n",
        "plt.xlabel('Category by Percentile')\n",
        "plt.ylim(0,100)\n",
        "for index,value in enumerate(d_ageS['Survival Rate']):\n",
        "  plt.annotate('%.2f'%value+'%', xy=(index-0.15,value+0.5), color='Black')\n",
        "plt.show()"
      ],
      "execution_count": null,
      "outputs": [
        {
          "output_type": "display_data",
          "data": {
            "image/png": "[encoded data removed]",
            "text/plain": [
              "<Figure size 720x576 with 1 Axes>"
            ]
          },
          "metadata": {
            "tags": []
          }
        }
      ]
    },
    {
      "cell_type": "code",
      "metadata": {
        "colab": {
          "base_uri": "https://localhost:8080/",
          "height": 419
        },
        "id": "vIZKkyEaRFqR",
        "outputId": "e8f6526f-82a2-4092-9262-96572c30d5ea"
      },
      "source": [
        "d_fareS=df_titanic.groupby('Fare')['Survived'].mean().reset_index()\n",
        "d_fareS=pd.DataFrame(d_fareS)\n",
        "d_fareS.rename(columns={'Survived':'Survival Rate'},inplace=True)\n",
        "d_fareS['Survival Rate']=d_fareS['Survival Rate']*100\n",
        "d_fareS"
      ],
      "execution_count": null,
      "outputs": [
        {
          "output_type": "execute_result",
          "data": {
            "text/html": [
              "<div>\n",
              "<style scoped>\n",
              "    .dataframe tbody tr th:only-of-type {\n",
              "        vertical-align: middle;\n",
              "    }\n",
              "\n",
              "    .dataframe tbody tr th {\n",
              "        vertical-align: top;\n",
              "    }\n",
              "\n",
              "    .dataframe thead th {\n",
              "        text-align: right;\n",
              "    }\n",
              "</style>\n",
              "<table border=\"1\" class=\"dataframe\">\n",
              "  <thead>\n",
              "    <tr style=\"text-align: right;\">\n",
              "      <th></th>\n",
              "      <th>Fare</th>\n",
              "      <th>Survival Rate</th>\n",
              "    </tr>\n",
              "  </thead>\n",
              "  <tbody>\n",
              "    <tr>\n",
              "      <th>0</th>\n",
              "      <td>0.0000</td>\n",
              "      <td>5.882353</td>\n",
              "    </tr>\n",
              "    <tr>\n",
              "      <th>1</th>\n",
              "      <td>3.1708</td>\n",
              "      <td>0.000000</td>\n",
              "    </tr>\n",
              "    <tr>\n",
              "      <th>2</th>\n",
              "      <td>4.0125</td>\n",
              "      <td>0.000000</td>\n",
              "    </tr>\n",
              "    <tr>\n",
              "      <th>3</th>\n",
              "      <td>5.0000</td>\n",
              "      <td>0.000000</td>\n",
              "    </tr>\n",
              "    <tr>\n",
              "      <th>4</th>\n",
              "      <td>6.2375</td>\n",
              "      <td>0.000000</td>\n",
              "    </tr>\n",
              "    <tr>\n",
              "      <th>...</th>\n",
              "      <td>...</td>\n",
              "      <td>...</td>\n",
              "    </tr>\n",
              "    <tr>\n",
              "      <th>277</th>\n",
              "      <td>227.5250</td>\n",
              "      <td>60.000000</td>\n",
              "    </tr>\n",
              "    <tr>\n",
              "      <th>278</th>\n",
              "      <td>247.5208</td>\n",
              "      <td>66.666667</td>\n",
              "    </tr>\n",
              "    <tr>\n",
              "      <th>279</th>\n",
              "      <td>262.3750</td>\n",
              "      <td>71.428571</td>\n",
              "    </tr>\n",
              "    <tr>\n",
              "      <th>280</th>\n",
              "      <td>263.0000</td>\n",
              "      <td>66.666667</td>\n",
              "    </tr>\n",
              "    <tr>\n",
              "      <th>281</th>\n",
              "      <td>512.3292</td>\n",
              "      <td>100.000000</td>\n",
              "    </tr>\n",
              "  </tbody>\n",
              "</table>\n",
              "<p>282 rows × 2 columns</p>\n",
              "</div>"
            ],
            "text/plain": [
              "         Fare  Survival Rate\n",
              "0      0.0000       5.882353\n",
              "1      3.1708       0.000000\n",
              "2      4.0125       0.000000\n",
              "3      5.0000       0.000000\n",
              "4      6.2375       0.000000\n",
              "..        ...            ...\n",
              "277  227.5250      60.000000\n",
              "278  247.5208      66.666667\n",
              "279  262.3750      71.428571\n",
              "280  263.0000      66.666667\n",
              "281  512.3292     100.000000\n",
              "\n",
              "[282 rows x 2 columns]"
            ]
          },
          "metadata": {
            "tags": []
          },
          "execution_count": 668
        }
      ]
    },
    {
      "cell_type": "code",
      "metadata": {
        "id": "uoNCxnNC7tJw"
      },
      "source": [
        "group=['Low(33th%)','Mid(33-50th%)','High(50-75th%)','Top End(75-100th%)']"
      ],
      "execution_count": null,
      "outputs": []
    },
    {
      "cell_type": "code",
      "metadata": {
        "colab": {
          "base_uri": "https://localhost:8080/",
          "height": 359
        },
        "id": "Cj_fy344_zOH",
        "outputId": "c8f825d6-d4ff-407b-87aa-9d2b5a53cb7c"
      },
      "source": [
        "d_fareS.describe(percentiles=[0, 1/3, 3/4, 1])"
      ],
      "execution_count": null,
      "outputs": [
        {
          "output_type": "execute_result",
          "data": {
            "text/html": [
              "<div>\n",
              "<style scoped>\n",
              "    .dataframe tbody tr th:only-of-type {\n",
              "        vertical-align: middle;\n",
              "    }\n",
              "\n",
              "    .dataframe tbody tr th {\n",
              "        vertical-align: top;\n",
              "    }\n",
              "\n",
              "    .dataframe thead th {\n",
              "        text-align: right;\n",
              "    }\n",
              "</style>\n",
              "<table border=\"1\" class=\"dataframe\">\n",
              "  <thead>\n",
              "    <tr style=\"text-align: right;\">\n",
              "      <th></th>\n",
              "      <th>Fare</th>\n",
              "      <th>Survival Rate</th>\n",
              "    </tr>\n",
              "  </thead>\n",
              "  <tbody>\n",
              "    <tr>\n",
              "      <th>count</th>\n",
              "      <td>282.000000</td>\n",
              "      <td>282.000000</td>\n",
              "    </tr>\n",
              "    <tr>\n",
              "      <th>mean</th>\n",
              "      <td>38.845278</td>\n",
              "      <td>42.285535</td>\n",
              "    </tr>\n",
              "    <tr>\n",
              "      <th>std</th>\n",
              "      <td>52.997266</td>\n",
              "      <td>38.595774</td>\n",
              "    </tr>\n",
              "    <tr>\n",
              "      <th>min</th>\n",
              "      <td>0.000000</td>\n",
              "      <td>0.000000</td>\n",
              "    </tr>\n",
              "    <tr>\n",
              "      <th>0%</th>\n",
              "      <td>0.000000</td>\n",
              "      <td>0.000000</td>\n",
              "    </tr>\n",
              "    <tr>\n",
              "      <th>33.3%</th>\n",
              "      <td>12.283333</td>\n",
              "      <td>0.000000</td>\n",
              "    </tr>\n",
              "    <tr>\n",
              "      <th>50%</th>\n",
              "      <td>20.387500</td>\n",
              "      <td>50.000000</td>\n",
              "    </tr>\n",
              "    <tr>\n",
              "      <th>75%</th>\n",
              "      <td>49.503150</td>\n",
              "      <td>74.107143</td>\n",
              "    </tr>\n",
              "    <tr>\n",
              "      <th>100%</th>\n",
              "      <td>512.329200</td>\n",
              "      <td>100.000000</td>\n",
              "    </tr>\n",
              "    <tr>\n",
              "      <th>max</th>\n",
              "      <td>512.329200</td>\n",
              "      <td>100.000000</td>\n",
              "    </tr>\n",
              "  </tbody>\n",
              "</table>\n",
              "</div>"
            ],
            "text/plain": [
              "             Fare  Survival Rate\n",
              "count  282.000000     282.000000\n",
              "mean    38.845278      42.285535\n",
              "std     52.997266      38.595774\n",
              "min      0.000000       0.000000\n",
              "0%       0.000000       0.000000\n",
              "33.3%   12.283333       0.000000\n",
              "50%     20.387500      50.000000\n",
              "75%     49.503150      74.107143\n",
              "100%   512.329200     100.000000\n",
              "max    512.329200     100.000000"
            ]
          },
          "metadata": {
            "tags": []
          },
          "execution_count": 670
        }
      ]
    },
    {
      "cell_type": "code",
      "metadata": {
        "colab": {
          "base_uri": "https://localhost:8080/",
          "height": 419
        },
        "id": "lYnMazOV6DG8",
        "outputId": "b936fef8-6def-494e-e59a-8054bd5218e9"
      },
      "source": [
        "d_fareS['Cost_Range']=pd.qcut(d_fareS['Fare'],labels=group,q=[0,1/3,1/2,3/4,1])\n",
        "d_fareS=pd.DataFrame(d_fareS)\n",
        "d_fareS=d_fareS.reset_index(drop=True)\n",
        "d_fareS"
      ],
      "execution_count": null,
      "outputs": [
        {
          "output_type": "execute_result",
          "data": {
            "text/html": [
              "<div>\n",
              "<style scoped>\n",
              "    .dataframe tbody tr th:only-of-type {\n",
              "        vertical-align: middle;\n",
              "    }\n",
              "\n",
              "    .dataframe tbody tr th {\n",
              "        vertical-align: top;\n",
              "    }\n",
              "\n",
              "    .dataframe thead th {\n",
              "        text-align: right;\n",
              "    }\n",
              "</style>\n",
              "<table border=\"1\" class=\"dataframe\">\n",
              "  <thead>\n",
              "    <tr style=\"text-align: right;\">\n",
              "      <th></th>\n",
              "      <th>Fare</th>\n",
              "      <th>Survival Rate</th>\n",
              "      <th>Cost_Range</th>\n",
              "    </tr>\n",
              "  </thead>\n",
              "  <tbody>\n",
              "    <tr>\n",
              "      <th>0</th>\n",
              "      <td>0.0000</td>\n",
              "      <td>5.882353</td>\n",
              "      <td>Low(33th%)</td>\n",
              "    </tr>\n",
              "    <tr>\n",
              "      <th>1</th>\n",
              "      <td>3.1708</td>\n",
              "      <td>0.000000</td>\n",
              "      <td>Low(33th%)</td>\n",
              "    </tr>\n",
              "    <tr>\n",
              "      <th>2</th>\n",
              "      <td>4.0125</td>\n",
              "      <td>0.000000</td>\n",
              "      <td>Low(33th%)</td>\n",
              "    </tr>\n",
              "    <tr>\n",
              "      <th>3</th>\n",
              "      <td>5.0000</td>\n",
              "      <td>0.000000</td>\n",
              "      <td>Low(33th%)</td>\n",
              "    </tr>\n",
              "    <tr>\n",
              "      <th>4</th>\n",
              "      <td>6.2375</td>\n",
              "      <td>0.000000</td>\n",
              "      <td>Low(33th%)</td>\n",
              "    </tr>\n",
              "    <tr>\n",
              "      <th>...</th>\n",
              "      <td>...</td>\n",
              "      <td>...</td>\n",
              "      <td>...</td>\n",
              "    </tr>\n",
              "    <tr>\n",
              "      <th>277</th>\n",
              "      <td>227.5250</td>\n",
              "      <td>60.000000</td>\n",
              "      <td>Top End(75-100th%)</td>\n",
              "    </tr>\n",
              "    <tr>\n",
              "      <th>278</th>\n",
              "      <td>247.5208</td>\n",
              "      <td>66.666667</td>\n",
              "      <td>Top End(75-100th%)</td>\n",
              "    </tr>\n",
              "    <tr>\n",
              "      <th>279</th>\n",
              "      <td>262.3750</td>\n",
              "      <td>71.428571</td>\n",
              "      <td>Top End(75-100th%)</td>\n",
              "    </tr>\n",
              "    <tr>\n",
              "      <th>280</th>\n",
              "      <td>263.0000</td>\n",
              "      <td>66.666667</td>\n",
              "      <td>Top End(75-100th%)</td>\n",
              "    </tr>\n",
              "    <tr>\n",
              "      <th>281</th>\n",
              "      <td>512.3292</td>\n",
              "      <td>100.000000</td>\n",
              "      <td>Top End(75-100th%)</td>\n",
              "    </tr>\n",
              "  </tbody>\n",
              "</table>\n",
              "<p>282 rows × 3 columns</p>\n",
              "</div>"
            ],
            "text/plain": [
              "         Fare  Survival Rate          Cost_Range\n",
              "0      0.0000       5.882353          Low(33th%)\n",
              "1      3.1708       0.000000          Low(33th%)\n",
              "2      4.0125       0.000000          Low(33th%)\n",
              "3      5.0000       0.000000          Low(33th%)\n",
              "4      6.2375       0.000000          Low(33th%)\n",
              "..        ...            ...                 ...\n",
              "277  227.5250      60.000000  Top End(75-100th%)\n",
              "278  247.5208      66.666667  Top End(75-100th%)\n",
              "279  262.3750      71.428571  Top End(75-100th%)\n",
              "280  263.0000      66.666667  Top End(75-100th%)\n",
              "281  512.3292     100.000000  Top End(75-100th%)\n",
              "\n",
              "[282 rows x 3 columns]"
            ]
          },
          "metadata": {
            "tags": []
          },
          "execution_count": 671
        }
      ]
    },
    {
      "cell_type": "code",
      "metadata": {
        "id": "EhDj6jWX6ZJp"
      },
      "source": [
        "d_fareS=pd.DataFrame(d_fareS.groupby('Cost_Range')['Survival Rate'].mean().reset_index())\n"
      ],
      "execution_count": null,
      "outputs": []
    },
    {
      "cell_type": "code",
      "metadata": {
        "colab": {
          "base_uri": "https://localhost:8080/",
          "height": 730
        },
        "id": "3yTpxGIw7UV3",
        "outputId": "6192ffbd-a449-48d8-dbc2-e37068e78015"
      },
      "source": [
        "plt.figure(figsize=(8,12))\n",
        "sns.barplot(data=d_fareS,x='Cost_Range',y='Survival Rate',palette='Greens')\n",
        "sns.set_style('darkgrid')\n",
        "plt.ylabel('Survival Rate %')\n",
        "plt.xlabel('Cost Range by Percentile')\n",
        "plt.title(\"Survivor Rate by Ticket Cost Categorized\")\n",
        "plt.ylim(0,100)\n",
        "for index, value in enumerate(d_fareS['Survival Rate']):\n",
        "  plt.annotate('%.2f'%value+'%', xy=(index-0.15,value+0.5), color='Black')\n",
        "plt.show()"
      ],
      "execution_count": null,
      "outputs": [
        {
          "output_type": "display_data",
          "data": {
            "image/png": "[encoded data removed]",
            "text/plain": [
              "<Figure size 576x864 with 1 Axes>"
            ]
          },
          "metadata": {
            "tags": []
          }
        }
      ]
    },
    {
      "cell_type": "code",
      "metadata": {
        "id": "LN83315V-GIg"
      },
      "source": [
        "d_cabin=df_titanic.groupby('Cabin')['Survived'].mean().reset_index()\n",
        "d_cabin.rename(columns={'Survived':'Survival Rate'},inplace=True)\n",
        "d_cabin['Survival Rate']=d_cabin['Survival Rate']*100"
      ],
      "execution_count": null,
      "outputs": []
    },
    {
      "cell_type": "code",
      "metadata": {
        "colab": {
          "base_uri": "https://localhost:8080/",
          "height": 328
        },
        "id": "LfSVNZi23yCT",
        "outputId": "27e81083-1333-4af9-f5ac-aafb784d35db"
      },
      "source": [
        "d_cabin"
      ],
      "execution_count": null,
      "outputs": [
        {
          "output_type": "execute_result",
          "data": {
            "text/html": [
              "<div>\n",
              "<style scoped>\n",
              "    .dataframe tbody tr th:only-of-type {\n",
              "        vertical-align: middle;\n",
              "    }\n",
              "\n",
              "    .dataframe tbody tr th {\n",
              "        vertical-align: top;\n",
              "    }\n",
              "\n",
              "    .dataframe thead th {\n",
              "        text-align: right;\n",
              "    }\n",
              "</style>\n",
              "<table border=\"1\" class=\"dataframe\">\n",
              "  <thead>\n",
              "    <tr style=\"text-align: right;\">\n",
              "      <th></th>\n",
              "      <th>Cabin</th>\n",
              "      <th>Survival Rate</th>\n",
              "    </tr>\n",
              "  </thead>\n",
              "  <tbody>\n",
              "    <tr>\n",
              "      <th>0</th>\n",
              "      <td>A</td>\n",
              "      <td>45.454545</td>\n",
              "    </tr>\n",
              "    <tr>\n",
              "      <th>1</th>\n",
              "      <td>B</td>\n",
              "      <td>67.692308</td>\n",
              "    </tr>\n",
              "    <tr>\n",
              "      <th>2</th>\n",
              "      <td>C</td>\n",
              "      <td>57.446809</td>\n",
              "    </tr>\n",
              "    <tr>\n",
              "      <th>3</th>\n",
              "      <td>D</td>\n",
              "      <td>65.217391</td>\n",
              "    </tr>\n",
              "    <tr>\n",
              "      <th>4</th>\n",
              "      <td>E</td>\n",
              "      <td>68.292683</td>\n",
              "    </tr>\n",
              "    <tr>\n",
              "      <th>5</th>\n",
              "      <td>F</td>\n",
              "      <td>52.380952</td>\n",
              "    </tr>\n",
              "    <tr>\n",
              "      <th>6</th>\n",
              "      <td>G</td>\n",
              "      <td>60.000000</td>\n",
              "    </tr>\n",
              "    <tr>\n",
              "      <th>7</th>\n",
              "      <td>M</td>\n",
              "      <td>30.966469</td>\n",
              "    </tr>\n",
              "    <tr>\n",
              "      <th>8</th>\n",
              "      <td>T</td>\n",
              "      <td>0.000000</td>\n",
              "    </tr>\n",
              "  </tbody>\n",
              "</table>\n",
              "</div>"
            ],
            "text/plain": [
              "  Cabin  Survival Rate\n",
              "0     A      45.454545\n",
              "1     B      67.692308\n",
              "2     C      57.446809\n",
              "3     D      65.217391\n",
              "4     E      68.292683\n",
              "5     F      52.380952\n",
              "6     G      60.000000\n",
              "7     M      30.966469\n",
              "8     T       0.000000"
            ]
          },
          "metadata": {
            "tags": []
          },
          "execution_count": 675
        }
      ]
    },
    {
      "cell_type": "code",
      "metadata": {
        "colab": {
          "base_uri": "https://localhost:8080/",
          "height": 513
        },
        "id": "OYeb8MPzOwUo",
        "outputId": "40d76472-1fb8-42a2-9863-ce9ba087eb65"
      },
      "source": [
        "plt.figure(figsize=(14,8))\n",
        "sns.barplot(data=d_cabin,y='Cabin',x='Survival Rate',palette='Reds')\n",
        "sns.set_style('darkgrid')\n",
        "plt.title(\"Survivor Rate by Cabin Categorized\")\n",
        "plt.ylabel('Survival Rate %')\n",
        "plt.xlim(0,100)\n",
        "for index, value in enumerate(d_cabin['Survival Rate']):\n",
        "  plt.annotate('%.2f'%value+'%', xy=(value - 8, index - 0), color='Black')\n",
        "plt.show()"
      ],
      "execution_count": null,
      "outputs": [
        {
          "output_type": "display_data",
          "data": {
            "image/png": "[encoded data removed]",
            "text/plain": [
              "<Figure size 1008x576 with 1 Axes>"
            ]
          },
          "metadata": {
            "tags": []
          }
        }
      ]
    },
    {
      "cell_type": "code",
      "metadata": {
        "id": "owivmU-wS5AT"
      },
      "source": [
        "d_socioeco=df_titanic.groupby('Pclass')['Survived'].mean().reset_index()\n",
        "d_socioeco.rename(columns={'Survived':'Survival Rate'},inplace=True)\n",
        "d_socioeco['Survival Rate']=d_socioeco['Survival Rate']*100"
      ],
      "execution_count": null,
      "outputs": []
    },
    {
      "cell_type": "code",
      "metadata": {
        "colab": {
          "base_uri": "https://localhost:8080/",
          "height": 142
        },
        "id": "9LE9xqrbT8eA",
        "outputId": "afabb5a9-b50e-42d1-9591-90286c22b5cd"
      },
      "source": [
        "d_socioeco"
      ],
      "execution_count": null,
      "outputs": [
        {
          "output_type": "execute_result",
          "data": {
            "text/html": [
              "<div>\n",
              "<style scoped>\n",
              "    .dataframe tbody tr th:only-of-type {\n",
              "        vertical-align: middle;\n",
              "    }\n",
              "\n",
              "    .dataframe tbody tr th {\n",
              "        vertical-align: top;\n",
              "    }\n",
              "\n",
              "    .dataframe thead th {\n",
              "        text-align: right;\n",
              "    }\n",
              "</style>\n",
              "<table border=\"1\" class=\"dataframe\">\n",
              "  <thead>\n",
              "    <tr style=\"text-align: right;\">\n",
              "      <th></th>\n",
              "      <th>Pclass</th>\n",
              "      <th>Survival Rate</th>\n",
              "    </tr>\n",
              "  </thead>\n",
              "  <tbody>\n",
              "    <tr>\n",
              "      <th>0</th>\n",
              "      <td>1</td>\n",
              "      <td>57.585139</td>\n",
              "    </tr>\n",
              "    <tr>\n",
              "      <th>1</th>\n",
              "      <td>2</td>\n",
              "      <td>42.238267</td>\n",
              "    </tr>\n",
              "    <tr>\n",
              "      <th>2</th>\n",
              "      <td>3</td>\n",
              "      <td>26.939351</td>\n",
              "    </tr>\n",
              "  </tbody>\n",
              "</table>\n",
              "</div>"
            ],
            "text/plain": [
              "   Pclass  Survival Rate\n",
              "0       1      57.585139\n",
              "1       2      42.238267\n",
              "2       3      26.939351"
            ]
          },
          "metadata": {
            "tags": []
          },
          "execution_count": 678
        }
      ]
    },
    {
      "cell_type": "code",
      "metadata": {
        "colab": {
          "base_uri": "https://localhost:8080/",
          "height": 513
        },
        "id": "GUS5YkJqUGHM",
        "outputId": "ccb992ef-b21f-409e-c8ee-d516672b2e34"
      },
      "source": [
        "plt.figure(figsize=(6,8))\n",
        "sns.barplot(data=d_socioeco,x='Pclass',y='Survival Rate',palette='coolwarm_r')\n",
        "sns.set_style('darkgrid')\n",
        "plt.title(\"Survivor Rate by Socio-Economic Condition\")\n",
        "plt.ylabel('Survival Rate %')\n",
        "plt.xlabel('Socio-Eco Status( 1 > 2 > 3)')\n",
        "plt.ylim(0,100)\n",
        "for index, value in enumerate(d_socioeco['Survival Rate']):\n",
        "  plt.annotate('%.2f'%value+'%', xy=(index-0.15,value+0.5), color='Black')\n",
        "plt.show()"
      ],
      "execution_count": null,
      "outputs": [
        {
          "output_type": "display_data",
          "data": {
            "image/png": "[encoded data removed]",
            "text/plain": [
              "<Figure size 432x576 with 1 Axes>"
            ]
          },
          "metadata": {
            "tags": []
          }
        }
      ]
    },
    {
      "cell_type": "code",
      "metadata": {
        "colab": {
          "base_uri": "https://localhost:8080/",
          "height": 419
        },
        "id": "5mTi-0qNdZuI",
        "outputId": "bc1dc9fd-7ef9-4376-8b0f-89c05af79ea6"
      },
      "source": [
        "df_titanic"
      ],
      "execution_count": null,
      "outputs": [
        {
          "output_type": "execute_result",
          "data": {
            "text/html": [
              "<div>\n",
              "<style scoped>\n",
              "    .dataframe tbody tr th:only-of-type {\n",
              "        vertical-align: middle;\n",
              "    }\n",
              "\n",
              "    .dataframe tbody tr th {\n",
              "        vertical-align: top;\n",
              "    }\n",
              "\n",
              "    .dataframe thead th {\n",
              "        text-align: right;\n",
              "    }\n",
              "</style>\n",
              "<table border=\"1\" class=\"dataframe\">\n",
              "  <thead>\n",
              "    <tr style=\"text-align: right;\">\n",
              "      <th></th>\n",
              "      <th>Age</th>\n",
              "      <th>Cabin</th>\n",
              "      <th>Embarked</th>\n",
              "      <th>Fare</th>\n",
              "      <th>Fsize</th>\n",
              "      <th>PassengerId</th>\n",
              "      <th>Pclass</th>\n",
              "      <th>Sex</th>\n",
              "      <th>Died</th>\n",
              "      <th>Survived</th>\n",
              "    </tr>\n",
              "  </thead>\n",
              "  <tbody>\n",
              "    <tr>\n",
              "      <th>0</th>\n",
              "      <td>22</td>\n",
              "      <td>M</td>\n",
              "      <td>S</td>\n",
              "      <td>7.2500</td>\n",
              "      <td>2</td>\n",
              "      <td>1</td>\n",
              "      <td>3</td>\n",
              "      <td>male</td>\n",
              "      <td>Dead</td>\n",
              "      <td>0</td>\n",
              "    </tr>\n",
              "    <tr>\n",
              "      <th>1</th>\n",
              "      <td>38</td>\n",
              "      <td>C</td>\n",
              "      <td>C</td>\n",
              "      <td>71.2833</td>\n",
              "      <td>2</td>\n",
              "      <td>2</td>\n",
              "      <td>1</td>\n",
              "      <td>female</td>\n",
              "      <td>Alive</td>\n",
              "      <td>1</td>\n",
              "    </tr>\n",
              "    <tr>\n",
              "      <th>2</th>\n",
              "      <td>26</td>\n",
              "      <td>M</td>\n",
              "      <td>S</td>\n",
              "      <td>7.9250</td>\n",
              "      <td>1</td>\n",
              "      <td>3</td>\n",
              "      <td>3</td>\n",
              "      <td>female</td>\n",
              "      <td>Alive</td>\n",
              "      <td>1</td>\n",
              "    </tr>\n",
              "    <tr>\n",
              "      <th>3</th>\n",
              "      <td>35</td>\n",
              "      <td>C</td>\n",
              "      <td>S</td>\n",
              "      <td>53.1000</td>\n",
              "      <td>2</td>\n",
              "      <td>4</td>\n",
              "      <td>1</td>\n",
              "      <td>female</td>\n",
              "      <td>Alive</td>\n",
              "      <td>1</td>\n",
              "    </tr>\n",
              "    <tr>\n",
              "      <th>4</th>\n",
              "      <td>35</td>\n",
              "      <td>M</td>\n",
              "      <td>S</td>\n",
              "      <td>8.0500</td>\n",
              "      <td>1</td>\n",
              "      <td>5</td>\n",
              "      <td>3</td>\n",
              "      <td>male</td>\n",
              "      <td>Dead</td>\n",
              "      <td>0</td>\n",
              "    </tr>\n",
              "    <tr>\n",
              "      <th>...</th>\n",
              "      <td>...</td>\n",
              "      <td>...</td>\n",
              "      <td>...</td>\n",
              "      <td>...</td>\n",
              "      <td>...</td>\n",
              "      <td>...</td>\n",
              "      <td>...</td>\n",
              "      <td>...</td>\n",
              "      <td>...</td>\n",
              "      <td>...</td>\n",
              "    </tr>\n",
              "    <tr>\n",
              "      <th>1304</th>\n",
              "      <td>29</td>\n",
              "      <td>M</td>\n",
              "      <td>S</td>\n",
              "      <td>8.0500</td>\n",
              "      <td>1</td>\n",
              "      <td>1305</td>\n",
              "      <td>3</td>\n",
              "      <td>male</td>\n",
              "      <td>Dead</td>\n",
              "      <td>0</td>\n",
              "    </tr>\n",
              "    <tr>\n",
              "      <th>1305</th>\n",
              "      <td>39</td>\n",
              "      <td>C</td>\n",
              "      <td>C</td>\n",
              "      <td>108.9000</td>\n",
              "      <td>1</td>\n",
              "      <td>1306</td>\n",
              "      <td>1</td>\n",
              "      <td>female</td>\n",
              "      <td>Alive</td>\n",
              "      <td>1</td>\n",
              "    </tr>\n",
              "    <tr>\n",
              "      <th>1306</th>\n",
              "      <td>38</td>\n",
              "      <td>M</td>\n",
              "      <td>S</td>\n",
              "      <td>7.2500</td>\n",
              "      <td>1</td>\n",
              "      <td>1307</td>\n",
              "      <td>3</td>\n",
              "      <td>male</td>\n",
              "      <td>Dead</td>\n",
              "      <td>0</td>\n",
              "    </tr>\n",
              "    <tr>\n",
              "      <th>1307</th>\n",
              "      <td>29</td>\n",
              "      <td>M</td>\n",
              "      <td>S</td>\n",
              "      <td>8.0500</td>\n",
              "      <td>1</td>\n",
              "      <td>1308</td>\n",
              "      <td>3</td>\n",
              "      <td>male</td>\n",
              "      <td>Dead</td>\n",
              "      <td>0</td>\n",
              "    </tr>\n",
              "    <tr>\n",
              "      <th>1308</th>\n",
              "      <td>29</td>\n",
              "      <td>M</td>\n",
              "      <td>C</td>\n",
              "      <td>22.3583</td>\n",
              "      <td>3</td>\n",
              "      <td>1309</td>\n",
              "      <td>3</td>\n",
              "      <td>male</td>\n",
              "      <td>Dead</td>\n",
              "      <td>0</td>\n",
              "    </tr>\n",
              "  </tbody>\n",
              "</table>\n",
              "<p>1309 rows × 10 columns</p>\n",
              "</div>"
            ],
            "text/plain": [
              "      Age Cabin Embarked      Fare  ...  Pclass     Sex   Died Survived\n",
              "0      22     M        S    7.2500  ...       3    male   Dead        0\n",
              "1      38     C        C   71.2833  ...       1  female  Alive        1\n",
              "2      26     M        S    7.9250  ...       3  female  Alive        1\n",
              "3      35     C        S   53.1000  ...       1  female  Alive        1\n",
              "4      35     M        S    8.0500  ...       3    male   Dead        0\n",
              "...   ...   ...      ...       ...  ...     ...     ...    ...      ...\n",
              "1304   29     M        S    8.0500  ...       3    male   Dead        0\n",
              "1305   39     C        C  108.9000  ...       1  female  Alive        1\n",
              "1306   38     M        S    7.2500  ...       3    male   Dead        0\n",
              "1307   29     M        S    8.0500  ...       3    male   Dead        0\n",
              "1308   29     M        C   22.3583  ...       3    male   Dead        0\n",
              "\n",
              "[1309 rows x 10 columns]"
            ]
          },
          "metadata": {
            "tags": []
          },
          "execution_count": 680
        }
      ]
    },
    {
      "cell_type": "code",
      "metadata": {
        "id": "ONHn9oUJe78h"
      },
      "source": [
        "d_family=df_titanic.groupby('Fsize')['Survived'].mean().reset_index()\n",
        "d_family.rename(columns={'Survived':'Survival Rate'},inplace=True)\n",
        "d_family['Survival Rate']=d_family['Survival Rate']*100"
      ],
      "execution_count": null,
      "outputs": []
    },
    {
      "cell_type": "code",
      "metadata": {
        "colab": {
          "base_uri": "https://localhost:8080/",
          "height": 328
        },
        "id": "2FF5iVDvfGvb",
        "outputId": "b0cdcd96-f17b-4a45-edba-1a8f7f175909"
      },
      "source": [
        "d_family"
      ],
      "execution_count": null,
      "outputs": [
        {
          "output_type": "execute_result",
          "data": {
            "text/html": [
              "<div>\n",
              "<style scoped>\n",
              "    .dataframe tbody tr th:only-of-type {\n",
              "        vertical-align: middle;\n",
              "    }\n",
              "\n",
              "    .dataframe tbody tr th {\n",
              "        vertical-align: top;\n",
              "    }\n",
              "\n",
              "    .dataframe thead th {\n",
              "        text-align: right;\n",
              "    }\n",
              "</style>\n",
              "<table border=\"1\" class=\"dataframe\">\n",
              "  <thead>\n",
              "    <tr style=\"text-align: right;\">\n",
              "      <th></th>\n",
              "      <th>Fsize</th>\n",
              "      <th>Survival Rate</th>\n",
              "    </tr>\n",
              "  </thead>\n",
              "  <tbody>\n",
              "    <tr>\n",
              "      <th>0</th>\n",
              "      <td>1</td>\n",
              "      <td>29.240506</td>\n",
              "    </tr>\n",
              "    <tr>\n",
              "      <th>1</th>\n",
              "      <td>2</td>\n",
              "      <td>53.191489</td>\n",
              "    </tr>\n",
              "    <tr>\n",
              "      <th>2</th>\n",
              "      <td>3</td>\n",
              "      <td>55.974843</td>\n",
              "    </tr>\n",
              "    <tr>\n",
              "      <th>3</th>\n",
              "      <td>4</td>\n",
              "      <td>72.093023</td>\n",
              "    </tr>\n",
              "    <tr>\n",
              "      <th>4</th>\n",
              "      <td>5</td>\n",
              "      <td>22.727273</td>\n",
              "    </tr>\n",
              "    <tr>\n",
              "      <th>5</th>\n",
              "      <td>6</td>\n",
              "      <td>20.000000</td>\n",
              "    </tr>\n",
              "    <tr>\n",
              "      <th>6</th>\n",
              "      <td>7</td>\n",
              "      <td>31.250000</td>\n",
              "    </tr>\n",
              "    <tr>\n",
              "      <th>7</th>\n",
              "      <td>8</td>\n",
              "      <td>12.500000</td>\n",
              "    </tr>\n",
              "    <tr>\n",
              "      <th>8</th>\n",
              "      <td>11</td>\n",
              "      <td>18.181818</td>\n",
              "    </tr>\n",
              "  </tbody>\n",
              "</table>\n",
              "</div>"
            ],
            "text/plain": [
              "   Fsize  Survival Rate\n",
              "0      1      29.240506\n",
              "1      2      53.191489\n",
              "2      3      55.974843\n",
              "3      4      72.093023\n",
              "4      5      22.727273\n",
              "5      6      20.000000\n",
              "6      7      31.250000\n",
              "7      8      12.500000\n",
              "8     11      18.181818"
            ]
          },
          "metadata": {
            "tags": []
          },
          "execution_count": 682
        }
      ]
    },
    {
      "cell_type": "code",
      "metadata": {
        "colab": {
          "base_uri": "https://localhost:8080/",
          "height": 513
        },
        "id": "9rlMZc7Rfduw",
        "outputId": "93e7e655-ff8f-47af-88f9-0aa39d5db22a"
      },
      "source": [
        "plt.figure(figsize=(14,8))\n",
        "sns.set_style('darkgrid')\n",
        "sns.barplot(data=d_family,y='Fsize',x='Survival Rate',palette='coolwarm_r',orient='h')\n",
        "plt.title(\"Survivor Rate by Family Size\")\n",
        "plt.xlabel('Survival Rate %')\n",
        "plt.ylabel('Family Size')\n",
        "plt.xlim(0,100)\n",
        "for index, value in enumerate(d_family['Survival Rate']):\n",
        "  plt.annotate('%.2f'%value+'%', xy=(value - 6, index - 0), color='Black')\n",
        "plt.show()"
      ],
      "execution_count": null,
      "outputs": [
        {
          "output_type": "display_data",
          "data": {
            "image/png": "[encoded data removed]",
            "text/plain": [
              "<Figure size 1008x576 with 1 Axes>"
            ]
          },
          "metadata": {
            "tags": []
          }
        }
      ]
    },
    {
      "cell_type": "code",
      "metadata": {
        "colab": {
          "base_uri": "https://localhost:8080/",
          "height": 623
        },
        "id": "DdD8Eezrf1Bi",
        "outputId": "753c29ec-d32f-4408-c294-32cdb4d1a412"
      },
      "source": [
        "plt.figure(figsize=(12,10))\n",
        "plt.xlim(0,300)\n",
        "sns.scatterplot(data=df_titanic,x='Fare',y='Age',hue='Died',style='Sex')"
      ],
      "execution_count": null,
      "outputs": [
        {
          "output_type": "execute_result",
          "data": {
            "text/plain": [
              "<matplotlib.axes._subplots.AxesSubplot at 0x7fed392836d0>"
            ]
          },
          "metadata": {
            "tags": []
          },
          "execution_count": 684
        },
        {
          "output_type": "display_data",
          "data": {
            "image/png": "[encoded data removed]",
            "text/plain": [
              "<Figure size 864x720 with 1 Axes>"
            ]
          },
          "metadata": {
            "tags": []
          }
        }
      ]
    },
    {
      "cell_type": "code",
      "metadata": {
        "colab": {
          "base_uri": "https://localhost:8080/",
          "height": 419
        },
        "id": "aKsb0nBBlNSK",
        "outputId": "6cce9d2c-b685-4aed-c4c0-8bdb766ced7a"
      },
      "source": [
        "df_titanic"
      ],
      "execution_count": null,
      "outputs": [
        {
          "output_type": "execute_result",
          "data": {
            "text/html": [
              "<div>\n",
              "<style scoped>\n",
              "    .dataframe tbody tr th:only-of-type {\n",
              "        vertical-align: middle;\n",
              "    }\n",
              "\n",
              "    .dataframe tbody tr th {\n",
              "        vertical-align: top;\n",
              "    }\n",
              "\n",
              "    .dataframe thead th {\n",
              "        text-align: right;\n",
              "    }\n",
              "</style>\n",
              "<table border=\"1\" class=\"dataframe\">\n",
              "  <thead>\n",
              "    <tr style=\"text-align: right;\">\n",
              "      <th></th>\n",
              "      <th>Age</th>\n",
              "      <th>Cabin</th>\n",
              "      <th>Embarked</th>\n",
              "      <th>Fare</th>\n",
              "      <th>Fsize</th>\n",
              "      <th>PassengerId</th>\n",
              "      <th>Pclass</th>\n",
              "      <th>Sex</th>\n",
              "      <th>Died</th>\n",
              "      <th>Survived</th>\n",
              "    </tr>\n",
              "  </thead>\n",
              "  <tbody>\n",
              "    <tr>\n",
              "      <th>0</th>\n",
              "      <td>22</td>\n",
              "      <td>M</td>\n",
              "      <td>S</td>\n",
              "      <td>7.2500</td>\n",
              "      <td>2</td>\n",
              "      <td>1</td>\n",
              "      <td>3</td>\n",
              "      <td>male</td>\n",
              "      <td>Dead</td>\n",
              "      <td>0</td>\n",
              "    </tr>\n",
              "    <tr>\n",
              "      <th>1</th>\n",
              "      <td>38</td>\n",
              "      <td>C</td>\n",
              "      <td>C</td>\n",
              "      <td>71.2833</td>\n",
              "      <td>2</td>\n",
              "      <td>2</td>\n",
              "      <td>1</td>\n",
              "      <td>female</td>\n",
              "      <td>Alive</td>\n",
              "      <td>1</td>\n",
              "    </tr>\n",
              "    <tr>\n",
              "      <th>2</th>\n",
              "      <td>26</td>\n",
              "      <td>M</td>\n",
              "      <td>S</td>\n",
              "      <td>7.9250</td>\n",
              "      <td>1</td>\n",
              "      <td>3</td>\n",
              "      <td>3</td>\n",
              "      <td>female</td>\n",
              "      <td>Alive</td>\n",
              "      <td>1</td>\n",
              "    </tr>\n",
              "    <tr>\n",
              "      <th>3</th>\n",
              "      <td>35</td>\n",
              "      <td>C</td>\n",
              "      <td>S</td>\n",
              "      <td>53.1000</td>\n",
              "      <td>2</td>\n",
              "      <td>4</td>\n",
              "      <td>1</td>\n",
              "      <td>female</td>\n",
              "      <td>Alive</td>\n",
              "      <td>1</td>\n",
              "    </tr>\n",
              "    <tr>\n",
              "      <th>4</th>\n",
              "      <td>35</td>\n",
              "      <td>M</td>\n",
              "      <td>S</td>\n",
              "      <td>8.0500</td>\n",
              "      <td>1</td>\n",
              "      <td>5</td>\n",
              "      <td>3</td>\n",
              "      <td>male</td>\n",
              "      <td>Dead</td>\n",
              "      <td>0</td>\n",
              "    </tr>\n",
              "    <tr>\n",
              "      <th>...</th>\n",
              "      <td>...</td>\n",
              "      <td>...</td>\n",
              "      <td>...</td>\n",
              "      <td>...</td>\n",
              "      <td>...</td>\n",
              "      <td>...</td>\n",
              "      <td>...</td>\n",
              "      <td>...</td>\n",
              "      <td>...</td>\n",
              "      <td>...</td>\n",
              "    </tr>\n",
              "    <tr>\n",
              "      <th>1304</th>\n",
              "      <td>29</td>\n",
              "      <td>M</td>\n",
              "      <td>S</td>\n",
              "      <td>8.0500</td>\n",
              "      <td>1</td>\n",
              "      <td>1305</td>\n",
              "      <td>3</td>\n",
              "      <td>male</td>\n",
              "      <td>Dead</td>\n",
              "      <td>0</td>\n",
              "    </tr>\n",
              "    <tr>\n",
              "      <th>1305</th>\n",
              "      <td>39</td>\n",
              "      <td>C</td>\n",
              "      <td>C</td>\n",
              "      <td>108.9000</td>\n",
              "      <td>1</td>\n",
              "      <td>1306</td>\n",
              "      <td>1</td>\n",
              "      <td>female</td>\n",
              "      <td>Alive</td>\n",
              "      <td>1</td>\n",
              "    </tr>\n",
              "    <tr>\n",
              "      <th>1306</th>\n",
              "      <td>38</td>\n",
              "      <td>M</td>\n",
              "      <td>S</td>\n",
              "      <td>7.2500</td>\n",
              "      <td>1</td>\n",
              "      <td>1307</td>\n",
              "      <td>3</td>\n",
              "      <td>male</td>\n",
              "      <td>Dead</td>\n",
              "      <td>0</td>\n",
              "    </tr>\n",
              "    <tr>\n",
              "      <th>1307</th>\n",
              "      <td>29</td>\n",
              "      <td>M</td>\n",
              "      <td>S</td>\n",
              "      <td>8.0500</td>\n",
              "      <td>1</td>\n",
              "      <td>1308</td>\n",
              "      <td>3</td>\n",
              "      <td>male</td>\n",
              "      <td>Dead</td>\n",
              "      <td>0</td>\n",
              "    </tr>\n",
              "    <tr>\n",
              "      <th>1308</th>\n",
              "      <td>29</td>\n",
              "      <td>M</td>\n",
              "      <td>C</td>\n",
              "      <td>22.3583</td>\n",
              "      <td>3</td>\n",
              "      <td>1309</td>\n",
              "      <td>3</td>\n",
              "      <td>male</td>\n",
              "      <td>Dead</td>\n",
              "      <td>0</td>\n",
              "    </tr>\n",
              "  </tbody>\n",
              "</table>\n",
              "<p>1309 rows × 10 columns</p>\n",
              "</div>"
            ],
            "text/plain": [
              "      Age Cabin Embarked      Fare  ...  Pclass     Sex   Died Survived\n",
              "0      22     M        S    7.2500  ...       3    male   Dead        0\n",
              "1      38     C        C   71.2833  ...       1  female  Alive        1\n",
              "2      26     M        S    7.9250  ...       3  female  Alive        1\n",
              "3      35     C        S   53.1000  ...       1  female  Alive        1\n",
              "4      35     M        S    8.0500  ...       3    male   Dead        0\n",
              "...   ...   ...      ...       ...  ...     ...     ...    ...      ...\n",
              "1304   29     M        S    8.0500  ...       3    male   Dead        0\n",
              "1305   39     C        C  108.9000  ...       1  female  Alive        1\n",
              "1306   38     M        S    7.2500  ...       3    male   Dead        0\n",
              "1307   29     M        S    8.0500  ...       3    male   Dead        0\n",
              "1308   29     M        C   22.3583  ...       3    male   Dead        0\n",
              "\n",
              "[1309 rows x 10 columns]"
            ]
          },
          "metadata": {
            "tags": []
          },
          "execution_count": 685
        }
      ]
    },
    {
      "cell_type": "code",
      "metadata": {
        "id": "IvvfLb0N-nTx"
      },
      "source": [
        "from sklearn.neighbors import KNeighborsClassifier\n",
        "from sklearn.model_selection import train_test_split\n",
        "from sklearn import preprocessing\n",
        "from sklearn.preprocessing import LabelEncoder,OneHotEncoder"
      ],
      "execution_count": null,
      "outputs": []
    },
    {
      "cell_type": "code",
      "metadata": {
        "id": "t-YfvQ_g-Ggo"
      },
      "source": [
        "df_tit2=df_titanic"
      ],
      "execution_count": null,
      "outputs": []
    },
    {
      "cell_type": "code",
      "metadata": {
        "id": "gpnzlee0q-9X"
      },
      "source": [
        "non_num_features=df_titanic[['Cabin','Embarked','Fsize','Pclass','Sex']]"
      ],
      "execution_count": null,
      "outputs": []
    },
    {
      "cell_type": "code",
      "metadata": {
        "id": "o6Kgfo2C-bn7"
      },
      "source": [
        "lb=LabelEncoder()"
      ],
      "execution_count": null,
      "outputs": []
    },
    {
      "cell_type": "code",
      "metadata": {
        "id": "H2uG6sNJ-NMZ"
      },
      "source": [
        "for f in non_num_features:\n",
        "  df_tit2[f]=lb.fit_transform(df_tit2[f])\n"
      ],
      "execution_count": null,
      "outputs": []
    },
    {
      "cell_type": "code",
      "metadata": {
        "colab": {
          "base_uri": "https://localhost:8080/"
        },
        "id": "az6b4dAJ_q-5",
        "outputId": "328b8b87-40ee-4947-b36b-39d6c92a3648"
      },
      "source": [
        "df_tit2.columns"
      ],
      "execution_count": null,
      "outputs": [
        {
          "output_type": "execute_result",
          "data": {
            "text/plain": [
              "Index(['Age', 'Cabin', 'Embarked', 'Fare', 'Fsize', 'PassengerId', 'Pclass',\n",
              "       'Sex', 'Died', 'Survived'],\n",
              "      dtype='object')"
            ]
          },
          "metadata": {
            "tags": []
          },
          "execution_count": 691
        }
      ]
    },
    {
      "cell_type": "code",
      "metadata": {
        "colab": {
          "base_uri": "https://localhost:8080/",
          "height": 419
        },
        "id": "28RBpCKTLaqy",
        "outputId": "aa93bdd9-23a9-4da5-85e3-86eae3ce04e2"
      },
      "source": [
        "df_tit2"
      ],
      "execution_count": null,
      "outputs": [
        {
          "output_type": "execute_result",
          "data": {
            "text/html": [
              "<div>\n",
              "<style scoped>\n",
              "    .dataframe tbody tr th:only-of-type {\n",
              "        vertical-align: middle;\n",
              "    }\n",
              "\n",
              "    .dataframe tbody tr th {\n",
              "        vertical-align: top;\n",
              "    }\n",
              "\n",
              "    .dataframe thead th {\n",
              "        text-align: right;\n",
              "    }\n",
              "</style>\n",
              "<table border=\"1\" class=\"dataframe\">\n",
              "  <thead>\n",
              "    <tr style=\"text-align: right;\">\n",
              "      <th></th>\n",
              "      <th>Age</th>\n",
              "      <th>Cabin</th>\n",
              "      <th>Embarked</th>\n",
              "      <th>Fare</th>\n",
              "      <th>Fsize</th>\n",
              "      <th>PassengerId</th>\n",
              "      <th>Pclass</th>\n",
              "      <th>Sex</th>\n",
              "      <th>Died</th>\n",
              "      <th>Survived</th>\n",
              "    </tr>\n",
              "  </thead>\n",
              "  <tbody>\n",
              "    <tr>\n",
              "      <th>0</th>\n",
              "      <td>22</td>\n",
              "      <td>7</td>\n",
              "      <td>2</td>\n",
              "      <td>7.2500</td>\n",
              "      <td>1</td>\n",
              "      <td>1</td>\n",
              "      <td>2</td>\n",
              "      <td>1</td>\n",
              "      <td>Dead</td>\n",
              "      <td>0</td>\n",
              "    </tr>\n",
              "    <tr>\n",
              "      <th>1</th>\n",
              "      <td>38</td>\n",
              "      <td>2</td>\n",
              "      <td>0</td>\n",
              "      <td>71.2833</td>\n",
              "      <td>1</td>\n",
              "      <td>2</td>\n",
              "      <td>0</td>\n",
              "      <td>0</td>\n",
              "      <td>Alive</td>\n",
              "      <td>1</td>\n",
              "    </tr>\n",
              "    <tr>\n",
              "      <th>2</th>\n",
              "      <td>26</td>\n",
              "      <td>7</td>\n",
              "      <td>2</td>\n",
              "      <td>7.9250</td>\n",
              "      <td>0</td>\n",
              "      <td>3</td>\n",
              "      <td>2</td>\n",
              "      <td>0</td>\n",
              "      <td>Alive</td>\n",
              "      <td>1</td>\n",
              "    </tr>\n",
              "    <tr>\n",
              "      <th>3</th>\n",
              "      <td>35</td>\n",
              "      <td>2</td>\n",
              "      <td>2</td>\n",
              "      <td>53.1000</td>\n",
              "      <td>1</td>\n",
              "      <td>4</td>\n",
              "      <td>0</td>\n",
              "      <td>0</td>\n",
              "      <td>Alive</td>\n",
              "      <td>1</td>\n",
              "    </tr>\n",
              "    <tr>\n",
              "      <th>4</th>\n",
              "      <td>35</td>\n",
              "      <td>7</td>\n",
              "      <td>2</td>\n",
              "      <td>8.0500</td>\n",
              "      <td>0</td>\n",
              "      <td>5</td>\n",
              "      <td>2</td>\n",
              "      <td>1</td>\n",
              "      <td>Dead</td>\n",
              "      <td>0</td>\n",
              "    </tr>\n",
              "    <tr>\n",
              "      <th>...</th>\n",
              "      <td>...</td>\n",
              "      <td>...</td>\n",
              "      <td>...</td>\n",
              "      <td>...</td>\n",
              "      <td>...</td>\n",
              "      <td>...</td>\n",
              "      <td>...</td>\n",
              "      <td>...</td>\n",
              "      <td>...</td>\n",
              "      <td>...</td>\n",
              "    </tr>\n",
              "    <tr>\n",
              "      <th>1304</th>\n",
              "      <td>29</td>\n",
              "      <td>7</td>\n",
              "      <td>2</td>\n",
              "      <td>8.0500</td>\n",
              "      <td>0</td>\n",
              "      <td>1305</td>\n",
              "      <td>2</td>\n",
              "      <td>1</td>\n",
              "      <td>Dead</td>\n",
              "      <td>0</td>\n",
              "    </tr>\n",
              "    <tr>\n",
              "      <th>1305</th>\n",
              "      <td>39</td>\n",
              "      <td>2</td>\n",
              "      <td>0</td>\n",
              "      <td>108.9000</td>\n",
              "      <td>0</td>\n",
              "      <td>1306</td>\n",
              "      <td>0</td>\n",
              "      <td>0</td>\n",
              "      <td>Alive</td>\n",
              "      <td>1</td>\n",
              "    </tr>\n",
              "    <tr>\n",
              "      <th>1306</th>\n",
              "      <td>38</td>\n",
              "      <td>7</td>\n",
              "      <td>2</td>\n",
              "      <td>7.2500</td>\n",
              "      <td>0</td>\n",
              "      <td>1307</td>\n",
              "      <td>2</td>\n",
              "      <td>1</td>\n",
              "      <td>Dead</td>\n",
              "      <td>0</td>\n",
              "    </tr>\n",
              "    <tr>\n",
              "      <th>1307</th>\n",
              "      <td>29</td>\n",
              "      <td>7</td>\n",
              "      <td>2</td>\n",
              "      <td>8.0500</td>\n",
              "      <td>0</td>\n",
              "      <td>1308</td>\n",
              "      <td>2</td>\n",
              "      <td>1</td>\n",
              "      <td>Dead</td>\n",
              "      <td>0</td>\n",
              "    </tr>\n",
              "    <tr>\n",
              "      <th>1308</th>\n",
              "      <td>29</td>\n",
              "      <td>7</td>\n",
              "      <td>0</td>\n",
              "      <td>22.3583</td>\n",
              "      <td>2</td>\n",
              "      <td>1309</td>\n",
              "      <td>2</td>\n",
              "      <td>1</td>\n",
              "      <td>Dead</td>\n",
              "      <td>0</td>\n",
              "    </tr>\n",
              "  </tbody>\n",
              "</table>\n",
              "<p>1309 rows × 10 columns</p>\n",
              "</div>"
            ],
            "text/plain": [
              "      Age  Cabin  Embarked      Fare  ...  Pclass  Sex   Died  Survived\n",
              "0      22      7         2    7.2500  ...       2    1   Dead         0\n",
              "1      38      2         0   71.2833  ...       0    0  Alive         1\n",
              "2      26      7         2    7.9250  ...       2    0  Alive         1\n",
              "3      35      2         2   53.1000  ...       0    0  Alive         1\n",
              "4      35      7         2    8.0500  ...       2    1   Dead         0\n",
              "...   ...    ...       ...       ...  ...     ...  ...    ...       ...\n",
              "1304   29      7         2    8.0500  ...       2    1   Dead         0\n",
              "1305   39      2         0  108.9000  ...       0    0  Alive         1\n",
              "1306   38      7         2    7.2500  ...       2    1   Dead         0\n",
              "1307   29      7         2    8.0500  ...       2    1   Dead         0\n",
              "1308   29      7         0   22.3583  ...       2    1   Dead         0\n",
              "\n",
              "[1309 rows x 10 columns]"
            ]
          },
          "metadata": {
            "tags": []
          },
          "execution_count": 692
        }
      ]
    },
    {
      "cell_type": "code",
      "metadata": {
        "colab": {
          "base_uri": "https://localhost:8080/"
        },
        "id": "GCo-VzwCEsG_",
        "outputId": "a94bd0fc-dc59-48bf-a5c5-e779763dd41b"
      },
      "source": [
        "df_tit2.columns"
      ],
      "execution_count": null,
      "outputs": [
        {
          "output_type": "execute_result",
          "data": {
            "text/plain": [
              "Index(['Age', 'Cabin', 'Embarked', 'Fare', 'Fsize', 'PassengerId', 'Pclass',\n",
              "       'Sex', 'Died', 'Survived'],\n",
              "      dtype='object')"
            ]
          },
          "metadata": {
            "tags": []
          },
          "execution_count": 693
        }
      ]
    },
    {
      "cell_type": "code",
      "metadata": {
        "id": "oIn3LR_AEWiB"
      },
      "source": [
        "x = preprocessing.StandardScaler().fit_transform(df_tit2[['Age','Cabin','Embarked','Fare','Fsize','Pclass','Sex']])\n",
        "y=df_tit2['Survived'].values\n",
        "x_train, x_test, y_train, y_test = train_test_split( x, y, test_size=0.3, random_state=4)"
      ],
      "execution_count": null,
      "outputs": []
    },
    {
      "cell_type": "code",
      "metadata": {
        "id": "tr04HIdEF5u8"
      },
      "source": [
        "from sklearn import metrics"
      ],
      "execution_count": null,
      "outputs": []
    },
    {
      "cell_type": "code",
      "metadata": {
        "colab": {
          "base_uri": "https://localhost:8080/"
        },
        "id": "UYxmf8V1GKuJ",
        "outputId": "665c54bd-364b-4bdd-859c-2efa1d4c53c1"
      },
      "source": [
        "Ks = 15\n",
        "mean_acc = np.zeros((Ks-1))\n",
        "mean_train = np.zeros((Ks-1))\n",
        "mean_f1 = np.zeros((Ks-1))\n",
        "mean_f1train = np.zeros((Ks-1))\n",
        "\n",
        "for n in range(1,Ks):\n",
        "     \n",
        "    neigh = KNeighborsClassifier(n_neighbors = n).fit(x_train,y_train)\n",
        "    yhat=neigh.predict(x_test)\n",
        "    mean_acc[n-1] = metrics.accuracy_score(y_test, yhat)\n",
        "    mean_f1[n-1] = metrics.f1_score(y_test, yhat)\n",
        "    mean_train[n-1] = metrics.accuracy_score(y_train, neigh.predict(x_train))\n",
        "    mean_f1train[n-1] = metrics.f1_score(y_train, neigh.predict(x_train))\n",
        "    \n",
        "\n",
        "print(mean_acc)\n",
        "print(mean_train)\n",
        "print(mean_f1)\n",
        "print(mean_f1train)"
      ],
      "execution_count": null,
      "outputs": [
        {
          "output_type": "stream",
          "text": [
            "[0.79643766 0.80916031 0.83206107 0.82188295 0.83715013 0.8346056\n",
            " 0.82951654 0.84478372 0.84223919 0.84987277 0.84732824 0.84732824\n",
            " 0.84223919 0.83969466]\n",
            "[0.97707424 0.89628821 0.8941048  0.89082969 0.8919214  0.88209607\n",
            " 0.88100437 0.88100437 0.87991266 0.87445415 0.87663755 0.87336245\n",
            " 0.87008734 0.87227074]\n",
            "[0.72789116 0.70119522 0.76923077 0.74074074 0.77777778 0.76702509\n",
            " 0.76655052 0.78136201 0.7862069  0.79151943 0.79452055 0.79166667\n",
            " 0.78911565 0.78498294]\n",
            "[0.96925329 0.84087102 0.85457271 0.84227129 0.85067873 0.83125\n",
            " 0.83559578 0.83153014 0.83383686 0.82170543 0.82852807 0.82317073\n",
            " 0.82105263 0.82352941]\n"
          ],
          "name": "stdout"
        }
      ]
    },
    {
      "cell_type": "code",
      "metadata": {
        "id": "Fn2I--BzoPKx"
      },
      "source": [
        "m_df=pd.DataFrame(mean_acc)\n",
        "m_df.reset_index(inplace=True)\n",
        "m_df['index']=m_df['index']+1"
      ],
      "execution_count": null,
      "outputs": []
    },
    {
      "cell_type": "code",
      "metadata": {
        "id": "f5fYZW3AcRou"
      },
      "source": [
        "mt_df=pd.DataFrame(mean_train)\n",
        "mt_df.reset_index(inplace=True)\n",
        "mt_df['index']=m_df['index']"
      ],
      "execution_count": null,
      "outputs": []
    },
    {
      "cell_type": "code",
      "metadata": {
        "id": "gVMYNCYT5MOK"
      },
      "source": [
        "mf_df=pd.DataFrame(mean_f1)\n",
        "mf_df.reset_index(inplace=True)\n",
        "mf_df['index']=m_df['index']"
      ],
      "execution_count": null,
      "outputs": []
    },
    {
      "cell_type": "code",
      "metadata": {
        "id": "09emfCd65Mwz"
      },
      "source": [
        "mtf_df=pd.DataFrame(mean_f1train)\n",
        "mtf_df.reset_index(inplace=True)\n",
        "mtf_df['index']=m_df['index']"
      ],
      "execution_count": null,
      "outputs": []
    },
    {
      "cell_type": "code",
      "metadata": {
        "id": "KTgPbQ20orxQ"
      },
      "source": [
        "m_df.rename(columns={0:'Accuracy','index':'K-Vals'},inplace=True)\n",
        "mt_df.rename(columns={0:'Accuracy train','index':'K-Vals'},inplace=True)\n",
        "mf_df.rename(columns={0:'F1 score','index':'K-Vals'},inplace=True)\n",
        "mtf_df.rename(columns={0:'F1 train','index':'K-Vals'},inplace=True)"
      ],
      "execution_count": null,
      "outputs": []
    },
    {
      "cell_type": "code",
      "metadata": {
        "colab": {
          "base_uri": "https://localhost:8080/",
          "height": 483
        },
        "id": "RKoTwKkSoZeX",
        "outputId": "b899826e-2e70-4631-e323-6ec6e044351b"
      },
      "source": [
        "m_df"
      ],
      "execution_count": null,
      "outputs": [
        {
          "output_type": "execute_result",
          "data": {
            "text/html": [
              "<div>\n",
              "<style scoped>\n",
              "    .dataframe tbody tr th:only-of-type {\n",
              "        vertical-align: middle;\n",
              "    }\n",
              "\n",
              "    .dataframe tbody tr th {\n",
              "        vertical-align: top;\n",
              "    }\n",
              "\n",
              "    .dataframe thead th {\n",
              "        text-align: right;\n",
              "    }\n",
              "</style>\n",
              "<table border=\"1\" class=\"dataframe\">\n",
              "  <thead>\n",
              "    <tr style=\"text-align: right;\">\n",
              "      <th></th>\n",
              "      <th>K-Vals</th>\n",
              "      <th>Accuracy</th>\n",
              "    </tr>\n",
              "  </thead>\n",
              "  <tbody>\n",
              "    <tr>\n",
              "      <th>0</th>\n",
              "      <td>1</td>\n",
              "      <td>0.796438</td>\n",
              "    </tr>\n",
              "    <tr>\n",
              "      <th>1</th>\n",
              "      <td>2</td>\n",
              "      <td>0.809160</td>\n",
              "    </tr>\n",
              "    <tr>\n",
              "      <th>2</th>\n",
              "      <td>3</td>\n",
              "      <td>0.832061</td>\n",
              "    </tr>\n",
              "    <tr>\n",
              "      <th>3</th>\n",
              "      <td>4</td>\n",
              "      <td>0.821883</td>\n",
              "    </tr>\n",
              "    <tr>\n",
              "      <th>4</th>\n",
              "      <td>5</td>\n",
              "      <td>0.837150</td>\n",
              "    </tr>\n",
              "    <tr>\n",
              "      <th>5</th>\n",
              "      <td>6</td>\n",
              "      <td>0.834606</td>\n",
              "    </tr>\n",
              "    <tr>\n",
              "      <th>6</th>\n",
              "      <td>7</td>\n",
              "      <td>0.829517</td>\n",
              "    </tr>\n",
              "    <tr>\n",
              "      <th>7</th>\n",
              "      <td>8</td>\n",
              "      <td>0.844784</td>\n",
              "    </tr>\n",
              "    <tr>\n",
              "      <th>8</th>\n",
              "      <td>9</td>\n",
              "      <td>0.842239</td>\n",
              "    </tr>\n",
              "    <tr>\n",
              "      <th>9</th>\n",
              "      <td>10</td>\n",
              "      <td>0.849873</td>\n",
              "    </tr>\n",
              "    <tr>\n",
              "      <th>10</th>\n",
              "      <td>11</td>\n",
              "      <td>0.847328</td>\n",
              "    </tr>\n",
              "    <tr>\n",
              "      <th>11</th>\n",
              "      <td>12</td>\n",
              "      <td>0.847328</td>\n",
              "    </tr>\n",
              "    <tr>\n",
              "      <th>12</th>\n",
              "      <td>13</td>\n",
              "      <td>0.842239</td>\n",
              "    </tr>\n",
              "    <tr>\n",
              "      <th>13</th>\n",
              "      <td>14</td>\n",
              "      <td>0.839695</td>\n",
              "    </tr>\n",
              "  </tbody>\n",
              "</table>\n",
              "</div>"
            ],
            "text/plain": [
              "    K-Vals  Accuracy\n",
              "0        1  0.796438\n",
              "1        2  0.809160\n",
              "2        3  0.832061\n",
              "3        4  0.821883\n",
              "4        5  0.837150\n",
              "5        6  0.834606\n",
              "6        7  0.829517\n",
              "7        8  0.844784\n",
              "8        9  0.842239\n",
              "9       10  0.849873\n",
              "10      11  0.847328\n",
              "11      12  0.847328\n",
              "12      13  0.842239\n",
              "13      14  0.839695"
            ]
          },
          "metadata": {
            "tags": []
          },
          "execution_count": 702
        }
      ]
    },
    {
      "cell_type": "code",
      "metadata": {
        "colab": {
          "base_uri": "https://localhost:8080/",
          "height": 483
        },
        "id": "_peDC59Eca7r",
        "outputId": "f005c19b-56a5-4474-8d31-c9f2b8e154aa"
      },
      "source": [
        "mt_df"
      ],
      "execution_count": null,
      "outputs": [
        {
          "output_type": "execute_result",
          "data": {
            "text/html": [
              "<div>\n",
              "<style scoped>\n",
              "    .dataframe tbody tr th:only-of-type {\n",
              "        vertical-align: middle;\n",
              "    }\n",
              "\n",
              "    .dataframe tbody tr th {\n",
              "        vertical-align: top;\n",
              "    }\n",
              "\n",
              "    .dataframe thead th {\n",
              "        text-align: right;\n",
              "    }\n",
              "</style>\n",
              "<table border=\"1\" class=\"dataframe\">\n",
              "  <thead>\n",
              "    <tr style=\"text-align: right;\">\n",
              "      <th></th>\n",
              "      <th>K-Vals</th>\n",
              "      <th>Accuracy train</th>\n",
              "    </tr>\n",
              "  </thead>\n",
              "  <tbody>\n",
              "    <tr>\n",
              "      <th>0</th>\n",
              "      <td>1</td>\n",
              "      <td>0.977074</td>\n",
              "    </tr>\n",
              "    <tr>\n",
              "      <th>1</th>\n",
              "      <td>2</td>\n",
              "      <td>0.896288</td>\n",
              "    </tr>\n",
              "    <tr>\n",
              "      <th>2</th>\n",
              "      <td>3</td>\n",
              "      <td>0.894105</td>\n",
              "    </tr>\n",
              "    <tr>\n",
              "      <th>3</th>\n",
              "      <td>4</td>\n",
              "      <td>0.890830</td>\n",
              "    </tr>\n",
              "    <tr>\n",
              "      <th>4</th>\n",
              "      <td>5</td>\n",
              "      <td>0.891921</td>\n",
              "    </tr>\n",
              "    <tr>\n",
              "      <th>5</th>\n",
              "      <td>6</td>\n",
              "      <td>0.882096</td>\n",
              "    </tr>\n",
              "    <tr>\n",
              "      <th>6</th>\n",
              "      <td>7</td>\n",
              "      <td>0.881004</td>\n",
              "    </tr>\n",
              "    <tr>\n",
              "      <th>7</th>\n",
              "      <td>8</td>\n",
              "      <td>0.881004</td>\n",
              "    </tr>\n",
              "    <tr>\n",
              "      <th>8</th>\n",
              "      <td>9</td>\n",
              "      <td>0.879913</td>\n",
              "    </tr>\n",
              "    <tr>\n",
              "      <th>9</th>\n",
              "      <td>10</td>\n",
              "      <td>0.874454</td>\n",
              "    </tr>\n",
              "    <tr>\n",
              "      <th>10</th>\n",
              "      <td>11</td>\n",
              "      <td>0.876638</td>\n",
              "    </tr>\n",
              "    <tr>\n",
              "      <th>11</th>\n",
              "      <td>12</td>\n",
              "      <td>0.873362</td>\n",
              "    </tr>\n",
              "    <tr>\n",
              "      <th>12</th>\n",
              "      <td>13</td>\n",
              "      <td>0.870087</td>\n",
              "    </tr>\n",
              "    <tr>\n",
              "      <th>13</th>\n",
              "      <td>14</td>\n",
              "      <td>0.872271</td>\n",
              "    </tr>\n",
              "  </tbody>\n",
              "</table>\n",
              "</div>"
            ],
            "text/plain": [
              "    K-Vals  Accuracy train\n",
              "0        1        0.977074\n",
              "1        2        0.896288\n",
              "2        3        0.894105\n",
              "3        4        0.890830\n",
              "4        5        0.891921\n",
              "5        6        0.882096\n",
              "6        7        0.881004\n",
              "7        8        0.881004\n",
              "8        9        0.879913\n",
              "9       10        0.874454\n",
              "10      11        0.876638\n",
              "11      12        0.873362\n",
              "12      13        0.870087\n",
              "13      14        0.872271"
            ]
          },
          "metadata": {
            "tags": []
          },
          "execution_count": 703
        }
      ]
    },
    {
      "cell_type": "code",
      "metadata": {
        "id": "Z77ZT8BtszAv"
      },
      "source": [
        "model_acc=m_df\n",
        "model_acc['Accuracy train']=mt_df['Accuracy train']"
      ],
      "execution_count": null,
      "outputs": []
    },
    {
      "cell_type": "code",
      "metadata": {
        "id": "E-nteK9V7kRe"
      },
      "source": [
        "model_acc['F1 score']=mf_df['F1 score']\n",
        "model_acc['F1 train']=mtf_df['F1 train']"
      ],
      "execution_count": null,
      "outputs": []
    },
    {
      "cell_type": "code",
      "metadata": {
        "colab": {
          "base_uri": "https://localhost:8080/",
          "height": 483
        },
        "id": "aIN_6ZpxuDTn",
        "outputId": "b5584df8-0b00-40a5-dec2-670c961a9338"
      },
      "source": [
        "model_acc"
      ],
      "execution_count": null,
      "outputs": [
        {
          "output_type": "execute_result",
          "data": {
            "text/html": [
              "<div>\n",
              "<style scoped>\n",
              "    .dataframe tbody tr th:only-of-type {\n",
              "        vertical-align: middle;\n",
              "    }\n",
              "\n",
              "    .dataframe tbody tr th {\n",
              "        vertical-align: top;\n",
              "    }\n",
              "\n",
              "    .dataframe thead th {\n",
              "        text-align: right;\n",
              "    }\n",
              "</style>\n",
              "<table border=\"1\" class=\"dataframe\">\n",
              "  <thead>\n",
              "    <tr style=\"text-align: right;\">\n",
              "      <th></th>\n",
              "      <th>K-Vals</th>\n",
              "      <th>Accuracy</th>\n",
              "      <th>Accuracy train</th>\n",
              "      <th>F1 score</th>\n",
              "      <th>F1 train</th>\n",
              "    </tr>\n",
              "  </thead>\n",
              "  <tbody>\n",
              "    <tr>\n",
              "      <th>0</th>\n",
              "      <td>1</td>\n",
              "      <td>0.796438</td>\n",
              "      <td>0.977074</td>\n",
              "      <td>0.727891</td>\n",
              "      <td>0.969253</td>\n",
              "    </tr>\n",
              "    <tr>\n",
              "      <th>1</th>\n",
              "      <td>2</td>\n",
              "      <td>0.809160</td>\n",
              "      <td>0.896288</td>\n",
              "      <td>0.701195</td>\n",
              "      <td>0.840871</td>\n",
              "    </tr>\n",
              "    <tr>\n",
              "      <th>2</th>\n",
              "      <td>3</td>\n",
              "      <td>0.832061</td>\n",
              "      <td>0.894105</td>\n",
              "      <td>0.769231</td>\n",
              "      <td>0.854573</td>\n",
              "    </tr>\n",
              "    <tr>\n",
              "      <th>3</th>\n",
              "      <td>4</td>\n",
              "      <td>0.821883</td>\n",
              "      <td>0.890830</td>\n",
              "      <td>0.740741</td>\n",
              "      <td>0.842271</td>\n",
              "    </tr>\n",
              "    <tr>\n",
              "      <th>4</th>\n",
              "      <td>5</td>\n",
              "      <td>0.837150</td>\n",
              "      <td>0.891921</td>\n",
              "      <td>0.777778</td>\n",
              "      <td>0.850679</td>\n",
              "    </tr>\n",
              "    <tr>\n",
              "      <th>5</th>\n",
              "      <td>6</td>\n",
              "      <td>0.834606</td>\n",
              "      <td>0.882096</td>\n",
              "      <td>0.767025</td>\n",
              "      <td>0.831250</td>\n",
              "    </tr>\n",
              "    <tr>\n",
              "      <th>6</th>\n",
              "      <td>7</td>\n",
              "      <td>0.829517</td>\n",
              "      <td>0.881004</td>\n",
              "      <td>0.766551</td>\n",
              "      <td>0.835596</td>\n",
              "    </tr>\n",
              "    <tr>\n",
              "      <th>7</th>\n",
              "      <td>8</td>\n",
              "      <td>0.844784</td>\n",
              "      <td>0.881004</td>\n",
              "      <td>0.781362</td>\n",
              "      <td>0.831530</td>\n",
              "    </tr>\n",
              "    <tr>\n",
              "      <th>8</th>\n",
              "      <td>9</td>\n",
              "      <td>0.842239</td>\n",
              "      <td>0.879913</td>\n",
              "      <td>0.786207</td>\n",
              "      <td>0.833837</td>\n",
              "    </tr>\n",
              "    <tr>\n",
              "      <th>9</th>\n",
              "      <td>10</td>\n",
              "      <td>0.849873</td>\n",
              "      <td>0.874454</td>\n",
              "      <td>0.791519</td>\n",
              "      <td>0.821705</td>\n",
              "    </tr>\n",
              "    <tr>\n",
              "      <th>10</th>\n",
              "      <td>11</td>\n",
              "      <td>0.847328</td>\n",
              "      <td>0.876638</td>\n",
              "      <td>0.794521</td>\n",
              "      <td>0.828528</td>\n",
              "    </tr>\n",
              "    <tr>\n",
              "      <th>11</th>\n",
              "      <td>12</td>\n",
              "      <td>0.847328</td>\n",
              "      <td>0.873362</td>\n",
              "      <td>0.791667</td>\n",
              "      <td>0.823171</td>\n",
              "    </tr>\n",
              "    <tr>\n",
              "      <th>12</th>\n",
              "      <td>13</td>\n",
              "      <td>0.842239</td>\n",
              "      <td>0.870087</td>\n",
              "      <td>0.789116</td>\n",
              "      <td>0.821053</td>\n",
              "    </tr>\n",
              "    <tr>\n",
              "      <th>13</th>\n",
              "      <td>14</td>\n",
              "      <td>0.839695</td>\n",
              "      <td>0.872271</td>\n",
              "      <td>0.784983</td>\n",
              "      <td>0.823529</td>\n",
              "    </tr>\n",
              "  </tbody>\n",
              "</table>\n",
              "</div>"
            ],
            "text/plain": [
              "    K-Vals  Accuracy  Accuracy train  F1 score  F1 train\n",
              "0        1  0.796438        0.977074  0.727891  0.969253\n",
              "1        2  0.809160        0.896288  0.701195  0.840871\n",
              "2        3  0.832061        0.894105  0.769231  0.854573\n",
              "3        4  0.821883        0.890830  0.740741  0.842271\n",
              "4        5  0.837150        0.891921  0.777778  0.850679\n",
              "5        6  0.834606        0.882096  0.767025  0.831250\n",
              "6        7  0.829517        0.881004  0.766551  0.835596\n",
              "7        8  0.844784        0.881004  0.781362  0.831530\n",
              "8        9  0.842239        0.879913  0.786207  0.833837\n",
              "9       10  0.849873        0.874454  0.791519  0.821705\n",
              "10      11  0.847328        0.876638  0.794521  0.828528\n",
              "11      12  0.847328        0.873362  0.791667  0.823171\n",
              "12      13  0.842239        0.870087  0.789116  0.821053\n",
              "13      14  0.839695        0.872271  0.784983  0.823529"
            ]
          },
          "metadata": {
            "tags": []
          },
          "execution_count": 725
        }
      ]
    },
    {
      "cell_type": "code",
      "metadata": {
        "id": "bvCc8fXP0-Ss"
      },
      "source": [
        "#model_acc.to_csv('Predictions.csv')"
      ],
      "execution_count": null,
      "outputs": []
    },
    {
      "cell_type": "code",
      "metadata": {
        "id": "93EV3xw38LPU"
      },
      "source": [
        "df_prediction=model_acc"
      ],
      "execution_count": null,
      "outputs": []
    },
    {
      "cell_type": "code",
      "metadata": {
        "colab": {
          "base_uri": "https://localhost:8080/",
          "height": 295
        },
        "id": "tgGlm4H3nmrZ",
        "outputId": "dc6bcbdc-d216-4173-ccb6-5fc617b5fbfe"
      },
      "source": [
        "sns.lineplot(y=df_prediction['Accuracy'],x=df_prediction['K-Vals']-1,color='Brown')\n",
        "sns.lineplot(y=df_prediction['Accuracy train'],x=df_prediction['K-Vals']-1,color='Blue')\n",
        "plt.legend(['Testing Accuracy','Trained Accuracy'])\n",
        "plt.title(\"Jaccard's Accuracy of Models based of K-Values \")\n",
        "plt.ylim(0.79,)\n",
        "plt.show()"
      ],
      "execution_count": null,
      "outputs": [
        {
          "output_type": "display_data",
          "data": {
            "image/png": "[encoded data removed]",
            "text/plain": [
              "<Figure size 432x288 with 1 Axes>"
            ]
          },
          "metadata": {
            "tags": []
          }
        }
      ]
    },
    {
      "cell_type": "code",
      "metadata": {
        "colab": {
          "base_uri": "https://localhost:8080/",
          "height": 295
        },
        "id": "vH5wqtvT781E",
        "outputId": "59a13317-c24b-43d8-faee-e650ac24e1c2"
      },
      "source": [
        "sns.lineplot(y=df_prediction['F1 score'],x=df_prediction['K-Vals']-1,color='Brown')\n",
        "sns.lineplot(y=df_prediction['F1 train'],x=df_prediction['K-Vals']-1,color='Blue')\n",
        "plt.legend(['F1 Test data score','F1 trained data score'])\n",
        "plt.title(\"F1 score of Models based of K-Values \")\n",
        "plt.ylim(0.65,)\n",
        "plt.show()"
      ],
      "execution_count": null,
      "outputs": [
        {
          "output_type": "display_data",
          "data": {
            "image/png": "[encoded data removed]",
            "text/plain": [
              "<Figure size 432x288 with 1 Axes>"
            ]
          },
          "metadata": {
            "tags": []
          }
        }
      ]
    },
    {
      "cell_type": "code",
      "metadata": {
        "colab": {
          "base_uri": "https://localhost:8080/",
          "height": 513
        },
        "id": "4FyHWL8uGXPx",
        "outputId": "6d4f2e24-410a-4d59-848f-76f35755bc50"
      },
      "source": [
        "plt.figure(figsize=(10,8))\n",
        "sns.barplot(y=m_df['Accuracy'],x=m_df['K-Vals'],palette='cool',alpha=0.6)\n",
        "plt.title('Percentage accuracy of Models based of K-Values ')\n",
        "plt.ylim(0.79,0.86)\n",
        "for index, value in enumerate(m_df['Accuracy']):\n",
        "  plt.annotate('%.2f'%(value*100)+'%', xy=(index-0.3,value), color='Black')\n",
        "plt.show()"
      ],
      "execution_count": null,
      "outputs": [
        {
          "output_type": "display_data",
          "data": {
            "image/png": "[encoded data removed]",
            "text/plain": [
              "<Figure size 720x576 with 1 Axes>"
            ]
          },
          "metadata": {
            "tags": []
          }
        }
      ]
    },
    {
      "cell_type": "code",
      "metadata": {
        "colab": {
          "base_uri": "https://localhost:8080/",
          "height": 513
        },
        "id": "lWvNtZP88xne",
        "outputId": "6f870173-0514-4bcc-902e-2097cd95ef17"
      },
      "source": [
        "plt.figure(figsize=(10,8))\n",
        "sns.barplot(y=df_prediction['F1 score'],x=df_prediction['K-Vals'],palette='cool',alpha=0.6)\n",
        "plt.title('Percentage accuracy of Models based of K-Values ')\n",
        "plt.ylim(0.69,)\n",
        "for index, value in enumerate(df_prediction['F1 score']):\n",
        "  plt.annotate('%.2f'%(value*100)+'%', xy=(index-0.3,value), color='Black')\n",
        "plt.show()"
      ],
      "execution_count": null,
      "outputs": [
        {
          "output_type": "display_data",
          "data": {
            "image/png": "[encoded data removed]",
            "text/plain": [
              "<Figure size 720x576 with 1 Axes>"
            ]
          },
          "metadata": {
            "tags": []
          }
        }
      ]
    },
    {
      "cell_type": "code",
      "metadata": {
        "colab": {
          "base_uri": "https://localhost:8080/"
        },
        "id": "Hhgqo7ZXGnSO",
        "outputId": "10c376d1-5faf-4c6a-945e-40fe85e4b2a6"
      },
      "source": [
        "print( \"The best accuracy was with\", mean_acc.max(), \"with k=\", mean_acc.argmax()+1) \n",
        "print( \"The best accuracy was with\", mean_train.max(), \"with k=\", mean_train.argmax()+1) "
      ],
      "execution_count": null,
      "outputs": [
        {
          "output_type": "stream",
          "text": [
            "The best accuracy was with 0.8498727735368957 with k= 10\n",
            "The best accuracy was with 0.9770742358078602 with k= 1\n"
          ],
          "name": "stdout"
        }
      ]
    },
    {
      "cell_type": "code",
      "metadata": {
        "colab": {
          "base_uri": "https://localhost:8080/"
        },
        "id": "_xEJuN5HG4YJ",
        "outputId": "c8eccb8e-bf25-422d-c331-c0ce41c3fc86"
      },
      "source": [
        "k = 10\n",
        "finalmodel = KNeighborsClassifier(n_neighbors = k,n_jobs=4,p=2,leaf_size=1).fit(x_train,y_train)\n",
        "finalmodel\n"
      ],
      "execution_count": null,
      "outputs": [
        {
          "output_type": "execute_result",
          "data": {
            "text/plain": [
              "KNeighborsClassifier(algorithm='auto', leaf_size=1, metric='minkowski',\n",
              "                     metric_params=None, n_jobs=4, n_neighbors=10, p=2,\n",
              "                     weights='uniform')"
            ]
          },
          "metadata": {
            "tags": []
          },
          "execution_count": 764
        }
      ]
    },
    {
      "cell_type": "code",
      "metadata": {
        "id": "tSDrna4jHSyw"
      },
      "source": [
        "yhat=finalmodel.predict(x_test)"
      ],
      "execution_count": null,
      "outputs": []
    },
    {
      "cell_type": "code",
      "metadata": {
        "colab": {
          "base_uri": "https://localhost:8080/"
        },
        "id": "FxlFXikfdEWZ",
        "outputId": "37a3e833-4a96-4cb6-d8be-768a8f0a88f8"
      },
      "source": [
        "metrics.accuracy_score(y_train,finalmodel.predict(x_train))"
      ],
      "execution_count": null,
      "outputs": [
        {
          "output_type": "execute_result",
          "data": {
            "text/plain": [
              "0.8733624454148472"
            ]
          },
          "metadata": {
            "tags": []
          },
          "execution_count": 766
        }
      ]
    },
    {
      "cell_type": "code",
      "metadata": {
        "colab": {
          "base_uri": "https://localhost:8080/"
        },
        "id": "E_6E4I9YLQYQ",
        "outputId": "a2faed60-4f5a-4c8c-cc22-473783a541c6"
      },
      "source": [
        "metrics.accuracy_score(y_test,yhat)"
      ],
      "execution_count": null,
      "outputs": [
        {
          "output_type": "execute_result",
          "data": {
            "text/plain": [
              "0.8498727735368957"
            ]
          },
          "metadata": {
            "tags": []
          },
          "execution_count": 767
        }
      ]
    },
    {
      "cell_type": "code",
      "metadata": {
        "id": "Ao1AcAOmLQjr"
      },
      "source": [
        "cm=metrics.confusion_matrix(y_test,yhat)"
      ],
      "execution_count": null,
      "outputs": []
    },
    {
      "cell_type": "code",
      "metadata": {
        "colab": {
          "base_uri": "https://localhost:8080/"
        },
        "id": "J6dpnqAWhzfV",
        "outputId": "b3e939a3-713a-4d21-b0c3-86a94581e38a"
      },
      "source": [
        "cm"
      ],
      "execution_count": null,
      "outputs": [
        {
          "output_type": "execute_result",
          "data": {
            "text/plain": [
              "array([[222,  21],\n",
              "       [ 38, 112]])"
            ]
          },
          "metadata": {
            "tags": []
          },
          "execution_count": 769
        }
      ]
    },
    {
      "cell_type": "code",
      "metadata": {
        "id": "Vwy9AI9v1hwX"
      },
      "source": [
        "#np.savetxt('confusionmatrix.csv',cm)"
      ],
      "execution_count": null,
      "outputs": []
    },
    {
      "cell_type": "code",
      "metadata": {
        "id": "YXOqunNCfJXn"
      },
      "source": [
        "class_names=['Alive','Dead']"
      ],
      "execution_count": null,
      "outputs": []
    },
    {
      "cell_type": "code",
      "metadata": {
        "id": "Y7o3ruDGgwst"
      },
      "source": [
        "import itertools"
      ],
      "execution_count": null,
      "outputs": []
    },
    {
      "cell_type": "code",
      "metadata": {
        "colab": {
          "base_uri": "https://localhost:8080/",
          "height": 295
        },
        "id": "06P04q08easw",
        "outputId": "1c760679-9c19-43de-8a02-80bf5f39ebe0"
      },
      "source": [
        "plt.title(\"Confusion matrix\")\n",
        "pcm=[]\n",
        "for i in range(len(cm)):\n",
        "  pcm.append(np.around(cm[i]/cm[i].sum(),decimals=2))   \n",
        "for i, j in itertools.product(range(cm.shape[0]), range(cm.shape[1])):\n",
        "  plt.text(j+0.5, i+0.5, pcm[i][j], horizontalalignment=\"center\", color='Black')\n",
        "sns.heatmap(pcm,cmap='flare',xticklabels=class_names,yticklabels=class_names)\n",
        "plt.title('Confusion Matrix of Best Model where K=10 ')\n",
        "plt.xlabel('Real Value')\n",
        "plt.ylabel('Predicted Value')\n",
        "plt.show()"
      ],
      "execution_count": null,
      "outputs": [
        {
          "output_type": "display_data",
          "data": {
            "image/png": "[encoded data removed]",
            "text/plain": [
              "<Figure size 432x288 with 2 Axes>"
            ]
          },
          "metadata": {
            "tags": []
          }
        }
      ]
    },
    {
      "cell_type": "code",
      "metadata": {
        "colab": {
          "base_uri": "https://localhost:8080/"
        },
        "id": "hNgJQV5TnJxJ",
        "outputId": "3ad75a81-8aee-45eb-a097-0123afa19364"
      },
      "source": [
        "print(metrics.classification_report(y_test,yhat))"
      ],
      "execution_count": null,
      "outputs": [
        {
          "output_type": "stream",
          "text": [
            "              precision    recall  f1-score   support\n",
            "\n",
            "           0       0.85      0.91      0.88       243\n",
            "           1       0.84      0.75      0.79       150\n",
            "\n",
            "    accuracy                           0.85       393\n",
            "   macro avg       0.85      0.83      0.84       393\n",
            "weighted avg       0.85      0.85      0.85       393\n",
            "\n"
          ],
          "name": "stdout"
        }
      ]
    },
    {
      "cell_type": "code",
      "metadata": {
        "colab": {
          "base_uri": "https://localhost:8080/"
        },
        "id": "oSYtTstp4Tbt",
        "outputId": "9a35c412-91fd-4010-d232-bf066c2a5b85"
      },
      "source": [
        "metrics.f1_score(y_test,yhat)"
      ],
      "execution_count": null,
      "outputs": [
        {
          "output_type": "execute_result",
          "data": {
            "text/plain": [
              "0.7915194346289753"
            ]
          },
          "metadata": {
            "tags": []
          },
          "execution_count": 722
        }
      ]
    },
    {
      "cell_type": "code",
      "metadata": {
        "id": "I8zDT8h34X_L"
      },
      "source": [
        ""
      ],
      "execution_count": null,
      "outputs": []
    }
  ]
}