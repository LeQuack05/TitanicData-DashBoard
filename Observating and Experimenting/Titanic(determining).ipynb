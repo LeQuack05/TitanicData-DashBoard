{
  "nbformat": 4,
  "nbformat_minor": 0,
  "metadata": {
    "colab": {
      "name": "Titanic(determining and training).ipynb",
      "provenance": [],
      "collapsed_sections": []
    },
    "kernelspec": {
      "name": "python3",
      "display_name": "Python 3"
    }
  },
  "cells": [
    {
      "cell_type": "code",
      "metadata": {
        "id": "JsXK_9m3-BCX"
      },
      "source": [
        "import pandas as pd\r\n",
        "import matplotlib.pyplot as plt\r\n",
        "import numpy as np\r\n",
        "import seaborn as sns"
      ],
      "execution_count": null,
      "outputs": []
    },
    {
      "cell_type": "code",
      "metadata": {
        "colab": {
          "base_uri": "https://localhost:8080/",
          "height": 419
        },
        "id": "YAKjxqUGU0F4",
        "outputId": "1639e527-ec9f-43e2-88bd-14e72c6f4284"
      },
      "source": [
        "df_titanic=pd.read_csv('TitanicClean.csv')\r\n",
        "df_titanic.drop('Unnamed: 0',axis=1,inplace=True)\r\n",
        "df_titanic"
      ],
      "execution_count": null,
      "outputs": [
        {
          "output_type": "execute_result",
          "data": {
            "text/html": [
              "<div>\n",
              "<style scoped>\n",
              "    .dataframe tbody tr th:only-of-type {\n",
              "        vertical-align: middle;\n",
              "    }\n",
              "\n",
              "    .dataframe tbody tr th {\n",
              "        vertical-align: top;\n",
              "    }\n",
              "\n",
              "    .dataframe thead th {\n",
              "        text-align: right;\n",
              "    }\n",
              "</style>\n",
              "<table border=\"1\" class=\"dataframe\">\n",
              "  <thead>\n",
              "    <tr style=\"text-align: right;\">\n",
              "      <th></th>\n",
              "      <th>Age</th>\n",
              "      <th>Cabin</th>\n",
              "      <th>Embarked</th>\n",
              "      <th>Fare</th>\n",
              "      <th>Parch</th>\n",
              "      <th>PassengerId</th>\n",
              "      <th>Pclass</th>\n",
              "      <th>Sex</th>\n",
              "      <th>SibSp</th>\n",
              "      <th>Died</th>\n",
              "      <th>Survived</th>\n",
              "    </tr>\n",
              "  </thead>\n",
              "  <tbody>\n",
              "    <tr>\n",
              "      <th>0</th>\n",
              "      <td>22</td>\n",
              "      <td>M</td>\n",
              "      <td>S</td>\n",
              "      <td>7.2500</td>\n",
              "      <td>0</td>\n",
              "      <td>1</td>\n",
              "      <td>3</td>\n",
              "      <td>male</td>\n",
              "      <td>1</td>\n",
              "      <td>1</td>\n",
              "      <td>0</td>\n",
              "    </tr>\n",
              "    <tr>\n",
              "      <th>1</th>\n",
              "      <td>38</td>\n",
              "      <td>C</td>\n",
              "      <td>C</td>\n",
              "      <td>71.2833</td>\n",
              "      <td>0</td>\n",
              "      <td>2</td>\n",
              "      <td>1</td>\n",
              "      <td>female</td>\n",
              "      <td>1</td>\n",
              "      <td>0</td>\n",
              "      <td>1</td>\n",
              "    </tr>\n",
              "    <tr>\n",
              "      <th>2</th>\n",
              "      <td>26</td>\n",
              "      <td>M</td>\n",
              "      <td>S</td>\n",
              "      <td>7.9250</td>\n",
              "      <td>0</td>\n",
              "      <td>3</td>\n",
              "      <td>3</td>\n",
              "      <td>female</td>\n",
              "      <td>0</td>\n",
              "      <td>0</td>\n",
              "      <td>1</td>\n",
              "    </tr>\n",
              "    <tr>\n",
              "      <th>3</th>\n",
              "      <td>35</td>\n",
              "      <td>C</td>\n",
              "      <td>S</td>\n",
              "      <td>53.1000</td>\n",
              "      <td>0</td>\n",
              "      <td>4</td>\n",
              "      <td>1</td>\n",
              "      <td>female</td>\n",
              "      <td>1</td>\n",
              "      <td>0</td>\n",
              "      <td>1</td>\n",
              "    </tr>\n",
              "    <tr>\n",
              "      <th>4</th>\n",
              "      <td>35</td>\n",
              "      <td>M</td>\n",
              "      <td>S</td>\n",
              "      <td>8.0500</td>\n",
              "      <td>0</td>\n",
              "      <td>5</td>\n",
              "      <td>3</td>\n",
              "      <td>male</td>\n",
              "      <td>0</td>\n",
              "      <td>1</td>\n",
              "      <td>0</td>\n",
              "    </tr>\n",
              "    <tr>\n",
              "      <th>...</th>\n",
              "      <td>...</td>\n",
              "      <td>...</td>\n",
              "      <td>...</td>\n",
              "      <td>...</td>\n",
              "      <td>...</td>\n",
              "      <td>...</td>\n",
              "      <td>...</td>\n",
              "      <td>...</td>\n",
              "      <td>...</td>\n",
              "      <td>...</td>\n",
              "      <td>...</td>\n",
              "    </tr>\n",
              "    <tr>\n",
              "      <th>1304</th>\n",
              "      <td>29</td>\n",
              "      <td>M</td>\n",
              "      <td>S</td>\n",
              "      <td>8.0500</td>\n",
              "      <td>0</td>\n",
              "      <td>1305</td>\n",
              "      <td>3</td>\n",
              "      <td>male</td>\n",
              "      <td>0</td>\n",
              "      <td>1</td>\n",
              "      <td>0</td>\n",
              "    </tr>\n",
              "    <tr>\n",
              "      <th>1305</th>\n",
              "      <td>39</td>\n",
              "      <td>C</td>\n",
              "      <td>C</td>\n",
              "      <td>108.9000</td>\n",
              "      <td>0</td>\n",
              "      <td>1306</td>\n",
              "      <td>1</td>\n",
              "      <td>female</td>\n",
              "      <td>0</td>\n",
              "      <td>0</td>\n",
              "      <td>1</td>\n",
              "    </tr>\n",
              "    <tr>\n",
              "      <th>1306</th>\n",
              "      <td>38</td>\n",
              "      <td>M</td>\n",
              "      <td>S</td>\n",
              "      <td>7.2500</td>\n",
              "      <td>0</td>\n",
              "      <td>1307</td>\n",
              "      <td>3</td>\n",
              "      <td>male</td>\n",
              "      <td>0</td>\n",
              "      <td>1</td>\n",
              "      <td>0</td>\n",
              "    </tr>\n",
              "    <tr>\n",
              "      <th>1307</th>\n",
              "      <td>29</td>\n",
              "      <td>M</td>\n",
              "      <td>S</td>\n",
              "      <td>8.0500</td>\n",
              "      <td>0</td>\n",
              "      <td>1308</td>\n",
              "      <td>3</td>\n",
              "      <td>male</td>\n",
              "      <td>0</td>\n",
              "      <td>1</td>\n",
              "      <td>0</td>\n",
              "    </tr>\n",
              "    <tr>\n",
              "      <th>1308</th>\n",
              "      <td>29</td>\n",
              "      <td>M</td>\n",
              "      <td>C</td>\n",
              "      <td>22.3583</td>\n",
              "      <td>1</td>\n",
              "      <td>1309</td>\n",
              "      <td>3</td>\n",
              "      <td>male</td>\n",
              "      <td>1</td>\n",
              "      <td>1</td>\n",
              "      <td>0</td>\n",
              "    </tr>\n",
              "  </tbody>\n",
              "</table>\n",
              "<p>1309 rows × 11 columns</p>\n",
              "</div>"
            ],
            "text/plain": [
              "      Age Cabin Embarked      Fare  ...     Sex  SibSp  Died Survived\n",
              "0      22     M        S    7.2500  ...    male      1     1        0\n",
              "1      38     C        C   71.2833  ...  female      1     0        1\n",
              "2      26     M        S    7.9250  ...  female      0     0        1\n",
              "3      35     C        S   53.1000  ...  female      1     0        1\n",
              "4      35     M        S    8.0500  ...    male      0     1        0\n",
              "...   ...   ...      ...       ...  ...     ...    ...   ...      ...\n",
              "1304   29     M        S    8.0500  ...    male      0     1        0\n",
              "1305   39     C        C  108.9000  ...  female      0     0        1\n",
              "1306   38     M        S    7.2500  ...    male      0     1        0\n",
              "1307   29     M        S    8.0500  ...    male      0     1        0\n",
              "1308   29     M        C   22.3583  ...    male      1     1        0\n",
              "\n",
              "[1309 rows x 11 columns]"
            ]
          },
          "metadata": {
            "tags": []
          },
          "execution_count": 320
        }
      ]
    },
    {
      "cell_type": "code",
      "metadata": {
        "id": "C8RV3D5NXdai"
      },
      "source": [
        "d_survived=df_titanic['Died']\r\n",
        "d_survived.replace(0,'Alive',inplace=True)\r\n",
        "d_survived.replace(1,'Dead',inplace=True)\r\n",
        "d_survived=pd.DataFrame(d_survived.value_counts().reset_index())\r\n",
        "d_survived.rename(columns={'index':'Survival'},inplace=True)"
      ],
      "execution_count": null,
      "outputs": []
    },
    {
      "cell_type": "code",
      "metadata": {
        "colab": {
          "base_uri": "https://localhost:8080/",
          "height": 513
        },
        "id": "gy6KchQqZCYp",
        "outputId": "66d07dd1-339e-48ba-9b8c-c06dc0a9f727"
      },
      "source": [
        "plt.figure(figsize=(4,8))\r\n",
        "sns.barplot(data=d_survived,x='Survival',y='Died',palette='Spectral_r')\r\n",
        "sns.set_style('darkgrid')\r\n",
        "plt.title(\"Survivors\")\r\n",
        "plt.ylabel('Count')\r\n",
        "plt.xlabel('Has Survived')\r\n",
        "for index,value in enumerate(d_survived['Died']):\r\n",
        "  plt.annotate('%.2f'%value, xy=(index-0.15,value+1), color='Black')\r\n",
        "plt.show()"
      ],
      "execution_count": null,
      "outputs": [
        {
          "output_type": "display_data",
          "data": {
            "image/png": "[encoded data removed]",
            "text/plain": [
              "<Figure size 288x576 with 1 Axes>"
            ]
          },
          "metadata": {
            "tags": []
          }
        }
      ]
    },
    {
      "cell_type": "code",
      "metadata": {
        "id": "BUnuBN2W_pWN",
        "colab": {
          "base_uri": "https://localhost:8080/",
          "height": 419
        },
        "outputId": "9e040c52-e2ab-4c44-abc4-c3ea54a2bafc"
      },
      "source": [
        "d_ageS=df_titanic.groupby('Age')['Survived'].mean().reset_index()\r\n",
        "d_ageS=pd.DataFrame(d_ageS)\r\n",
        "d_ageS.rename(columns={'Survived':'Survival Rate'},inplace=True)\r\n",
        "d_ageS['Survival Rate']=d_ageS['Survival Rate']*100\r\n",
        "d_ageS"
      ],
      "execution_count": null,
      "outputs": [
        {
          "output_type": "execute_result",
          "data": {
            "text/html": [
              "<div>\n",
              "<style scoped>\n",
              "    .dataframe tbody tr th:only-of-type {\n",
              "        vertical-align: middle;\n",
              "    }\n",
              "\n",
              "    .dataframe tbody tr th {\n",
              "        vertical-align: top;\n",
              "    }\n",
              "\n",
              "    .dataframe thead th {\n",
              "        text-align: right;\n",
              "    }\n",
              "</style>\n",
              "<table border=\"1\" class=\"dataframe\">\n",
              "  <thead>\n",
              "    <tr style=\"text-align: right;\">\n",
              "      <th></th>\n",
              "      <th>Age</th>\n",
              "      <th>Survival Rate</th>\n",
              "    </tr>\n",
              "  </thead>\n",
              "  <tbody>\n",
              "    <tr>\n",
              "      <th>0</th>\n",
              "      <td>0</td>\n",
              "      <td>75.000000</td>\n",
              "    </tr>\n",
              "    <tr>\n",
              "      <th>1</th>\n",
              "      <td>1</td>\n",
              "      <td>80.000000</td>\n",
              "    </tr>\n",
              "    <tr>\n",
              "      <th>2</th>\n",
              "      <td>2</td>\n",
              "      <td>33.333333</td>\n",
              "    </tr>\n",
              "    <tr>\n",
              "      <th>3</th>\n",
              "      <td>3</td>\n",
              "      <td>85.714286</td>\n",
              "    </tr>\n",
              "    <tr>\n",
              "      <th>4</th>\n",
              "      <td>4</td>\n",
              "      <td>70.000000</td>\n",
              "    </tr>\n",
              "    <tr>\n",
              "      <th>...</th>\n",
              "      <td>...</td>\n",
              "      <td>...</td>\n",
              "    </tr>\n",
              "    <tr>\n",
              "      <th>68</th>\n",
              "      <td>70</td>\n",
              "      <td>0.000000</td>\n",
              "    </tr>\n",
              "    <tr>\n",
              "      <th>69</th>\n",
              "      <td>71</td>\n",
              "      <td>0.000000</td>\n",
              "    </tr>\n",
              "    <tr>\n",
              "      <th>70</th>\n",
              "      <td>74</td>\n",
              "      <td>0.000000</td>\n",
              "    </tr>\n",
              "    <tr>\n",
              "      <th>71</th>\n",
              "      <td>76</td>\n",
              "      <td>100.000000</td>\n",
              "    </tr>\n",
              "    <tr>\n",
              "      <th>72</th>\n",
              "      <td>80</td>\n",
              "      <td>100.000000</td>\n",
              "    </tr>\n",
              "  </tbody>\n",
              "</table>\n",
              "<p>73 rows × 2 columns</p>\n",
              "</div>"
            ],
            "text/plain": [
              "    Age  Survival Rate\n",
              "0     0      75.000000\n",
              "1     1      80.000000\n",
              "2     2      33.333333\n",
              "3     3      85.714286\n",
              "4     4      70.000000\n",
              "..  ...            ...\n",
              "68   70       0.000000\n",
              "69   71       0.000000\n",
              "70   74       0.000000\n",
              "71   76     100.000000\n",
              "72   80     100.000000\n",
              "\n",
              "[73 rows x 2 columns]"
            ]
          },
          "metadata": {
            "tags": []
          },
          "execution_count": 323
        }
      ]
    },
    {
      "cell_type": "code",
      "metadata": {
        "id": "4c-PEN6lCumi"
      },
      "source": [
        "bin=np.linspace(min(d_ageS['Age']),max(d_ageS['Age']),5)\r\n",
        "group=['Child(0-18 Years)','Youth(19-36 Years)','MiddleAge(37-54 Years)','Old(55-)']"
      ],
      "execution_count": null,
      "outputs": []
    },
    {
      "cell_type": "code",
      "metadata": {
        "colab": {
          "base_uri": "https://localhost:8080/",
          "height": 359
        },
        "id": "SDrYkVNiA-yr",
        "outputId": "ddb66a76-7349-40a6-d84c-7323b0a956c8"
      },
      "source": [
        "d_ageS.describe(percentiles=[0,1/5,1/2,9/10,1])"
      ],
      "execution_count": null,
      "outputs": [
        {
          "output_type": "execute_result",
          "data": {
            "text/html": [
              "<div>\n",
              "<style scoped>\n",
              "    .dataframe tbody tr th:only-of-type {\n",
              "        vertical-align: middle;\n",
              "    }\n",
              "\n",
              "    .dataframe tbody tr th {\n",
              "        vertical-align: top;\n",
              "    }\n",
              "\n",
              "    .dataframe thead th {\n",
              "        text-align: right;\n",
              "    }\n",
              "</style>\n",
              "<table border=\"1\" class=\"dataframe\">\n",
              "  <thead>\n",
              "    <tr style=\"text-align: right;\">\n",
              "      <th></th>\n",
              "      <th>Age</th>\n",
              "      <th>Survival Rate</th>\n",
              "    </tr>\n",
              "  </thead>\n",
              "  <tbody>\n",
              "    <tr>\n",
              "      <th>count</th>\n",
              "      <td>73.000000</td>\n",
              "      <td>73.000000</td>\n",
              "    </tr>\n",
              "    <tr>\n",
              "      <th>mean</th>\n",
              "      <td>36.287671</td>\n",
              "      <td>40.170842</td>\n",
              "    </tr>\n",
              "    <tr>\n",
              "      <th>std</th>\n",
              "      <td>21.723310</td>\n",
              "      <td>24.525813</td>\n",
              "    </tr>\n",
              "    <tr>\n",
              "      <th>min</th>\n",
              "      <td>0.000000</td>\n",
              "      <td>0.000000</td>\n",
              "    </tr>\n",
              "    <tr>\n",
              "      <th>0%</th>\n",
              "      <td>0.000000</td>\n",
              "      <td>0.000000</td>\n",
              "    </tr>\n",
              "    <tr>\n",
              "      <th>20%</th>\n",
              "      <td>14.400000</td>\n",
              "      <td>23.333333</td>\n",
              "    </tr>\n",
              "    <tr>\n",
              "      <th>50%</th>\n",
              "      <td>36.000000</td>\n",
              "      <td>40.000000</td>\n",
              "    </tr>\n",
              "    <tr>\n",
              "      <th>90%</th>\n",
              "      <td>64.800000</td>\n",
              "      <td>75.000000</td>\n",
              "    </tr>\n",
              "    <tr>\n",
              "      <th>100%</th>\n",
              "      <td>80.000000</td>\n",
              "      <td>100.000000</td>\n",
              "    </tr>\n",
              "    <tr>\n",
              "      <th>max</th>\n",
              "      <td>80.000000</td>\n",
              "      <td>100.000000</td>\n",
              "    </tr>\n",
              "  </tbody>\n",
              "</table>\n",
              "</div>"
            ],
            "text/plain": [
              "             Age  Survival Rate\n",
              "count  73.000000      73.000000\n",
              "mean   36.287671      40.170842\n",
              "std    21.723310      24.525813\n",
              "min     0.000000       0.000000\n",
              "0%      0.000000       0.000000\n",
              "20%    14.400000      23.333333\n",
              "50%    36.000000      40.000000\n",
              "90%    64.800000      75.000000\n",
              "100%   80.000000     100.000000\n",
              "max    80.000000     100.000000"
            ]
          },
          "metadata": {
            "tags": []
          },
          "execution_count": 325
        }
      ]
    },
    {
      "cell_type": "code",
      "metadata": {
        "id": "EMrj6OLxDEwO"
      },
      "source": [
        "d_ageS['Category']=pd.qcut(d_ageS['Age'],labels=group,q=[0,1/5,1/2,9/10,1])\r\n",
        "d_ageS=pd.DataFrame(d_ageS)\r\n",
        "d_ageS=d_ageS.reset_index(drop=True)\r\n",
        "d_ageS.drop('Age',inplace=True,axis=1)\r\n",
        "d_ageS=d_ageS.groupby('Category')['Survival Rate'].mean().reset_index()"
      ],
      "execution_count": null,
      "outputs": []
    },
    {
      "cell_type": "code",
      "metadata": {
        "colab": {
          "base_uri": "https://localhost:8080/",
          "height": 513
        },
        "id": "y9MjiZkeKoaa",
        "outputId": "0c1657b7-72cc-4926-f1b9-f02d4bc093b2"
      },
      "source": [
        "plt.figure(figsize=(10,8))\r\n",
        "sns.barplot(data=d_ageS,x='Category',y='Survival Rate',palette='coolwarm_r')\r\n",
        "sns.set_style('darkgrid')\r\n",
        "plt.title(\"Survivor Rate by Age Categorized\")\r\n",
        "plt.ylabel('Survival Rate %')\r\n",
        "plt.xlabel('Category by Percentile')\r\n",
        "plt.ylim(0,100)\r\n",
        "for index,value in enumerate(d_ageS['Survival Rate']):\r\n",
        "  plt.annotate('%.2f'%value+'%', xy=(index-0.15,value+0.5), color='Black')\r\n",
        "plt.show()"
      ],
      "execution_count": null,
      "outputs": [
        {
          "output_type": "display_data",
          "data": {
            "image/png": "[encoded data removed]",
            "text/plain": [
              "<Figure size 720x576 with 1 Axes>"
            ]
          },
          "metadata": {
            "tags": []
          }
        }
      ]
    },
    {
      "cell_type": "code",
      "metadata": {
        "id": "vIZKkyEaRFqR",
        "colab": {
          "base_uri": "https://localhost:8080/",
          "height": 419
        },
        "outputId": "f1fc48cb-dbc4-4249-96e7-fc1ee48cc567"
      },
      "source": [
        "d_fareS=df_titanic.groupby('Fare')['Survived'].mean().reset_index()\r\n",
        "d_fareS=pd.DataFrame(d_fareS)\r\n",
        "d_fareS.rename(columns={'Survived':'Survival Rate'},inplace=True)\r\n",
        "d_fareS['Survival Rate']=d_fareS['Survival Rate']*100\r\n",
        "d_fareS"
      ],
      "execution_count": null,
      "outputs": [
        {
          "output_type": "execute_result",
          "data": {
            "text/html": [
              "<div>\n",
              "<style scoped>\n",
              "    .dataframe tbody tr th:only-of-type {\n",
              "        vertical-align: middle;\n",
              "    }\n",
              "\n",
              "    .dataframe tbody tr th {\n",
              "        vertical-align: top;\n",
              "    }\n",
              "\n",
              "    .dataframe thead th {\n",
              "        text-align: right;\n",
              "    }\n",
              "</style>\n",
              "<table border=\"1\" class=\"dataframe\">\n",
              "  <thead>\n",
              "    <tr style=\"text-align: right;\">\n",
              "      <th></th>\n",
              "      <th>Fare</th>\n",
              "      <th>Survival Rate</th>\n",
              "    </tr>\n",
              "  </thead>\n",
              "  <tbody>\n",
              "    <tr>\n",
              "      <th>0</th>\n",
              "      <td>0.0000</td>\n",
              "      <td>5.882353</td>\n",
              "    </tr>\n",
              "    <tr>\n",
              "      <th>1</th>\n",
              "      <td>3.1708</td>\n",
              "      <td>0.000000</td>\n",
              "    </tr>\n",
              "    <tr>\n",
              "      <th>2</th>\n",
              "      <td>4.0125</td>\n",
              "      <td>0.000000</td>\n",
              "    </tr>\n",
              "    <tr>\n",
              "      <th>3</th>\n",
              "      <td>5.0000</td>\n",
              "      <td>0.000000</td>\n",
              "    </tr>\n",
              "    <tr>\n",
              "      <th>4</th>\n",
              "      <td>6.2375</td>\n",
              "      <td>0.000000</td>\n",
              "    </tr>\n",
              "    <tr>\n",
              "      <th>...</th>\n",
              "      <td>...</td>\n",
              "      <td>...</td>\n",
              "    </tr>\n",
              "    <tr>\n",
              "      <th>277</th>\n",
              "      <td>227.5250</td>\n",
              "      <td>60.000000</td>\n",
              "    </tr>\n",
              "    <tr>\n",
              "      <th>278</th>\n",
              "      <td>247.5208</td>\n",
              "      <td>66.666667</td>\n",
              "    </tr>\n",
              "    <tr>\n",
              "      <th>279</th>\n",
              "      <td>262.3750</td>\n",
              "      <td>71.428571</td>\n",
              "    </tr>\n",
              "    <tr>\n",
              "      <th>280</th>\n",
              "      <td>263.0000</td>\n",
              "      <td>66.666667</td>\n",
              "    </tr>\n",
              "    <tr>\n",
              "      <th>281</th>\n",
              "      <td>512.3292</td>\n",
              "      <td>100.000000</td>\n",
              "    </tr>\n",
              "  </tbody>\n",
              "</table>\n",
              "<p>282 rows × 2 columns</p>\n",
              "</div>"
            ],
            "text/plain": [
              "         Fare  Survival Rate\n",
              "0      0.0000       5.882353\n",
              "1      3.1708       0.000000\n",
              "2      4.0125       0.000000\n",
              "3      5.0000       0.000000\n",
              "4      6.2375       0.000000\n",
              "..        ...            ...\n",
              "277  227.5250      60.000000\n",
              "278  247.5208      66.666667\n",
              "279  262.3750      71.428571\n",
              "280  263.0000      66.666667\n",
              "281  512.3292     100.000000\n",
              "\n",
              "[282 rows x 2 columns]"
            ]
          },
          "metadata": {
            "tags": []
          },
          "execution_count": 330
        }
      ]
    },
    {
      "cell_type": "code",
      "metadata": {
        "id": "uoNCxnNC7tJw"
      },
      "source": [
        "group=['Low(33th%)','Mid(33-50th%)','High(50-75th%)','Top End(75-100th%)']"
      ],
      "execution_count": null,
      "outputs": []
    },
    {
      "cell_type": "code",
      "metadata": {
        "colab": {
          "base_uri": "https://localhost:8080/",
          "height": 359
        },
        "id": "Cj_fy344_zOH",
        "outputId": "46573508-c408-4a37-c20d-b18ee24dd2a5"
      },
      "source": [
        "d_fareS.describe(percentiles=[0, 1/3, 3/4, 1])"
      ],
      "execution_count": null,
      "outputs": [
        {
          "output_type": "execute_result",
          "data": {
            "text/html": [
              "<div>\n",
              "<style scoped>\n",
              "    .dataframe tbody tr th:only-of-type {\n",
              "        vertical-align: middle;\n",
              "    }\n",
              "\n",
              "    .dataframe tbody tr th {\n",
              "        vertical-align: top;\n",
              "    }\n",
              "\n",
              "    .dataframe thead th {\n",
              "        text-align: right;\n",
              "    }\n",
              "</style>\n",
              "<table border=\"1\" class=\"dataframe\">\n",
              "  <thead>\n",
              "    <tr style=\"text-align: right;\">\n",
              "      <th></th>\n",
              "      <th>Fare</th>\n",
              "      <th>Survival Rate</th>\n",
              "    </tr>\n",
              "  </thead>\n",
              "  <tbody>\n",
              "    <tr>\n",
              "      <th>count</th>\n",
              "      <td>282.000000</td>\n",
              "      <td>282.000000</td>\n",
              "    </tr>\n",
              "    <tr>\n",
              "      <th>mean</th>\n",
              "      <td>38.845278</td>\n",
              "      <td>42.285535</td>\n",
              "    </tr>\n",
              "    <tr>\n",
              "      <th>std</th>\n",
              "      <td>52.997266</td>\n",
              "      <td>38.595774</td>\n",
              "    </tr>\n",
              "    <tr>\n",
              "      <th>min</th>\n",
              "      <td>0.000000</td>\n",
              "      <td>0.000000</td>\n",
              "    </tr>\n",
              "    <tr>\n",
              "      <th>0%</th>\n",
              "      <td>0.000000</td>\n",
              "      <td>0.000000</td>\n",
              "    </tr>\n",
              "    <tr>\n",
              "      <th>33.3%</th>\n",
              "      <td>12.283333</td>\n",
              "      <td>0.000000</td>\n",
              "    </tr>\n",
              "    <tr>\n",
              "      <th>50%</th>\n",
              "      <td>20.387500</td>\n",
              "      <td>50.000000</td>\n",
              "    </tr>\n",
              "    <tr>\n",
              "      <th>75%</th>\n",
              "      <td>49.503150</td>\n",
              "      <td>74.107143</td>\n",
              "    </tr>\n",
              "    <tr>\n",
              "      <th>100%</th>\n",
              "      <td>512.329200</td>\n",
              "      <td>100.000000</td>\n",
              "    </tr>\n",
              "    <tr>\n",
              "      <th>max</th>\n",
              "      <td>512.329200</td>\n",
              "      <td>100.000000</td>\n",
              "    </tr>\n",
              "  </tbody>\n",
              "</table>\n",
              "</div>"
            ],
            "text/plain": [
              "             Fare  Survival Rate\n",
              "count  282.000000     282.000000\n",
              "mean    38.845278      42.285535\n",
              "std     52.997266      38.595774\n",
              "min      0.000000       0.000000\n",
              "0%       0.000000       0.000000\n",
              "33.3%   12.283333       0.000000\n",
              "50%     20.387500      50.000000\n",
              "75%     49.503150      74.107143\n",
              "100%   512.329200     100.000000\n",
              "max    512.329200     100.000000"
            ]
          },
          "metadata": {
            "tags": []
          },
          "execution_count": 332
        }
      ]
    },
    {
      "cell_type": "code",
      "metadata": {
        "colab": {
          "base_uri": "https://localhost:8080/",
          "height": 419
        },
        "id": "lYnMazOV6DG8",
        "outputId": "f5178296-ea50-435d-ca4d-e1ece855c3dc"
      },
      "source": [
        "d_fareS['Cost_Range']=pd.qcut(d_fareS['Fare'],labels=group,q=[0,1/3,1/2,3/4,1])\r\n",
        "d_fareS=pd.DataFrame(d_fareS)\r\n",
        "d_fareS=d_fareS.reset_index(drop=True)\r\n",
        "d_fareS"
      ],
      "execution_count": null,
      "outputs": [
        {
          "output_type": "execute_result",
          "data": {
            "text/html": [
              "<div>\n",
              "<style scoped>\n",
              "    .dataframe tbody tr th:only-of-type {\n",
              "        vertical-align: middle;\n",
              "    }\n",
              "\n",
              "    .dataframe tbody tr th {\n",
              "        vertical-align: top;\n",
              "    }\n",
              "\n",
              "    .dataframe thead th {\n",
              "        text-align: right;\n",
              "    }\n",
              "</style>\n",
              "<table border=\"1\" class=\"dataframe\">\n",
              "  <thead>\n",
              "    <tr style=\"text-align: right;\">\n",
              "      <th></th>\n",
              "      <th>Fare</th>\n",
              "      <th>Survival Rate</th>\n",
              "      <th>Cost_Range</th>\n",
              "    </tr>\n",
              "  </thead>\n",
              "  <tbody>\n",
              "    <tr>\n",
              "      <th>0</th>\n",
              "      <td>0.0000</td>\n",
              "      <td>5.882353</td>\n",
              "      <td>Low(33th%)</td>\n",
              "    </tr>\n",
              "    <tr>\n",
              "      <th>1</th>\n",
              "      <td>3.1708</td>\n",
              "      <td>0.000000</td>\n",
              "      <td>Low(33th%)</td>\n",
              "    </tr>\n",
              "    <tr>\n",
              "      <th>2</th>\n",
              "      <td>4.0125</td>\n",
              "      <td>0.000000</td>\n",
              "      <td>Low(33th%)</td>\n",
              "    </tr>\n",
              "    <tr>\n",
              "      <th>3</th>\n",
              "      <td>5.0000</td>\n",
              "      <td>0.000000</td>\n",
              "      <td>Low(33th%)</td>\n",
              "    </tr>\n",
              "    <tr>\n",
              "      <th>4</th>\n",
              "      <td>6.2375</td>\n",
              "      <td>0.000000</td>\n",
              "      <td>Low(33th%)</td>\n",
              "    </tr>\n",
              "    <tr>\n",
              "      <th>...</th>\n",
              "      <td>...</td>\n",
              "      <td>...</td>\n",
              "      <td>...</td>\n",
              "    </tr>\n",
              "    <tr>\n",
              "      <th>277</th>\n",
              "      <td>227.5250</td>\n",
              "      <td>60.000000</td>\n",
              "      <td>Top End(75-100th%)</td>\n",
              "    </tr>\n",
              "    <tr>\n",
              "      <th>278</th>\n",
              "      <td>247.5208</td>\n",
              "      <td>66.666667</td>\n",
              "      <td>Top End(75-100th%)</td>\n",
              "    </tr>\n",
              "    <tr>\n",
              "      <th>279</th>\n",
              "      <td>262.3750</td>\n",
              "      <td>71.428571</td>\n",
              "      <td>Top End(75-100th%)</td>\n",
              "    </tr>\n",
              "    <tr>\n",
              "      <th>280</th>\n",
              "      <td>263.0000</td>\n",
              "      <td>66.666667</td>\n",
              "      <td>Top End(75-100th%)</td>\n",
              "    </tr>\n",
              "    <tr>\n",
              "      <th>281</th>\n",
              "      <td>512.3292</td>\n",
              "      <td>100.000000</td>\n",
              "      <td>Top End(75-100th%)</td>\n",
              "    </tr>\n",
              "  </tbody>\n",
              "</table>\n",
              "<p>282 rows × 3 columns</p>\n",
              "</div>"
            ],
            "text/plain": [
              "         Fare  Survival Rate          Cost_Range\n",
              "0      0.0000       5.882353          Low(33th%)\n",
              "1      3.1708       0.000000          Low(33th%)\n",
              "2      4.0125       0.000000          Low(33th%)\n",
              "3      5.0000       0.000000          Low(33th%)\n",
              "4      6.2375       0.000000          Low(33th%)\n",
              "..        ...            ...                 ...\n",
              "277  227.5250      60.000000  Top End(75-100th%)\n",
              "278  247.5208      66.666667  Top End(75-100th%)\n",
              "279  262.3750      71.428571  Top End(75-100th%)\n",
              "280  263.0000      66.666667  Top End(75-100th%)\n",
              "281  512.3292     100.000000  Top End(75-100th%)\n",
              "\n",
              "[282 rows x 3 columns]"
            ]
          },
          "metadata": {
            "tags": []
          },
          "execution_count": 333
        }
      ]
    },
    {
      "cell_type": "code",
      "metadata": {
        "id": "EhDj6jWX6ZJp"
      },
      "source": [
        "d_fareS=pd.DataFrame(d_fareS.groupby('Cost_Range')['Survival Rate'].mean().reset_index())\r\n"
      ],
      "execution_count": null,
      "outputs": []
    },
    {
      "cell_type": "code",
      "metadata": {
        "colab": {
          "base_uri": "https://localhost:8080/",
          "height": 730
        },
        "id": "3yTpxGIw7UV3",
        "outputId": "9f53ee30-8259-4b07-d73e-1aa148a5dcc3"
      },
      "source": [
        "plt.figure(figsize=(8,12))\r\n",
        "sns.barplot(data=d_fareS,x='Cost_Range',y='Survival Rate',palette='Greens')\r\n",
        "sns.set_style('darkgrid')\r\n",
        "plt.ylabel('Survival Rate %')\r\n",
        "plt.xlabel('Cost Range by Percentile')\r\n",
        "plt.title(\"Survivor Rate by Ticket Cost Categorized\")\r\n",
        "plt.ylim(0,100)\r\n",
        "for index, value in enumerate(d_fareS['Survival Rate']):\r\n",
        "  plt.annotate('%.2f'%value+'%', xy=(index-0.15,value+0.5), color='Black')\r\n",
        "plt.show()"
      ],
      "execution_count": null,
      "outputs": [
        {
          "output_type": "display_data",
          "data": {
            "image/png": "[encoded data removed]",
            "text/plain": [
              "<Figure size 576x864 with 1 Axes>"
            ]
          },
          "metadata": {
            "tags": []
          }
        }
      ]
    },
    {
      "cell_type": "code",
      "metadata": {
        "id": "LN83315V-GIg"
      },
      "source": [
        "d_cabin=df_titanic.groupby('Cabin')['Survived'].mean().reset_index()\r\n",
        "d_cabin.rename(columns={'Survived':'Survival Rate'},inplace=True)\r\n",
        "d_cabin['Survival Rate']=d_cabin['Survival Rate']*100"
      ],
      "execution_count": null,
      "outputs": []
    },
    {
      "cell_type": "code",
      "metadata": {
        "colab": {
          "base_uri": "https://localhost:8080/",
          "height": 328
        },
        "id": "LfSVNZi23yCT",
        "outputId": "c259c922-d6b3-4df4-9fe9-2ad978bc0a83"
      },
      "source": [
        "d_cabin"
      ],
      "execution_count": null,
      "outputs": [
        {
          "output_type": "execute_result",
          "data": {
            "text/html": [
              "<div>\n",
              "<style scoped>\n",
              "    .dataframe tbody tr th:only-of-type {\n",
              "        vertical-align: middle;\n",
              "    }\n",
              "\n",
              "    .dataframe tbody tr th {\n",
              "        vertical-align: top;\n",
              "    }\n",
              "\n",
              "    .dataframe thead th {\n",
              "        text-align: right;\n",
              "    }\n",
              "</style>\n",
              "<table border=\"1\" class=\"dataframe\">\n",
              "  <thead>\n",
              "    <tr style=\"text-align: right;\">\n",
              "      <th></th>\n",
              "      <th>Cabin</th>\n",
              "      <th>Survival Rate</th>\n",
              "    </tr>\n",
              "  </thead>\n",
              "  <tbody>\n",
              "    <tr>\n",
              "      <th>0</th>\n",
              "      <td>A</td>\n",
              "      <td>45.454545</td>\n",
              "    </tr>\n",
              "    <tr>\n",
              "      <th>1</th>\n",
              "      <td>B</td>\n",
              "      <td>67.692308</td>\n",
              "    </tr>\n",
              "    <tr>\n",
              "      <th>2</th>\n",
              "      <td>C</td>\n",
              "      <td>57.446809</td>\n",
              "    </tr>\n",
              "    <tr>\n",
              "      <th>3</th>\n",
              "      <td>D</td>\n",
              "      <td>65.217391</td>\n",
              "    </tr>\n",
              "    <tr>\n",
              "      <th>4</th>\n",
              "      <td>E</td>\n",
              "      <td>68.292683</td>\n",
              "    </tr>\n",
              "    <tr>\n",
              "      <th>5</th>\n",
              "      <td>F</td>\n",
              "      <td>52.380952</td>\n",
              "    </tr>\n",
              "    <tr>\n",
              "      <th>6</th>\n",
              "      <td>G</td>\n",
              "      <td>60.000000</td>\n",
              "    </tr>\n",
              "    <tr>\n",
              "      <th>7</th>\n",
              "      <td>M</td>\n",
              "      <td>30.966469</td>\n",
              "    </tr>\n",
              "    <tr>\n",
              "      <th>8</th>\n",
              "      <td>T</td>\n",
              "      <td>0.000000</td>\n",
              "    </tr>\n",
              "  </tbody>\n",
              "</table>\n",
              "</div>"
            ],
            "text/plain": [
              "  Cabin  Survival Rate\n",
              "0     A      45.454545\n",
              "1     B      67.692308\n",
              "2     C      57.446809\n",
              "3     D      65.217391\n",
              "4     E      68.292683\n",
              "5     F      52.380952\n",
              "6     G      60.000000\n",
              "7     M      30.966469\n",
              "8     T       0.000000"
            ]
          },
          "metadata": {
            "tags": []
          },
          "execution_count": 337
        }
      ]
    },
    {
      "cell_type": "code",
      "metadata": {
        "colab": {
          "base_uri": "https://localhost:8080/",
          "height": 513
        },
        "id": "OYeb8MPzOwUo",
        "outputId": "fe759ed3-34bf-465a-8c83-a9985f5b5a63"
      },
      "source": [
        "plt.figure(figsize=(14,8))\r\n",
        "sns.barplot(data=d_cabin,y='Cabin',x='Survival Rate',palette='Reds')\r\n",
        "sns.set_style('darkgrid')\r\n",
        "plt.title(\"Survivor Rate by Cabin Categorized\")\r\n",
        "plt.ylabel('Survival Rate %')\r\n",
        "plt.xlim(0,100)\r\n",
        "for index, value in enumerate(d_cabin['Survival Rate']):\r\n",
        "  plt.annotate('%.2f'%value+'%', xy=(value - 8, index - 0), color='Black')\r\n",
        "plt.show()"
      ],
      "execution_count": null,
      "outputs": [
        {
          "output_type": "display_data",
          "data": {
            "image/png": "[encoded data removed]",
            "text/plain": [
              "<Figure size 1008x576 with 1 Axes>"
            ]
          },
          "metadata": {
            "tags": []
          }
        }
      ]
    },
    {
      "cell_type": "code",
      "metadata": {
        "id": "owivmU-wS5AT"
      },
      "source": [
        "d_socioeco=df_titanic.groupby('Pclass')['Survived'].mean().reset_index()\r\n",
        "d_socioeco.rename(columns={'Survived':'Survival Rate'},inplace=True)\r\n",
        "d_socioeco['Survival Rate']=d_socioeco['Survival Rate']*100"
      ],
      "execution_count": null,
      "outputs": []
    },
    {
      "cell_type": "code",
      "metadata": {
        "colab": {
          "base_uri": "https://localhost:8080/",
          "height": 142
        },
        "id": "9LE9xqrbT8eA",
        "outputId": "b4ce519b-66f7-4df8-8b37-2d9694fec310"
      },
      "source": [
        "d_socioeco"
      ],
      "execution_count": null,
      "outputs": [
        {
          "output_type": "execute_result",
          "data": {
            "text/html": [
              "<div>\n",
              "<style scoped>\n",
              "    .dataframe tbody tr th:only-of-type {\n",
              "        vertical-align: middle;\n",
              "    }\n",
              "\n",
              "    .dataframe tbody tr th {\n",
              "        vertical-align: top;\n",
              "    }\n",
              "\n",
              "    .dataframe thead th {\n",
              "        text-align: right;\n",
              "    }\n",
              "</style>\n",
              "<table border=\"1\" class=\"dataframe\">\n",
              "  <thead>\n",
              "    <tr style=\"text-align: right;\">\n",
              "      <th></th>\n",
              "      <th>Pclass</th>\n",
              "      <th>Survival Rate</th>\n",
              "    </tr>\n",
              "  </thead>\n",
              "  <tbody>\n",
              "    <tr>\n",
              "      <th>0</th>\n",
              "      <td>1</td>\n",
              "      <td>57.585139</td>\n",
              "    </tr>\n",
              "    <tr>\n",
              "      <th>1</th>\n",
              "      <td>2</td>\n",
              "      <td>42.238267</td>\n",
              "    </tr>\n",
              "    <tr>\n",
              "      <th>2</th>\n",
              "      <td>3</td>\n",
              "      <td>26.939351</td>\n",
              "    </tr>\n",
              "  </tbody>\n",
              "</table>\n",
              "</div>"
            ],
            "text/plain": [
              "   Pclass  Survival Rate\n",
              "0       1      57.585139\n",
              "1       2      42.238267\n",
              "2       3      26.939351"
            ]
          },
          "metadata": {
            "tags": []
          },
          "execution_count": 340
        }
      ]
    },
    {
      "cell_type": "code",
      "metadata": {
        "colab": {
          "base_uri": "https://localhost:8080/",
          "height": 513
        },
        "id": "GUS5YkJqUGHM",
        "outputId": "e7f8b161-72d5-4e1d-83e0-9b9def3d5403"
      },
      "source": [
        "plt.figure(figsize=(6,8))\r\n",
        "sns.barplot(data=d_socioeco,x='Pclass',y='Survival Rate',palette='coolwarm_r')\r\n",
        "sns.set_style('darkgrid')\r\n",
        "plt.title(\"Survivor Rate by Socio-Economic Condition\")\r\n",
        "plt.ylabel('Survival Rate %')\r\n",
        "plt.xlabel('Socio-Eco Status( 1 > 2 > 3)')\r\n",
        "plt.ylim(0,100)\r\n",
        "for index, value in enumerate(d_socioeco['Survival Rate']):\r\n",
        "  plt.annotate('%.2f'%value+'%', xy=(index-0.15,value+0.5), color='Black')\r\n",
        "plt.show()"
      ],
      "execution_count": null,
      "outputs": [
        {
          "output_type": "display_data",
          "data": {
            "image/png": "[encoded data removed]",
            "text/plain": [
              "<Figure size 432x576 with 1 Axes>"
            ]
          },
          "metadata": {
            "tags": []
          }
        }
      ]
    },
    {
      "cell_type": "code",
      "metadata": {
        "colab": {
          "base_uri": "https://localhost:8080/",
          "height": 419
        },
        "id": "5mTi-0qNdZuI",
        "outputId": "82bd0c57-3937-48cd-fb53-970db890cf46"
      },
      "source": [
        "df_titanic"
      ],
      "execution_count": null,
      "outputs": [
        {
          "output_type": "execute_result",
          "data": {
            "text/html": [
              "<div>\n",
              "<style scoped>\n",
              "    .dataframe tbody tr th:only-of-type {\n",
              "        vertical-align: middle;\n",
              "    }\n",
              "\n",
              "    .dataframe tbody tr th {\n",
              "        vertical-align: top;\n",
              "    }\n",
              "\n",
              "    .dataframe thead th {\n",
              "        text-align: right;\n",
              "    }\n",
              "</style>\n",
              "<table border=\"1\" class=\"dataframe\">\n",
              "  <thead>\n",
              "    <tr style=\"text-align: right;\">\n",
              "      <th></th>\n",
              "      <th>Age</th>\n",
              "      <th>Cabin</th>\n",
              "      <th>Embarked</th>\n",
              "      <th>Fare</th>\n",
              "      <th>Parch</th>\n",
              "      <th>PassengerId</th>\n",
              "      <th>Pclass</th>\n",
              "      <th>Sex</th>\n",
              "      <th>SibSp</th>\n",
              "      <th>Died</th>\n",
              "      <th>Survived</th>\n",
              "    </tr>\n",
              "  </thead>\n",
              "  <tbody>\n",
              "    <tr>\n",
              "      <th>0</th>\n",
              "      <td>22</td>\n",
              "      <td>M</td>\n",
              "      <td>S</td>\n",
              "      <td>7.2500</td>\n",
              "      <td>0</td>\n",
              "      <td>1</td>\n",
              "      <td>3</td>\n",
              "      <td>male</td>\n",
              "      <td>1</td>\n",
              "      <td>Dead</td>\n",
              "      <td>0</td>\n",
              "    </tr>\n",
              "    <tr>\n",
              "      <th>1</th>\n",
              "      <td>38</td>\n",
              "      <td>C</td>\n",
              "      <td>C</td>\n",
              "      <td>71.2833</td>\n",
              "      <td>0</td>\n",
              "      <td>2</td>\n",
              "      <td>1</td>\n",
              "      <td>female</td>\n",
              "      <td>1</td>\n",
              "      <td>Alive</td>\n",
              "      <td>1</td>\n",
              "    </tr>\n",
              "    <tr>\n",
              "      <th>2</th>\n",
              "      <td>26</td>\n",
              "      <td>M</td>\n",
              "      <td>S</td>\n",
              "      <td>7.9250</td>\n",
              "      <td>0</td>\n",
              "      <td>3</td>\n",
              "      <td>3</td>\n",
              "      <td>female</td>\n",
              "      <td>0</td>\n",
              "      <td>Alive</td>\n",
              "      <td>1</td>\n",
              "    </tr>\n",
              "    <tr>\n",
              "      <th>3</th>\n",
              "      <td>35</td>\n",
              "      <td>C</td>\n",
              "      <td>S</td>\n",
              "      <td>53.1000</td>\n",
              "      <td>0</td>\n",
              "      <td>4</td>\n",
              "      <td>1</td>\n",
              "      <td>female</td>\n",
              "      <td>1</td>\n",
              "      <td>Alive</td>\n",
              "      <td>1</td>\n",
              "    </tr>\n",
              "    <tr>\n",
              "      <th>4</th>\n",
              "      <td>35</td>\n",
              "      <td>M</td>\n",
              "      <td>S</td>\n",
              "      <td>8.0500</td>\n",
              "      <td>0</td>\n",
              "      <td>5</td>\n",
              "      <td>3</td>\n",
              "      <td>male</td>\n",
              "      <td>0</td>\n",
              "      <td>Dead</td>\n",
              "      <td>0</td>\n",
              "    </tr>\n",
              "    <tr>\n",
              "      <th>...</th>\n",
              "      <td>...</td>\n",
              "      <td>...</td>\n",
              "      <td>...</td>\n",
              "      <td>...</td>\n",
              "      <td>...</td>\n",
              "      <td>...</td>\n",
              "      <td>...</td>\n",
              "      <td>...</td>\n",
              "      <td>...</td>\n",
              "      <td>...</td>\n",
              "      <td>...</td>\n",
              "    </tr>\n",
              "    <tr>\n",
              "      <th>1304</th>\n",
              "      <td>29</td>\n",
              "      <td>M</td>\n",
              "      <td>S</td>\n",
              "      <td>8.0500</td>\n",
              "      <td>0</td>\n",
              "      <td>1305</td>\n",
              "      <td>3</td>\n",
              "      <td>male</td>\n",
              "      <td>0</td>\n",
              "      <td>Dead</td>\n",
              "      <td>0</td>\n",
              "    </tr>\n",
              "    <tr>\n",
              "      <th>1305</th>\n",
              "      <td>39</td>\n",
              "      <td>C</td>\n",
              "      <td>C</td>\n",
              "      <td>108.9000</td>\n",
              "      <td>0</td>\n",
              "      <td>1306</td>\n",
              "      <td>1</td>\n",
              "      <td>female</td>\n",
              "      <td>0</td>\n",
              "      <td>Alive</td>\n",
              "      <td>1</td>\n",
              "    </tr>\n",
              "    <tr>\n",
              "      <th>1306</th>\n",
              "      <td>38</td>\n",
              "      <td>M</td>\n",
              "      <td>S</td>\n",
              "      <td>7.2500</td>\n",
              "      <td>0</td>\n",
              "      <td>1307</td>\n",
              "      <td>3</td>\n",
              "      <td>male</td>\n",
              "      <td>0</td>\n",
              "      <td>Dead</td>\n",
              "      <td>0</td>\n",
              "    </tr>\n",
              "    <tr>\n",
              "      <th>1307</th>\n",
              "      <td>29</td>\n",
              "      <td>M</td>\n",
              "      <td>S</td>\n",
              "      <td>8.0500</td>\n",
              "      <td>0</td>\n",
              "      <td>1308</td>\n",
              "      <td>3</td>\n",
              "      <td>male</td>\n",
              "      <td>0</td>\n",
              "      <td>Dead</td>\n",
              "      <td>0</td>\n",
              "    </tr>\n",
              "    <tr>\n",
              "      <th>1308</th>\n",
              "      <td>29</td>\n",
              "      <td>M</td>\n",
              "      <td>C</td>\n",
              "      <td>22.3583</td>\n",
              "      <td>1</td>\n",
              "      <td>1309</td>\n",
              "      <td>3</td>\n",
              "      <td>male</td>\n",
              "      <td>1</td>\n",
              "      <td>Dead</td>\n",
              "      <td>0</td>\n",
              "    </tr>\n",
              "  </tbody>\n",
              "</table>\n",
              "<p>1309 rows × 11 columns</p>\n",
              "</div>"
            ],
            "text/plain": [
              "      Age Cabin Embarked      Fare  ...     Sex  SibSp   Died Survived\n",
              "0      22     M        S    7.2500  ...    male      1   Dead        0\n",
              "1      38     C        C   71.2833  ...  female      1  Alive        1\n",
              "2      26     M        S    7.9250  ...  female      0  Alive        1\n",
              "3      35     C        S   53.1000  ...  female      1  Alive        1\n",
              "4      35     M        S    8.0500  ...    male      0   Dead        0\n",
              "...   ...   ...      ...       ...  ...     ...    ...    ...      ...\n",
              "1304   29     M        S    8.0500  ...    male      0   Dead        0\n",
              "1305   39     C        C  108.9000  ...  female      0  Alive        1\n",
              "1306   38     M        S    7.2500  ...    male      0   Dead        0\n",
              "1307   29     M        S    8.0500  ...    male      0   Dead        0\n",
              "1308   29     M        C   22.3583  ...    male      1   Dead        0\n",
              "\n",
              "[1309 rows x 11 columns]"
            ]
          },
          "metadata": {
            "tags": []
          },
          "execution_count": 342
        }
      ]
    },
    {
      "cell_type": "code",
      "metadata": {
        "id": "C0bKkWAqUm06"
      },
      "source": [
        "d_family=df_titanic[['Parch','SibSp','Survived']]\r\n",
        "d_family['Fsize']=d_family['Parch']+d_family['SibSp']+1\r\n",
        "d_family.drop('Parch',inplace=True,axis=1)\r\n",
        "d_family.drop('SibSp',inplace=True,axis=1)"
      ],
      "execution_count": null,
      "outputs": []
    },
    {
      "cell_type": "code",
      "metadata": {
        "id": "ONHn9oUJe78h"
      },
      "source": [
        "d_family=d_family.groupby('Fsize')['Survived'].mean().reset_index()\r\n",
        "d_family.rename(columns={'Survived':'Survival Rate'},inplace=True)\r\n",
        "d_family['Survival Rate']=d_family['Survival Rate']*100"
      ],
      "execution_count": null,
      "outputs": []
    },
    {
      "cell_type": "code",
      "metadata": {
        "colab": {
          "base_uri": "https://localhost:8080/",
          "height": 328
        },
        "id": "2FF5iVDvfGvb",
        "outputId": "5564f7dc-2542-490a-ea73-41c0cdd99d11"
      },
      "source": [
        "d_family"
      ],
      "execution_count": null,
      "outputs": [
        {
          "output_type": "execute_result",
          "data": {
            "text/html": [
              "<div>\n",
              "<style scoped>\n",
              "    .dataframe tbody tr th:only-of-type {\n",
              "        vertical-align: middle;\n",
              "    }\n",
              "\n",
              "    .dataframe tbody tr th {\n",
              "        vertical-align: top;\n",
              "    }\n",
              "\n",
              "    .dataframe thead th {\n",
              "        text-align: right;\n",
              "    }\n",
              "</style>\n",
              "<table border=\"1\" class=\"dataframe\">\n",
              "  <thead>\n",
              "    <tr style=\"text-align: right;\">\n",
              "      <th></th>\n",
              "      <th>Fsize</th>\n",
              "      <th>Survival Rate</th>\n",
              "    </tr>\n",
              "  </thead>\n",
              "  <tbody>\n",
              "    <tr>\n",
              "      <th>0</th>\n",
              "      <td>0</td>\n",
              "      <td>29.240506</td>\n",
              "    </tr>\n",
              "    <tr>\n",
              "      <th>1</th>\n",
              "      <td>1</td>\n",
              "      <td>53.191489</td>\n",
              "    </tr>\n",
              "    <tr>\n",
              "      <th>2</th>\n",
              "      <td>2</td>\n",
              "      <td>55.974843</td>\n",
              "    </tr>\n",
              "    <tr>\n",
              "      <th>3</th>\n",
              "      <td>3</td>\n",
              "      <td>72.093023</td>\n",
              "    </tr>\n",
              "    <tr>\n",
              "      <th>4</th>\n",
              "      <td>4</td>\n",
              "      <td>22.727273</td>\n",
              "    </tr>\n",
              "    <tr>\n",
              "      <th>5</th>\n",
              "      <td>5</td>\n",
              "      <td>20.000000</td>\n",
              "    </tr>\n",
              "    <tr>\n",
              "      <th>6</th>\n",
              "      <td>6</td>\n",
              "      <td>31.250000</td>\n",
              "    </tr>\n",
              "    <tr>\n",
              "      <th>7</th>\n",
              "      <td>7</td>\n",
              "      <td>12.500000</td>\n",
              "    </tr>\n",
              "    <tr>\n",
              "      <th>8</th>\n",
              "      <td>10</td>\n",
              "      <td>18.181818</td>\n",
              "    </tr>\n",
              "  </tbody>\n",
              "</table>\n",
              "</div>"
            ],
            "text/plain": [
              "   Fsize  Survival Rate\n",
              "0      0      29.240506\n",
              "1      1      53.191489\n",
              "2      2      55.974843\n",
              "3      3      72.093023\n",
              "4      4      22.727273\n",
              "5      5      20.000000\n",
              "6      6      31.250000\n",
              "7      7      12.500000\n",
              "8     10      18.181818"
            ]
          },
          "metadata": {
            "tags": []
          },
          "execution_count": 347
        }
      ]
    },
    {
      "cell_type": "code",
      "metadata": {
        "colab": {
          "base_uri": "https://localhost:8080/",
          "height": 513
        },
        "id": "9rlMZc7Rfduw",
        "outputId": "1304a1b8-c8bc-45d2-d70a-51d1ce9a4b98"
      },
      "source": [
        "plt.figure(figsize=(14,8))\r\n",
        "sns.set_style('darkgrid')\r\n",
        "sns.barplot(data=d_family,y='Fsize',x='Survival Rate',palette='coolwarm_r',orient='h')\r\n",
        "plt.title(\"Survivor Rate by Family Size\")\r\n",
        "plt.xlabel('Survival Rate %')\r\n",
        "plt.ylabel('Family Size')\r\n",
        "plt.xlim(0,100)\r\n",
        "for index, value in enumerate(d_family['Survival Rate']):\r\n",
        "  plt.annotate('%.2f'%value+'%', xy=(value - 6, index - 0), color='Black')\r\n",
        "plt.show()"
      ],
      "execution_count": null,
      "outputs": [
        {
          "output_type": "display_data",
          "data": {
            "image/png": "[encoded data removed]",
            "text/plain": [
              "<Figure size 1008x576 with 1 Axes>"
            ]
          },
          "metadata": {
            "tags": []
          }
        }
      ]
    },
    {
      "cell_type": "code",
      "metadata": {
        "id": "DdD8Eezrf1Bi"
      },
      "source": [
        ""
      ],
      "execution_count": null,
      "outputs": []
    }
  ]
}
