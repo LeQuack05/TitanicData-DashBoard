{
  "nbformat": 4,
  "nbformat_minor": 0,
  "metadata": {
    "colab": {
      "name": "TitanicDashBoard.ipynb",
      "provenance": []
    },
    "kernelspec": {
      "name": "python3",
      "display_name": "Python 3"
    }
  },
  "cells": [
    {
      "cell_type": "markdown",
      "metadata": {
        "id": "ZomHlEYmebhs"
      },
      "source": [
        "# **All Imports**"
      ]
    },
    {
      "cell_type": "code",
      "metadata": {
        "id": "uWi_Kpbjeelr"
      },
      "source": [
        "#pip install dash"
      ],
      "execution_count": 85,
      "outputs": []
    },
    {
      "cell_type": "code",
      "metadata": {
        "id": "9uHFU8ieWV7Q"
      },
      "source": [
        "#pip install jupyter_dash"
      ],
      "execution_count": 86,
      "outputs": []
    },
    {
      "cell_type": "code",
      "metadata": {
        "id": "ydd0gaiEVnHT"
      },
      "source": [
        "import pandas as pd\r\n",
        "import dash\r\n",
        "import dash_html_components as html\r\n",
        "import dash_core_components as dcc\r\n",
        "from dash.dependencies import Input, Output\r\n",
        "from jupyter_dash import JupyterDash\r\n",
        "import plotly.express as px\r\n",
        "import numpy as np\r\n",
        "import plotly.graph_objects as go"
      ],
      "execution_count": 87,
      "outputs": []
    },
    {
      "cell_type": "code",
      "metadata": {
        "colab": {
          "base_uri": "https://localhost:8080/",
          "height": 0
        },
        "id": "A4bfl-W3Wheu",
        "outputId": "f78a5c8c-f64b-49fe-e614-86bcd8760a29"
      },
      "source": [
        "df_titanic=pd.read_csv('TitanicClean.csv')\r\n",
        "df_titanic.drop('Unnamed: 0',axis=1,inplace=True)\r\n",
        "df_titanic"
      ],
      "execution_count": 88,
      "outputs": [
        {
          "output_type": "execute_result",
          "data": {
            "text/html": [
              "<div>\n",
              "<style scoped>\n",
              "    .dataframe tbody tr th:only-of-type {\n",
              "        vertical-align: middle;\n",
              "    }\n",
              "\n",
              "    .dataframe tbody tr th {\n",
              "        vertical-align: top;\n",
              "    }\n",
              "\n",
              "    .dataframe thead th {\n",
              "        text-align: right;\n",
              "    }\n",
              "</style>\n",
              "<table border=\"1\" class=\"dataframe\">\n",
              "  <thead>\n",
              "    <tr style=\"text-align: right;\">\n",
              "      <th></th>\n",
              "      <th>Age</th>\n",
              "      <th>Cabin</th>\n",
              "      <th>Embarked</th>\n",
              "      <th>Fare</th>\n",
              "      <th>Parch</th>\n",
              "      <th>PassengerId</th>\n",
              "      <th>Pclass</th>\n",
              "      <th>Sex</th>\n",
              "      <th>SibSp</th>\n",
              "      <th>Died</th>\n",
              "      <th>Survived</th>\n",
              "    </tr>\n",
              "  </thead>\n",
              "  <tbody>\n",
              "    <tr>\n",
              "      <th>0</th>\n",
              "      <td>22</td>\n",
              "      <td>M</td>\n",
              "      <td>S</td>\n",
              "      <td>7.2500</td>\n",
              "      <td>0</td>\n",
              "      <td>1</td>\n",
              "      <td>3</td>\n",
              "      <td>male</td>\n",
              "      <td>1</td>\n",
              "      <td>1</td>\n",
              "      <td>0</td>\n",
              "    </tr>\n",
              "    <tr>\n",
              "      <th>1</th>\n",
              "      <td>38</td>\n",
              "      <td>C</td>\n",
              "      <td>C</td>\n",
              "      <td>71.2833</td>\n",
              "      <td>0</td>\n",
              "      <td>2</td>\n",
              "      <td>1</td>\n",
              "      <td>female</td>\n",
              "      <td>1</td>\n",
              "      <td>0</td>\n",
              "      <td>1</td>\n",
              "    </tr>\n",
              "    <tr>\n",
              "      <th>2</th>\n",
              "      <td>26</td>\n",
              "      <td>M</td>\n",
              "      <td>S</td>\n",
              "      <td>7.9250</td>\n",
              "      <td>0</td>\n",
              "      <td>3</td>\n",
              "      <td>3</td>\n",
              "      <td>female</td>\n",
              "      <td>0</td>\n",
              "      <td>0</td>\n",
              "      <td>1</td>\n",
              "    </tr>\n",
              "    <tr>\n",
              "      <th>3</th>\n",
              "      <td>35</td>\n",
              "      <td>C</td>\n",
              "      <td>S</td>\n",
              "      <td>53.1000</td>\n",
              "      <td>0</td>\n",
              "      <td>4</td>\n",
              "      <td>1</td>\n",
              "      <td>female</td>\n",
              "      <td>1</td>\n",
              "      <td>0</td>\n",
              "      <td>1</td>\n",
              "    </tr>\n",
              "    <tr>\n",
              "      <th>4</th>\n",
              "      <td>35</td>\n",
              "      <td>M</td>\n",
              "      <td>S</td>\n",
              "      <td>8.0500</td>\n",
              "      <td>0</td>\n",
              "      <td>5</td>\n",
              "      <td>3</td>\n",
              "      <td>male</td>\n",
              "      <td>0</td>\n",
              "      <td>1</td>\n",
              "      <td>0</td>\n",
              "    </tr>\n",
              "    <tr>\n",
              "      <th>...</th>\n",
              "      <td>...</td>\n",
              "      <td>...</td>\n",
              "      <td>...</td>\n",
              "      <td>...</td>\n",
              "      <td>...</td>\n",
              "      <td>...</td>\n",
              "      <td>...</td>\n",
              "      <td>...</td>\n",
              "      <td>...</td>\n",
              "      <td>...</td>\n",
              "      <td>...</td>\n",
              "    </tr>\n",
              "    <tr>\n",
              "      <th>1304</th>\n",
              "      <td>29</td>\n",
              "      <td>M</td>\n",
              "      <td>S</td>\n",
              "      <td>8.0500</td>\n",
              "      <td>0</td>\n",
              "      <td>1305</td>\n",
              "      <td>3</td>\n",
              "      <td>male</td>\n",
              "      <td>0</td>\n",
              "      <td>1</td>\n",
              "      <td>0</td>\n",
              "    </tr>\n",
              "    <tr>\n",
              "      <th>1305</th>\n",
              "      <td>39</td>\n",
              "      <td>C</td>\n",
              "      <td>C</td>\n",
              "      <td>108.9000</td>\n",
              "      <td>0</td>\n",
              "      <td>1306</td>\n",
              "      <td>1</td>\n",
              "      <td>female</td>\n",
              "      <td>0</td>\n",
              "      <td>0</td>\n",
              "      <td>1</td>\n",
              "    </tr>\n",
              "    <tr>\n",
              "      <th>1306</th>\n",
              "      <td>38</td>\n",
              "      <td>M</td>\n",
              "      <td>S</td>\n",
              "      <td>7.2500</td>\n",
              "      <td>0</td>\n",
              "      <td>1307</td>\n",
              "      <td>3</td>\n",
              "      <td>male</td>\n",
              "      <td>0</td>\n",
              "      <td>1</td>\n",
              "      <td>0</td>\n",
              "    </tr>\n",
              "    <tr>\n",
              "      <th>1307</th>\n",
              "      <td>29</td>\n",
              "      <td>M</td>\n",
              "      <td>S</td>\n",
              "      <td>8.0500</td>\n",
              "      <td>0</td>\n",
              "      <td>1308</td>\n",
              "      <td>3</td>\n",
              "      <td>male</td>\n",
              "      <td>0</td>\n",
              "      <td>1</td>\n",
              "      <td>0</td>\n",
              "    </tr>\n",
              "    <tr>\n",
              "      <th>1308</th>\n",
              "      <td>29</td>\n",
              "      <td>M</td>\n",
              "      <td>C</td>\n",
              "      <td>22.3583</td>\n",
              "      <td>1</td>\n",
              "      <td>1309</td>\n",
              "      <td>3</td>\n",
              "      <td>male</td>\n",
              "      <td>1</td>\n",
              "      <td>1</td>\n",
              "      <td>0</td>\n",
              "    </tr>\n",
              "  </tbody>\n",
              "</table>\n",
              "<p>1309 rows × 11 columns</p>\n",
              "</div>"
            ],
            "text/plain": [
              "      Age Cabin Embarked      Fare  ...     Sex  SibSp  Died Survived\n",
              "0      22     M        S    7.2500  ...    male      1     1        0\n",
              "1      38     C        C   71.2833  ...  female      1     0        1\n",
              "2      26     M        S    7.9250  ...  female      0     0        1\n",
              "3      35     C        S   53.1000  ...  female      1     0        1\n",
              "4      35     M        S    8.0500  ...    male      0     1        0\n",
              "...   ...   ...      ...       ...  ...     ...    ...   ...      ...\n",
              "1304   29     M        S    8.0500  ...    male      0     1        0\n",
              "1305   39     C        C  108.9000  ...  female      0     0        1\n",
              "1306   38     M        S    7.2500  ...    male      0     1        0\n",
              "1307   29     M        S    8.0500  ...    male      0     1        0\n",
              "1308   29     M        C   22.3583  ...    male      1     1        0\n",
              "\n",
              "[1309 rows x 11 columns]"
            ]
          },
          "metadata": {
            "tags": []
          },
          "execution_count": 88
        }
      ]
    },
    {
      "cell_type": "markdown",
      "metadata": {
        "id": "-CDNZQ-Kb1Xb"
      },
      "source": [
        "# **Graph Data Prep**"
      ]
    },
    {
      "cell_type": "markdown",
      "metadata": {
        "id": "6UGcTjsDcCNl"
      },
      "source": [
        "#Survival"
      ]
    },
    {
      "cell_type": "code",
      "metadata": {
        "colab": {
          "base_uri": "https://localhost:8080/",
          "height": 0
        },
        "id": "U3i-fjkrZimp",
        "outputId": "3f43ac6e-eb67-4fb8-edc1-00bed63c6ed9"
      },
      "source": [
        "d_survived=df_titanic['Died']\r\n",
        "d_survived.replace(0,'Alive',inplace=True)\r\n",
        "d_survived.replace(1,'Dead',inplace=True)\r\n",
        "d_survived=pd.DataFrame(d_survived.value_counts().reset_index())\r\n",
        "d_survived.rename(columns={'index':'Survival'},inplace=True)\r\n",
        "d_survived['Survival']=d_survived['Survival'].astype('category')\r\n",
        "d_survived"
      ],
      "execution_count": 89,
      "outputs": [
        {
          "output_type": "execute_result",
          "data": {
            "text/html": [
              "<div>\n",
              "<style scoped>\n",
              "    .dataframe tbody tr th:only-of-type {\n",
              "        vertical-align: middle;\n",
              "    }\n",
              "\n",
              "    .dataframe tbody tr th {\n",
              "        vertical-align: top;\n",
              "    }\n",
              "\n",
              "    .dataframe thead th {\n",
              "        text-align: right;\n",
              "    }\n",
              "</style>\n",
              "<table border=\"1\" class=\"dataframe\">\n",
              "  <thead>\n",
              "    <tr style=\"text-align: right;\">\n",
              "      <th></th>\n",
              "      <th>Survival</th>\n",
              "      <th>Died</th>\n",
              "    </tr>\n",
              "  </thead>\n",
              "  <tbody>\n",
              "    <tr>\n",
              "      <th>0</th>\n",
              "      <td>Dead</td>\n",
              "      <td>815</td>\n",
              "    </tr>\n",
              "    <tr>\n",
              "      <th>1</th>\n",
              "      <td>Alive</td>\n",
              "      <td>494</td>\n",
              "    </tr>\n",
              "  </tbody>\n",
              "</table>\n",
              "</div>"
            ],
            "text/plain": [
              "  Survival  Died\n",
              "0     Dead   815\n",
              "1    Alive   494"
            ]
          },
          "metadata": {
            "tags": []
          },
          "execution_count": 89
        }
      ]
    },
    {
      "cell_type": "markdown",
      "metadata": {
        "id": "hmTrZ_2ocNWO"
      },
      "source": [
        "#Age Categorizing"
      ]
    },
    {
      "cell_type": "code",
      "metadata": {
        "colab": {
          "base_uri": "https://localhost:8080/",
          "height": 0
        },
        "id": "f-6htm8-cOo9",
        "outputId": "56ffa182-e69d-404f-ca1d-4055b8f0e271"
      },
      "source": [
        "d_ageS=df_titanic.groupby('Age')['Survived'].mean().reset_index()\r\n",
        "d_ageS=pd.DataFrame(d_ageS)\r\n",
        "d_ageS.rename(columns={'Survived':'Survival Rate'},inplace=True)\r\n",
        "d_ageS['Survival Rate']=d_ageS['Survival Rate']*100\r\n",
        "bin=np.linspace(min(d_ageS['Age']),max(d_ageS['Age']),5)\r\n",
        "group=['Child(0-18 Years)','Youth(19-36 Years)','MiddleAge(37-54 Years)','Old(55-)']\r\n",
        "d_ageS['Category']=pd.qcut(d_ageS['Age'],labels=group,q=[0,1/5,1/2,9/10,1])\r\n",
        "d_ageS=pd.DataFrame(d_ageS)\r\n",
        "d_ageS=d_ageS.reset_index(drop=True)\r\n",
        "d_ageS.drop('Age',inplace=True,axis=1)\r\n",
        "d_ageS=d_ageS.groupby('Category')['Survival Rate'].mean().reset_index()\r\n",
        "d_ageS"
      ],
      "execution_count": 90,
      "outputs": [
        {
          "output_type": "execute_result",
          "data": {
            "text/html": [
              "<div>\n",
              "<style scoped>\n",
              "    .dataframe tbody tr th:only-of-type {\n",
              "        vertical-align: middle;\n",
              "    }\n",
              "\n",
              "    .dataframe tbody tr th {\n",
              "        vertical-align: top;\n",
              "    }\n",
              "\n",
              "    .dataframe thead th {\n",
              "        text-align: right;\n",
              "    }\n",
              "</style>\n",
              "<table border=\"1\" class=\"dataframe\">\n",
              "  <thead>\n",
              "    <tr style=\"text-align: right;\">\n",
              "      <th></th>\n",
              "      <th>Category</th>\n",
              "      <th>Survival Rate</th>\n",
              "    </tr>\n",
              "  </thead>\n",
              "  <tbody>\n",
              "    <tr>\n",
              "      <th>0</th>\n",
              "      <td>Child(0-18 Years)</td>\n",
              "      <td>51.825397</td>\n",
              "    </tr>\n",
              "    <tr>\n",
              "      <th>1</th>\n",
              "      <td>Youth(19-36 Years)</td>\n",
              "      <td>40.402807</td>\n",
              "    </tr>\n",
              "    <tr>\n",
              "      <th>2</th>\n",
              "      <td>MiddleAge(37-54 Years)</td>\n",
              "      <td>38.079598</td>\n",
              "    </tr>\n",
              "    <tr>\n",
              "      <th>3</th>\n",
              "      <td>Old(55-)</td>\n",
              "      <td>25.000000</td>\n",
              "    </tr>\n",
              "  </tbody>\n",
              "</table>\n",
              "</div>"
            ],
            "text/plain": [
              "                 Category  Survival Rate\n",
              "0       Child(0-18 Years)      51.825397\n",
              "1      Youth(19-36 Years)      40.402807\n",
              "2  MiddleAge(37-54 Years)      38.079598\n",
              "3                Old(55-)      25.000000"
            ]
          },
          "metadata": {
            "tags": []
          },
          "execution_count": 90
        }
      ]
    },
    {
      "cell_type": "markdown",
      "metadata": {
        "id": "2KOK5w4QcU16"
      },
      "source": [
        "#Ticket Cost Categorizing"
      ]
    },
    {
      "cell_type": "code",
      "metadata": {
        "colab": {
          "base_uri": "https://localhost:8080/",
          "height": 0
        },
        "id": "-Qz4V5nMcVVQ",
        "outputId": "5769650a-646c-4ecd-9695-530da3da26c7"
      },
      "source": [
        "d_fareS=df_titanic.groupby('Fare')['Survived'].mean().reset_index()\r\n",
        "d_fareS=pd.DataFrame(d_fareS)\r\n",
        "d_fareS.rename(columns={'Survived':'Survival Rate'},inplace=True)\r\n",
        "d_fareS['Survival Rate']=d_fareS['Survival Rate']*100\r\n",
        "group=['Low(33th%)','Mid(33-50th%)','High(50-75th%)','Top End(75-100th%)']\r\n",
        "d_fareS['Cost_Range']=pd.qcut(d_fareS['Fare'],labels=group,q=[0,1/3,1/2,3/4,1])\r\n",
        "d_fareS=pd.DataFrame(d_fareS)\r\n",
        "d_fareS=d_fareS.reset_index(drop=True)\r\n",
        "d_fareS=pd.DataFrame(d_fareS.groupby('Cost_Range')['Survival Rate'].mean().reset_index())\r\n",
        "d_fareS"
      ],
      "execution_count": 91,
      "outputs": [
        {
          "output_type": "execute_result",
          "data": {
            "text/html": [
              "<div>\n",
              "<style scoped>\n",
              "    .dataframe tbody tr th:only-of-type {\n",
              "        vertical-align: middle;\n",
              "    }\n",
              "\n",
              "    .dataframe tbody tr th {\n",
              "        vertical-align: top;\n",
              "    }\n",
              "\n",
              "    .dataframe thead th {\n",
              "        text-align: right;\n",
              "    }\n",
              "</style>\n",
              "<table border=\"1\" class=\"dataframe\">\n",
              "  <thead>\n",
              "    <tr style=\"text-align: right;\">\n",
              "      <th></th>\n",
              "      <th>Cost_Range</th>\n",
              "      <th>Survival Rate</th>\n",
              "    </tr>\n",
              "  </thead>\n",
              "  <tbody>\n",
              "    <tr>\n",
              "      <th>0</th>\n",
              "      <td>Low(33th%)</td>\n",
              "      <td>25.620583</td>\n",
              "    </tr>\n",
              "    <tr>\n",
              "      <th>1</th>\n",
              "      <td>Mid(33-50th%)</td>\n",
              "      <td>43.339073</td>\n",
              "    </tr>\n",
              "    <tr>\n",
              "      <th>2</th>\n",
              "      <td>High(50-75th%)</td>\n",
              "      <td>40.863894</td>\n",
              "    </tr>\n",
              "    <tr>\n",
              "      <th>3</th>\n",
              "      <td>Top End(75-100th%)</td>\n",
              "      <td>65.053198</td>\n",
              "    </tr>\n",
              "  </tbody>\n",
              "</table>\n",
              "</div>"
            ],
            "text/plain": [
              "           Cost_Range  Survival Rate\n",
              "0          Low(33th%)      25.620583\n",
              "1       Mid(33-50th%)      43.339073\n",
              "2      High(50-75th%)      40.863894\n",
              "3  Top End(75-100th%)      65.053198"
            ]
          },
          "metadata": {
            "tags": []
          },
          "execution_count": 91
        }
      ]
    },
    {
      "cell_type": "markdown",
      "metadata": {
        "id": "ff9b3Lxqc0A_"
      },
      "source": [
        "#Cabin Categorizing"
      ]
    },
    {
      "cell_type": "code",
      "metadata": {
        "colab": {
          "base_uri": "https://localhost:8080/",
          "height": 0
        },
        "id": "lkhO_BbGdEQn",
        "outputId": "75c85bc7-f843-4876-c338-73651e201ba2"
      },
      "source": [
        "d_cabin=df_titanic.groupby('Cabin')['Survived'].mean().reset_index()\r\n",
        "d_cabin.rename(columns={'Survived':'Survival Rate'},inplace=True)\r\n",
        "d_cabin['Survival Rate']=d_cabin['Survival Rate']*100\r\n",
        "d_cabin"
      ],
      "execution_count": 92,
      "outputs": [
        {
          "output_type": "execute_result",
          "data": {
            "text/html": [
              "<div>\n",
              "<style scoped>\n",
              "    .dataframe tbody tr th:only-of-type {\n",
              "        vertical-align: middle;\n",
              "    }\n",
              "\n",
              "    .dataframe tbody tr th {\n",
              "        vertical-align: top;\n",
              "    }\n",
              "\n",
              "    .dataframe thead th {\n",
              "        text-align: right;\n",
              "    }\n",
              "</style>\n",
              "<table border=\"1\" class=\"dataframe\">\n",
              "  <thead>\n",
              "    <tr style=\"text-align: right;\">\n",
              "      <th></th>\n",
              "      <th>Cabin</th>\n",
              "      <th>Survival Rate</th>\n",
              "    </tr>\n",
              "  </thead>\n",
              "  <tbody>\n",
              "    <tr>\n",
              "      <th>0</th>\n",
              "      <td>A</td>\n",
              "      <td>45.454545</td>\n",
              "    </tr>\n",
              "    <tr>\n",
              "      <th>1</th>\n",
              "      <td>B</td>\n",
              "      <td>67.692308</td>\n",
              "    </tr>\n",
              "    <tr>\n",
              "      <th>2</th>\n",
              "      <td>C</td>\n",
              "      <td>57.446809</td>\n",
              "    </tr>\n",
              "    <tr>\n",
              "      <th>3</th>\n",
              "      <td>D</td>\n",
              "      <td>65.217391</td>\n",
              "    </tr>\n",
              "    <tr>\n",
              "      <th>4</th>\n",
              "      <td>E</td>\n",
              "      <td>68.292683</td>\n",
              "    </tr>\n",
              "    <tr>\n",
              "      <th>5</th>\n",
              "      <td>F</td>\n",
              "      <td>52.380952</td>\n",
              "    </tr>\n",
              "    <tr>\n",
              "      <th>6</th>\n",
              "      <td>G</td>\n",
              "      <td>60.000000</td>\n",
              "    </tr>\n",
              "    <tr>\n",
              "      <th>7</th>\n",
              "      <td>M</td>\n",
              "      <td>30.966469</td>\n",
              "    </tr>\n",
              "    <tr>\n",
              "      <th>8</th>\n",
              "      <td>T</td>\n",
              "      <td>0.000000</td>\n",
              "    </tr>\n",
              "  </tbody>\n",
              "</table>\n",
              "</div>"
            ],
            "text/plain": [
              "  Cabin  Survival Rate\n",
              "0     A      45.454545\n",
              "1     B      67.692308\n",
              "2     C      57.446809\n",
              "3     D      65.217391\n",
              "4     E      68.292683\n",
              "5     F      52.380952\n",
              "6     G      60.000000\n",
              "7     M      30.966469\n",
              "8     T       0.000000"
            ]
          },
          "metadata": {
            "tags": []
          },
          "execution_count": 92
        }
      ]
    },
    {
      "cell_type": "markdown",
      "metadata": {
        "id": "umq3Bt2DdKN-"
      },
      "source": [
        "#Socio-Economic Condition"
      ]
    },
    {
      "cell_type": "code",
      "metadata": {
        "id": "nkNyBT_7qD8A"
      },
      "source": [
        "dict={1:'Poor',2:'Middle Class',3:'Wealthy'}"
      ],
      "execution_count": 93,
      "outputs": []
    },
    {
      "cell_type": "code",
      "metadata": {
        "colab": {
          "base_uri": "https://localhost:8080/",
          "height": 380
        },
        "id": "z8F1dpOidrmi",
        "outputId": "ca61b69e-1aca-4dfe-cc23-d98902cac850"
      },
      "source": [
        "d_socioeco=df_titanic.groupby('Pclass')['Survived'].mean().reset_index()\r\n",
        "d_socioeco.rename(columns={'Survived':'Survival Rate'},inplace=True)\r\n",
        "d_socioeco['Survival Rate']=d_socioeco['Survival Rate']*100\r\n",
        "for i,val in enumerate(d_socioeco['Pclass']):\r\n",
        "  d_socioeco['Pclass'][i]=dict[i+1]\r\n",
        "d_socioeco"
      ],
      "execution_count": 94,
      "outputs": [
        {
          "output_type": "stream",
          "text": [
            "/usr/local/lib/python3.7/dist-packages/ipykernel_launcher.py:5: SettingWithCopyWarning:\n",
            "\n",
            "\n",
            "A value is trying to be set on a copy of a slice from a DataFrame\n",
            "\n",
            "See the caveats in the documentation: https://pandas.pydata.org/pandas-docs/stable/user_guide/indexing.html#returning-a-view-versus-a-copy\n",
            "\n",
            "/usr/local/lib/python3.7/dist-packages/pandas/core/indexing.py:670: SettingWithCopyWarning:\n",
            "\n",
            "\n",
            "A value is trying to be set on a copy of a slice from a DataFrame\n",
            "\n",
            "See the caveats in the documentation: https://pandas.pydata.org/pandas-docs/stable/user_guide/indexing.html#returning-a-view-versus-a-copy\n",
            "\n"
          ],
          "name": "stderr"
        },
        {
          "output_type": "execute_result",
          "data": {
            "text/html": [
              "<div>\n",
              "<style scoped>\n",
              "    .dataframe tbody tr th:only-of-type {\n",
              "        vertical-align: middle;\n",
              "    }\n",
              "\n",
              "    .dataframe tbody tr th {\n",
              "        vertical-align: top;\n",
              "    }\n",
              "\n",
              "    .dataframe thead th {\n",
              "        text-align: right;\n",
              "    }\n",
              "</style>\n",
              "<table border=\"1\" class=\"dataframe\">\n",
              "  <thead>\n",
              "    <tr style=\"text-align: right;\">\n",
              "      <th></th>\n",
              "      <th>Pclass</th>\n",
              "      <th>Survival Rate</th>\n",
              "    </tr>\n",
              "  </thead>\n",
              "  <tbody>\n",
              "    <tr>\n",
              "      <th>0</th>\n",
              "      <td>Poor</td>\n",
              "      <td>57.585139</td>\n",
              "    </tr>\n",
              "    <tr>\n",
              "      <th>1</th>\n",
              "      <td>Middle Class</td>\n",
              "      <td>42.238267</td>\n",
              "    </tr>\n",
              "    <tr>\n",
              "      <th>2</th>\n",
              "      <td>Wealthy</td>\n",
              "      <td>26.939351</td>\n",
              "    </tr>\n",
              "  </tbody>\n",
              "</table>\n",
              "</div>"
            ],
            "text/plain": [
              "         Pclass  Survival Rate\n",
              "0          Poor      57.585139\n",
              "1  Middle Class      42.238267\n",
              "2       Wealthy      26.939351"
            ]
          },
          "metadata": {
            "tags": []
          },
          "execution_count": 94
        }
      ]
    },
    {
      "cell_type": "markdown",
      "metadata": {
        "id": "NBS9ZJGmdxBS"
      },
      "source": [
        "#Family Size Categorizing"
      ]
    },
    {
      "cell_type": "code",
      "metadata": {
        "colab": {
          "base_uri": "https://localhost:8080/",
          "height": 0
        },
        "id": "Uxc_mERfeAjH",
        "outputId": "b61886b2-3285-488b-c2d9-06390fa000f2"
      },
      "source": [
        "d_family=df_titanic[['Parch','SibSp','Survived']]\r\n",
        "d_family['Fsize']=d_family['Parch']+d_family['SibSp']+1\r\n",
        "d_family.drop('Parch',inplace=True,axis=1)\r\n",
        "d_family.drop('SibSp',inplace=True,axis=1)\r\n",
        "d_family=d_family.groupby('Fsize')['Survived'].mean().reset_index()\r\n",
        "d_family.rename(columns={'Survived':'Survival Rate'},inplace=True)\r\n",
        "d_family['Survival Rate']=d_family['Survival Rate']*100\r\n",
        "d_family"
      ],
      "execution_count": 95,
      "outputs": [
        {
          "output_type": "stream",
          "text": [
            "/usr/local/lib/python3.7/dist-packages/ipykernel_launcher.py:2: SettingWithCopyWarning:\n",
            "\n",
            "\n",
            "A value is trying to be set on a copy of a slice from a DataFrame.\n",
            "Try using .loc[row_indexer,col_indexer] = value instead\n",
            "\n",
            "See the caveats in the documentation: https://pandas.pydata.org/pandas-docs/stable/user_guide/indexing.html#returning-a-view-versus-a-copy\n",
            "\n",
            "/usr/local/lib/python3.7/dist-packages/pandas/core/frame.py:4174: SettingWithCopyWarning:\n",
            "\n",
            "\n",
            "A value is trying to be set on a copy of a slice from a DataFrame\n",
            "\n",
            "See the caveats in the documentation: https://pandas.pydata.org/pandas-docs/stable/user_guide/indexing.html#returning-a-view-versus-a-copy\n",
            "\n"
          ],
          "name": "stderr"
        },
        {
          "output_type": "execute_result",
          "data": {
            "text/html": [
              "<div>\n",
              "<style scoped>\n",
              "    .dataframe tbody tr th:only-of-type {\n",
              "        vertical-align: middle;\n",
              "    }\n",
              "\n",
              "    .dataframe tbody tr th {\n",
              "        vertical-align: top;\n",
              "    }\n",
              "\n",
              "    .dataframe thead th {\n",
              "        text-align: right;\n",
              "    }\n",
              "</style>\n",
              "<table border=\"1\" class=\"dataframe\">\n",
              "  <thead>\n",
              "    <tr style=\"text-align: right;\">\n",
              "      <th></th>\n",
              "      <th>Fsize</th>\n",
              "      <th>Survival Rate</th>\n",
              "    </tr>\n",
              "  </thead>\n",
              "  <tbody>\n",
              "    <tr>\n",
              "      <th>0</th>\n",
              "      <td>1</td>\n",
              "      <td>29.240506</td>\n",
              "    </tr>\n",
              "    <tr>\n",
              "      <th>1</th>\n",
              "      <td>2</td>\n",
              "      <td>53.191489</td>\n",
              "    </tr>\n",
              "    <tr>\n",
              "      <th>2</th>\n",
              "      <td>3</td>\n",
              "      <td>55.974843</td>\n",
              "    </tr>\n",
              "    <tr>\n",
              "      <th>3</th>\n",
              "      <td>4</td>\n",
              "      <td>72.093023</td>\n",
              "    </tr>\n",
              "    <tr>\n",
              "      <th>4</th>\n",
              "      <td>5</td>\n",
              "      <td>22.727273</td>\n",
              "    </tr>\n",
              "    <tr>\n",
              "      <th>5</th>\n",
              "      <td>6</td>\n",
              "      <td>20.000000</td>\n",
              "    </tr>\n",
              "    <tr>\n",
              "      <th>6</th>\n",
              "      <td>7</td>\n",
              "      <td>31.250000</td>\n",
              "    </tr>\n",
              "    <tr>\n",
              "      <th>7</th>\n",
              "      <td>8</td>\n",
              "      <td>12.500000</td>\n",
              "    </tr>\n",
              "    <tr>\n",
              "      <th>8</th>\n",
              "      <td>11</td>\n",
              "      <td>18.181818</td>\n",
              "    </tr>\n",
              "  </tbody>\n",
              "</table>\n",
              "</div>"
            ],
            "text/plain": [
              "   Fsize  Survival Rate\n",
              "0      1      29.240506\n",
              "1      2      53.191489\n",
              "2      3      55.974843\n",
              "3      4      72.093023\n",
              "4      5      22.727273\n",
              "5      6      20.000000\n",
              "6      7      31.250000\n",
              "7      8      12.500000\n",
              "8     11      18.181818"
            ]
          },
          "metadata": {
            "tags": []
          },
          "execution_count": 95
        }
      ]
    },
    {
      "cell_type": "markdown",
      "metadata": {
        "id": "PkEuW-wocbY2"
      },
      "source": [
        "#**DashBoarding**"
      ]
    },
    {
      "cell_type": "code",
      "metadata": {
        "id": "RCzDBnjgZ77j"
      },
      "source": [
        "colors = {\r\n",
        "    'background': '#ADD8E6',\r\n",
        "    'text': '#111111'\r\n",
        "}"
      ],
      "execution_count": 96,
      "outputs": []
    },
    {
      "cell_type": "code",
      "metadata": {
        "colab": {
          "base_uri": "https://localhost:8080/",
          "height": 51
        },
        "id": "Xw9mcQKqZwfx",
        "outputId": "e2bbb2ec-56d4-4ef4-b1c3-90f19ef8c667"
      },
      "source": [
        "app = JupyterDash(__name__)\r\n",
        "\r\n",
        "fig_survival=px.bar(d_survived,x='Survival',y='Died',title=\"Survivors\",color='Survival')\r\n",
        "fig_age=px.bar(d_ageS,x='Category',y='Survival Rate',title='Survivor Rate by Age Categorized',color='Category')\r\n",
        "fig_ticket=px.bar(d_fareS,x='Cost_Range',y='Survival Rate',title='Survivor Rate by Ticket Cost Categorized',color='Cost_Range')\r\n",
        "fig_cabin=px.bar(d_cabin,y='Cabin',x='Survival Rate',title='Survivor Rate by Cabin Categorized',color='Cabin',orientation='h')\r\n",
        "fig_socioeco=px.bar(d_socioeco,x='Pclass',y='Survival Rate',title='Survivor Rate by Socio-Economic Condition',color='Pclass')\r\n",
        "fig_family=px.bar(d_family,y='Fsize',x='Survival Rate',title='Survivor Rate by Family Size',color='Fsize',orientation='h',color_continuous_scale='oryel')\r\n",
        "\r\n",
        "app.layout=html.Div(style={'backgroundColor': colors['background']},children=[html.H1('Titanic DashBoard',style={'textAlign':'center','color':'#111111','font-size':35}),\r\n",
        "                    html.Br(),\r\n",
        "                    html.Br(),\r\n",
        "                    html.Div([\r\n",
        "                    html.Div(dcc.Graph(figure=fig_survival),style={'width':'50%'}),\r\n",
        "                    html.Div(dcc.Graph(figure=fig_age),style={'width':'50%'}),],\r\n",
        "                    style={'display':'flex'}),\r\n",
        "                    html.Div([\r\n",
        "                    html.Div(dcc.Graph(figure=fig_ticket),style={'width':'50%'}),\r\n",
        "                    html.Div(dcc.Graph(figure=fig_cabin),style={'width':'50%'})\r\n",
        "                    ,],\r\n",
        "                    style={'display':'flex'}),\r\n",
        "                    html.Div([\r\n",
        "                    html.Div(dcc.Graph(figure=fig_socioeco),style={'width':'50%'}),\r\n",
        "                    html.Div(dcc.Graph(figure=fig_family),style={'width':'50%'})\r\n",
        "                    ,],\r\n",
        "                    style={'display':'flex'}),\r\n",
        "                    \r\n",
        "])\r\n",
        "        \r\n",
        "# TODO: Build and run dash app \r\n",
        "if __name__=='__main__':\r\n",
        "  app.run_server(host='127.0.0.1',port='8000',debug=True)\r\n",
        "\r\n"
      ],
      "execution_count": 100,
      "outputs": [
        {
          "output_type": "stream",
          "text": [
            "Dash app running on:\n"
          ],
          "name": "stdout"
        },
        {
          "output_type": "display_data",
          "data": {
            "application/javascript": [
              "(async (port, path, text, element) => {\n",
              "    if (!google.colab.kernel.accessAllowed) {\n",
              "      return;\n",
              "    }\n",
              "    element.appendChild(document.createTextNode(''));\n",
              "    const url = await google.colab.kernel.proxyPort(port);\n",
              "    const anchor = document.createElement('a');\n",
              "    anchor.href = url + path;\n",
              "    anchor.target = '_blank';\n",
              "    anchor.setAttribute('data-href', url + path);\n",
              "    anchor.textContent = text;\n",
              "    element.appendChild(anchor);\n",
              "  })(8000, \"/\", \"http://127.0.0.1:8000/\", window.element)"
            ],
            "text/plain": [
              "<IPython.core.display.Javascript object>"
            ]
          },
          "metadata": {
            "tags": []
          }
        }
      ]
    },
    {
      "cell_type": "code",
      "metadata": {
        "id": "0IzRmROji06S"
      },
      "source": [
        ""
      ],
      "execution_count": 97,
      "outputs": []
    }
  ]
}
