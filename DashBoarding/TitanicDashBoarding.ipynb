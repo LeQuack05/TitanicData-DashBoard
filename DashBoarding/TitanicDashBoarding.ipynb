{
  "nbformat": 4,
  "nbformat_minor": 0,
  "metadata": {
    "colab": {
      "name": "TitanicDashBoarding.ipynb",
      "provenance": [],
      "collapsed_sections": [
        "6UGcTjsDcCNl",
        "2KOK5w4QcU16",
        "ff9b3Lxqc0A_",
        "umq3Bt2DdKN-",
        "NBS9ZJGmdxBS"
      ]
    },
    "kernelspec": {
      "name": "python3",
      "display_name": "Python 3"
    }
  },
  "cells": [
    {
      "cell_type": "markdown",
      "metadata": {
        "id": "ZomHlEYmebhs"
      },
      "source": [
        "# **All Imports**"
      ]
    },
    {
      "cell_type": "code",
      "metadata": {
        "id": "uWi_Kpbjeelr"
      },
      "source": [
        "#pip install dash"
      ],
      "execution_count": 178,
      "outputs": []
    },
    {
      "cell_type": "code",
      "metadata": {
        "id": "N058g3xESx49"
      },
      "source": [
        "#pip install dash_bootstrap_components"
      ],
      "execution_count": 179,
      "outputs": []
    },
    {
      "cell_type": "code",
      "metadata": {
        "id": "9uHFU8ieWV7Q"
      },
      "source": [
        "#pip install jupyter_dash"
      ],
      "execution_count": 180,
      "outputs": []
    },
    {
      "cell_type": "code",
      "metadata": {
        "id": "ydd0gaiEVnHT"
      },
      "source": [
        "import pandas as pd\n",
        "import dash\n",
        "import dash_html_components as html\n",
        "import dash_core_components as dcc\n",
        "from dash.dependencies import Input, Output\n",
        "import dash_bootstrap_components as dbc\n",
        "from jupyter_dash import JupyterDash\n",
        "import plotly.express as px\n",
        "import numpy as np\n",
        "import plotly.graph_objects as go\n",
        "import matplotlib.pyplot as plt\n",
        "import itertools\n",
        "import seaborn as sns"
      ],
      "execution_count": 181,
      "outputs": []
    },
    {
      "cell_type": "code",
      "metadata": {
        "id": "A4bfl-W3Wheu",
        "colab": {
          "base_uri": "https://localhost:8080/",
          "height": 419
        },
        "outputId": "2819e89d-c55b-41cd-e1a7-d9dc16f5a644"
      },
      "source": [
        "df_titanic=pd.read_csv('TitanicClean.csv')\n",
        "df_titanic.drop('Unnamed: 0',axis=1,inplace=True)\n",
        "df_titanic"
      ],
      "execution_count": 182,
      "outputs": [
        {
          "output_type": "execute_result",
          "data": {
            "text/html": [
              "<div>\n",
              "<style scoped>\n",
              "    .dataframe tbody tr th:only-of-type {\n",
              "        vertical-align: middle;\n",
              "    }\n",
              "\n",
              "    .dataframe tbody tr th {\n",
              "        vertical-align: top;\n",
              "    }\n",
              "\n",
              "    .dataframe thead th {\n",
              "        text-align: right;\n",
              "    }\n",
              "</style>\n",
              "<table border=\"1\" class=\"dataframe\">\n",
              "  <thead>\n",
              "    <tr style=\"text-align: right;\">\n",
              "      <th></th>\n",
              "      <th>Age</th>\n",
              "      <th>Cabin</th>\n",
              "      <th>Embarked</th>\n",
              "      <th>Fare</th>\n",
              "      <th>Fsize</th>\n",
              "      <th>PassengerId</th>\n",
              "      <th>Pclass</th>\n",
              "      <th>Sex</th>\n",
              "      <th>Died</th>\n",
              "      <th>Survived</th>\n",
              "    </tr>\n",
              "  </thead>\n",
              "  <tbody>\n",
              "    <tr>\n",
              "      <th>0</th>\n",
              "      <td>22</td>\n",
              "      <td>M</td>\n",
              "      <td>S</td>\n",
              "      <td>7.2500</td>\n",
              "      <td>2</td>\n",
              "      <td>1</td>\n",
              "      <td>3</td>\n",
              "      <td>male</td>\n",
              "      <td>Dead</td>\n",
              "      <td>0</td>\n",
              "    </tr>\n",
              "    <tr>\n",
              "      <th>1</th>\n",
              "      <td>38</td>\n",
              "      <td>C</td>\n",
              "      <td>C</td>\n",
              "      <td>71.2833</td>\n",
              "      <td>2</td>\n",
              "      <td>2</td>\n",
              "      <td>1</td>\n",
              "      <td>female</td>\n",
              "      <td>Alive</td>\n",
              "      <td>1</td>\n",
              "    </tr>\n",
              "    <tr>\n",
              "      <th>2</th>\n",
              "      <td>26</td>\n",
              "      <td>M</td>\n",
              "      <td>S</td>\n",
              "      <td>7.9250</td>\n",
              "      <td>1</td>\n",
              "      <td>3</td>\n",
              "      <td>3</td>\n",
              "      <td>female</td>\n",
              "      <td>Alive</td>\n",
              "      <td>1</td>\n",
              "    </tr>\n",
              "    <tr>\n",
              "      <th>3</th>\n",
              "      <td>35</td>\n",
              "      <td>C</td>\n",
              "      <td>S</td>\n",
              "      <td>53.1000</td>\n",
              "      <td>2</td>\n",
              "      <td>4</td>\n",
              "      <td>1</td>\n",
              "      <td>female</td>\n",
              "      <td>Alive</td>\n",
              "      <td>1</td>\n",
              "    </tr>\n",
              "    <tr>\n",
              "      <th>4</th>\n",
              "      <td>35</td>\n",
              "      <td>M</td>\n",
              "      <td>S</td>\n",
              "      <td>8.0500</td>\n",
              "      <td>1</td>\n",
              "      <td>5</td>\n",
              "      <td>3</td>\n",
              "      <td>male</td>\n",
              "      <td>Dead</td>\n",
              "      <td>0</td>\n",
              "    </tr>\n",
              "    <tr>\n",
              "      <th>...</th>\n",
              "      <td>...</td>\n",
              "      <td>...</td>\n",
              "      <td>...</td>\n",
              "      <td>...</td>\n",
              "      <td>...</td>\n",
              "      <td>...</td>\n",
              "      <td>...</td>\n",
              "      <td>...</td>\n",
              "      <td>...</td>\n",
              "      <td>...</td>\n",
              "    </tr>\n",
              "    <tr>\n",
              "      <th>1304</th>\n",
              "      <td>29</td>\n",
              "      <td>M</td>\n",
              "      <td>S</td>\n",
              "      <td>8.0500</td>\n",
              "      <td>1</td>\n",
              "      <td>1305</td>\n",
              "      <td>3</td>\n",
              "      <td>male</td>\n",
              "      <td>Dead</td>\n",
              "      <td>0</td>\n",
              "    </tr>\n",
              "    <tr>\n",
              "      <th>1305</th>\n",
              "      <td>39</td>\n",
              "      <td>C</td>\n",
              "      <td>C</td>\n",
              "      <td>108.9000</td>\n",
              "      <td>1</td>\n",
              "      <td>1306</td>\n",
              "      <td>1</td>\n",
              "      <td>female</td>\n",
              "      <td>Alive</td>\n",
              "      <td>1</td>\n",
              "    </tr>\n",
              "    <tr>\n",
              "      <th>1306</th>\n",
              "      <td>38</td>\n",
              "      <td>M</td>\n",
              "      <td>S</td>\n",
              "      <td>7.2500</td>\n",
              "      <td>1</td>\n",
              "      <td>1307</td>\n",
              "      <td>3</td>\n",
              "      <td>male</td>\n",
              "      <td>Dead</td>\n",
              "      <td>0</td>\n",
              "    </tr>\n",
              "    <tr>\n",
              "      <th>1307</th>\n",
              "      <td>29</td>\n",
              "      <td>M</td>\n",
              "      <td>S</td>\n",
              "      <td>8.0500</td>\n",
              "      <td>1</td>\n",
              "      <td>1308</td>\n",
              "      <td>3</td>\n",
              "      <td>male</td>\n",
              "      <td>Dead</td>\n",
              "      <td>0</td>\n",
              "    </tr>\n",
              "    <tr>\n",
              "      <th>1308</th>\n",
              "      <td>29</td>\n",
              "      <td>M</td>\n",
              "      <td>C</td>\n",
              "      <td>22.3583</td>\n",
              "      <td>3</td>\n",
              "      <td>1309</td>\n",
              "      <td>3</td>\n",
              "      <td>male</td>\n",
              "      <td>Dead</td>\n",
              "      <td>0</td>\n",
              "    </tr>\n",
              "  </tbody>\n",
              "</table>\n",
              "<p>1309 rows × 10 columns</p>\n",
              "</div>"
            ],
            "text/plain": [
              "      Age Cabin Embarked      Fare  ...  Pclass     Sex   Died Survived\n",
              "0      22     M        S    7.2500  ...       3    male   Dead        0\n",
              "1      38     C        C   71.2833  ...       1  female  Alive        1\n",
              "2      26     M        S    7.9250  ...       3  female  Alive        1\n",
              "3      35     C        S   53.1000  ...       1  female  Alive        1\n",
              "4      35     M        S    8.0500  ...       3    male   Dead        0\n",
              "...   ...   ...      ...       ...  ...     ...     ...    ...      ...\n",
              "1304   29     M        S    8.0500  ...       3    male   Dead        0\n",
              "1305   39     C        C  108.9000  ...       1  female  Alive        1\n",
              "1306   38     M        S    7.2500  ...       3    male   Dead        0\n",
              "1307   29     M        S    8.0500  ...       3    male   Dead        0\n",
              "1308   29     M        C   22.3583  ...       3    male   Dead        0\n",
              "\n",
              "[1309 rows x 10 columns]"
            ]
          },
          "metadata": {
            "tags": []
          },
          "execution_count": 182
        }
      ]
    },
    {
      "cell_type": "code",
      "metadata": {
        "colab": {
          "base_uri": "https://localhost:8080/",
          "height": 483
        },
        "id": "30dfVIHv2gWM",
        "outputId": "7e9bed64-5a2c-4f76-8a26-d4b6ae41b839"
      },
      "source": [
        "df_prediction=pd.read_csv('Predictions.csv')\n",
        "df_prediction.drop('Unnamed: 0',axis=1,inplace=True)\n",
        "df_prediction"
      ],
      "execution_count": 183,
      "outputs": [
        {
          "output_type": "execute_result",
          "data": {
            "text/html": [
              "<div>\n",
              "<style scoped>\n",
              "    .dataframe tbody tr th:only-of-type {\n",
              "        vertical-align: middle;\n",
              "    }\n",
              "\n",
              "    .dataframe tbody tr th {\n",
              "        vertical-align: top;\n",
              "    }\n",
              "\n",
              "    .dataframe thead th {\n",
              "        text-align: right;\n",
              "    }\n",
              "</style>\n",
              "<table border=\"1\" class=\"dataframe\">\n",
              "  <thead>\n",
              "    <tr style=\"text-align: right;\">\n",
              "      <th></th>\n",
              "      <th>K-Vals</th>\n",
              "      <th>Accuracy</th>\n",
              "      <th>Accuracy train</th>\n",
              "      <th>F1 score</th>\n",
              "      <th>F1 train</th>\n",
              "    </tr>\n",
              "  </thead>\n",
              "  <tbody>\n",
              "    <tr>\n",
              "      <th>0</th>\n",
              "      <td>1</td>\n",
              "      <td>0.796438</td>\n",
              "      <td>0.977074</td>\n",
              "      <td>0.727891</td>\n",
              "      <td>0.969253</td>\n",
              "    </tr>\n",
              "    <tr>\n",
              "      <th>1</th>\n",
              "      <td>2</td>\n",
              "      <td>0.809160</td>\n",
              "      <td>0.896288</td>\n",
              "      <td>0.701195</td>\n",
              "      <td>0.840871</td>\n",
              "    </tr>\n",
              "    <tr>\n",
              "      <th>2</th>\n",
              "      <td>3</td>\n",
              "      <td>0.832061</td>\n",
              "      <td>0.894105</td>\n",
              "      <td>0.769231</td>\n",
              "      <td>0.854573</td>\n",
              "    </tr>\n",
              "    <tr>\n",
              "      <th>3</th>\n",
              "      <td>4</td>\n",
              "      <td>0.821883</td>\n",
              "      <td>0.890830</td>\n",
              "      <td>0.740741</td>\n",
              "      <td>0.842271</td>\n",
              "    </tr>\n",
              "    <tr>\n",
              "      <th>4</th>\n",
              "      <td>5</td>\n",
              "      <td>0.837150</td>\n",
              "      <td>0.891921</td>\n",
              "      <td>0.777778</td>\n",
              "      <td>0.850679</td>\n",
              "    </tr>\n",
              "    <tr>\n",
              "      <th>5</th>\n",
              "      <td>6</td>\n",
              "      <td>0.834606</td>\n",
              "      <td>0.882096</td>\n",
              "      <td>0.767025</td>\n",
              "      <td>0.831250</td>\n",
              "    </tr>\n",
              "    <tr>\n",
              "      <th>6</th>\n",
              "      <td>7</td>\n",
              "      <td>0.829517</td>\n",
              "      <td>0.881004</td>\n",
              "      <td>0.766551</td>\n",
              "      <td>0.835596</td>\n",
              "    </tr>\n",
              "    <tr>\n",
              "      <th>7</th>\n",
              "      <td>8</td>\n",
              "      <td>0.844784</td>\n",
              "      <td>0.881004</td>\n",
              "      <td>0.781362</td>\n",
              "      <td>0.831530</td>\n",
              "    </tr>\n",
              "    <tr>\n",
              "      <th>8</th>\n",
              "      <td>9</td>\n",
              "      <td>0.842239</td>\n",
              "      <td>0.879913</td>\n",
              "      <td>0.786207</td>\n",
              "      <td>0.833837</td>\n",
              "    </tr>\n",
              "    <tr>\n",
              "      <th>9</th>\n",
              "      <td>10</td>\n",
              "      <td>0.849873</td>\n",
              "      <td>0.874454</td>\n",
              "      <td>0.791519</td>\n",
              "      <td>0.821705</td>\n",
              "    </tr>\n",
              "    <tr>\n",
              "      <th>10</th>\n",
              "      <td>11</td>\n",
              "      <td>0.847328</td>\n",
              "      <td>0.876638</td>\n",
              "      <td>0.794521</td>\n",
              "      <td>0.828528</td>\n",
              "    </tr>\n",
              "    <tr>\n",
              "      <th>11</th>\n",
              "      <td>12</td>\n",
              "      <td>0.847328</td>\n",
              "      <td>0.873362</td>\n",
              "      <td>0.791667</td>\n",
              "      <td>0.823171</td>\n",
              "    </tr>\n",
              "    <tr>\n",
              "      <th>12</th>\n",
              "      <td>13</td>\n",
              "      <td>0.842239</td>\n",
              "      <td>0.870087</td>\n",
              "      <td>0.789116</td>\n",
              "      <td>0.821053</td>\n",
              "    </tr>\n",
              "    <tr>\n",
              "      <th>13</th>\n",
              "      <td>14</td>\n",
              "      <td>0.839695</td>\n",
              "      <td>0.872271</td>\n",
              "      <td>0.784983</td>\n",
              "      <td>0.823529</td>\n",
              "    </tr>\n",
              "  </tbody>\n",
              "</table>\n",
              "</div>"
            ],
            "text/plain": [
              "    K-Vals  Accuracy  Accuracy train  F1 score  F1 train\n",
              "0        1  0.796438        0.977074  0.727891  0.969253\n",
              "1        2  0.809160        0.896288  0.701195  0.840871\n",
              "2        3  0.832061        0.894105  0.769231  0.854573\n",
              "3        4  0.821883        0.890830  0.740741  0.842271\n",
              "4        5  0.837150        0.891921  0.777778  0.850679\n",
              "5        6  0.834606        0.882096  0.767025  0.831250\n",
              "6        7  0.829517        0.881004  0.766551  0.835596\n",
              "7        8  0.844784        0.881004  0.781362  0.831530\n",
              "8        9  0.842239        0.879913  0.786207  0.833837\n",
              "9       10  0.849873        0.874454  0.791519  0.821705\n",
              "10      11  0.847328        0.876638  0.794521  0.828528\n",
              "11      12  0.847328        0.873362  0.791667  0.823171\n",
              "12      13  0.842239        0.870087  0.789116  0.821053\n",
              "13      14  0.839695        0.872271  0.784983  0.823529"
            ]
          },
          "metadata": {
            "tags": []
          },
          "execution_count": 183
        }
      ]
    },
    {
      "cell_type": "code",
      "metadata": {
        "colab": {
          "base_uri": "https://localhost:8080/"
        },
        "id": "HmDknWXc3N-9",
        "outputId": "bc249e05-7b3a-4fb5-bc06-f18467cc09ba"
      },
      "source": [
        "cm=np.loadtxt('confusionmatrix.csv')\n",
        "cm"
      ],
      "execution_count": 184,
      "outputs": [
        {
          "output_type": "execute_result",
          "data": {
            "text/plain": [
              "array([[222.,  21.],\n",
              "       [ 38., 112.]])"
            ]
          },
          "metadata": {
            "tags": []
          },
          "execution_count": 184
        }
      ]
    },
    {
      "cell_type": "markdown",
      "metadata": {
        "id": "-CDNZQ-Kb1Xb"
      },
      "source": [
        "# **Graph Data Prep**"
      ]
    },
    {
      "cell_type": "markdown",
      "metadata": {
        "id": "6UGcTjsDcCNl"
      },
      "source": [
        "#Survival"
      ]
    },
    {
      "cell_type": "code",
      "metadata": {
        "id": "U3i-fjkrZimp",
        "colab": {
          "base_uri": "https://localhost:8080/",
          "height": 0
        },
        "outputId": "b31cedb0-94a8-473c-c9d6-ad0ddd4aa75a"
      },
      "source": [
        "d_survived=df_titanic['Died']\n",
        "d_survived=pd.DataFrame(d_survived.value_counts().reset_index())\n",
        "d_survived.rename(columns={'index':'Survival'},inplace=True)\n",
        "d_survived['Survival']=d_survived['Survival'].astype('category')\n",
        "d_survived"
      ],
      "execution_count": 185,
      "outputs": [
        {
          "output_type": "execute_result",
          "data": {
            "text/html": [
              "<div>\n",
              "<style scoped>\n",
              "    .dataframe tbody tr th:only-of-type {\n",
              "        vertical-align: middle;\n",
              "    }\n",
              "\n",
              "    .dataframe tbody tr th {\n",
              "        vertical-align: top;\n",
              "    }\n",
              "\n",
              "    .dataframe thead th {\n",
              "        text-align: right;\n",
              "    }\n",
              "</style>\n",
              "<table border=\"1\" class=\"dataframe\">\n",
              "  <thead>\n",
              "    <tr style=\"text-align: right;\">\n",
              "      <th></th>\n",
              "      <th>Survival</th>\n",
              "      <th>Died</th>\n",
              "    </tr>\n",
              "  </thead>\n",
              "  <tbody>\n",
              "    <tr>\n",
              "      <th>0</th>\n",
              "      <td>Dead</td>\n",
              "      <td>815</td>\n",
              "    </tr>\n",
              "    <tr>\n",
              "      <th>1</th>\n",
              "      <td>Alive</td>\n",
              "      <td>494</td>\n",
              "    </tr>\n",
              "  </tbody>\n",
              "</table>\n",
              "</div>"
            ],
            "text/plain": [
              "  Survival  Died\n",
              "0     Dead   815\n",
              "1    Alive   494"
            ]
          },
          "metadata": {
            "tags": []
          },
          "execution_count": 185
        }
      ]
    },
    {
      "cell_type": "markdown",
      "metadata": {
        "id": "hmTrZ_2ocNWO"
      },
      "source": [
        "#Age Categorizing"
      ]
    },
    {
      "cell_type": "code",
      "metadata": {
        "id": "f-6htm8-cOo9",
        "colab": {
          "base_uri": "https://localhost:8080/",
          "height": 173
        },
        "outputId": "d8914069-da2c-43d5-ba98-635d5d05f0cf"
      },
      "source": [
        "d_ageS=df_titanic.groupby('Age')['Survived'].mean().reset_index()\n",
        "d_ageS=pd.DataFrame(d_ageS)\n",
        "d_ageS.rename(columns={'Survived':'Survival Rate'},inplace=True)\n",
        "d_ageS['Survival Rate']=d_ageS['Survival Rate']*100\n",
        "group=['Child(0-18 Years)','Youth(19-36 Years)','MiddleAge(37-54 Years)','Old(55-)']\n",
        "d_ageS['Category']=pd.qcut(d_ageS['Age'],labels=group,q=[0,1/5,1/2,9/10,1])\n",
        "d_ageS=pd.DataFrame(d_ageS)\n",
        "d_ageS=d_ageS.reset_index(drop=True)\n",
        "d_ageS.drop('Age',inplace=True,axis=1)\n",
        "d_ageS=d_ageS.groupby('Category')['Survival Rate'].mean().reset_index()\n",
        "d_ageS"
      ],
      "execution_count": 186,
      "outputs": [
        {
          "output_type": "execute_result",
          "data": {
            "text/html": [
              "<div>\n",
              "<style scoped>\n",
              "    .dataframe tbody tr th:only-of-type {\n",
              "        vertical-align: middle;\n",
              "    }\n",
              "\n",
              "    .dataframe tbody tr th {\n",
              "        vertical-align: top;\n",
              "    }\n",
              "\n",
              "    .dataframe thead th {\n",
              "        text-align: right;\n",
              "    }\n",
              "</style>\n",
              "<table border=\"1\" class=\"dataframe\">\n",
              "  <thead>\n",
              "    <tr style=\"text-align: right;\">\n",
              "      <th></th>\n",
              "      <th>Category</th>\n",
              "      <th>Survival Rate</th>\n",
              "    </tr>\n",
              "  </thead>\n",
              "  <tbody>\n",
              "    <tr>\n",
              "      <th>0</th>\n",
              "      <td>Child(0-18 Years)</td>\n",
              "      <td>51.825397</td>\n",
              "    </tr>\n",
              "    <tr>\n",
              "      <th>1</th>\n",
              "      <td>Youth(19-36 Years)</td>\n",
              "      <td>40.402807</td>\n",
              "    </tr>\n",
              "    <tr>\n",
              "      <th>2</th>\n",
              "      <td>MiddleAge(37-54 Years)</td>\n",
              "      <td>38.079598</td>\n",
              "    </tr>\n",
              "    <tr>\n",
              "      <th>3</th>\n",
              "      <td>Old(55-)</td>\n",
              "      <td>25.000000</td>\n",
              "    </tr>\n",
              "  </tbody>\n",
              "</table>\n",
              "</div>"
            ],
            "text/plain": [
              "                 Category  Survival Rate\n",
              "0       Child(0-18 Years)      51.825397\n",
              "1      Youth(19-36 Years)      40.402807\n",
              "2  MiddleAge(37-54 Years)      38.079598\n",
              "3                Old(55-)      25.000000"
            ]
          },
          "metadata": {
            "tags": []
          },
          "execution_count": 186
        }
      ]
    },
    {
      "cell_type": "markdown",
      "metadata": {
        "id": "2KOK5w4QcU16"
      },
      "source": [
        "#Ticket Cost Categorizing"
      ]
    },
    {
      "cell_type": "code",
      "metadata": {
        "id": "-Qz4V5nMcVVQ",
        "colab": {
          "base_uri": "https://localhost:8080/",
          "height": 0
        },
        "outputId": "30d8fb02-30f8-4058-8282-c5e4c5799a21"
      },
      "source": [
        "d_fareS=df_titanic.groupby('Fare')['Survived'].mean().reset_index()\n",
        "d_fareS=pd.DataFrame(d_fareS)\n",
        "d_fareS.rename(columns={'Survived':'Survival Rate'},inplace=True)\n",
        "d_fareS['Survival Rate']=d_fareS['Survival Rate']*100\n",
        "group=['Low(33th%)','Mid(33-50th%)','High(50-75th%)','Top End(75-100th%)']\n",
        "d_fareS['Cost_Range']=pd.qcut(d_fareS['Fare'],labels=group,q=[0,1/3,1/2,3/4,1])\n",
        "d_fareS=pd.DataFrame(d_fareS)\n",
        "d_fareS=d_fareS.reset_index(drop=True)\n",
        "d_fareS=pd.DataFrame(d_fareS.groupby('Cost_Range')['Survival Rate'].mean().reset_index())\n",
        "d_fareS"
      ],
      "execution_count": 187,
      "outputs": [
        {
          "output_type": "execute_result",
          "data": {
            "text/html": [
              "<div>\n",
              "<style scoped>\n",
              "    .dataframe tbody tr th:only-of-type {\n",
              "        vertical-align: middle;\n",
              "    }\n",
              "\n",
              "    .dataframe tbody tr th {\n",
              "        vertical-align: top;\n",
              "    }\n",
              "\n",
              "    .dataframe thead th {\n",
              "        text-align: right;\n",
              "    }\n",
              "</style>\n",
              "<table border=\"1\" class=\"dataframe\">\n",
              "  <thead>\n",
              "    <tr style=\"text-align: right;\">\n",
              "      <th></th>\n",
              "      <th>Cost_Range</th>\n",
              "      <th>Survival Rate</th>\n",
              "    </tr>\n",
              "  </thead>\n",
              "  <tbody>\n",
              "    <tr>\n",
              "      <th>0</th>\n",
              "      <td>Low(33th%)</td>\n",
              "      <td>25.620583</td>\n",
              "    </tr>\n",
              "    <tr>\n",
              "      <th>1</th>\n",
              "      <td>Mid(33-50th%)</td>\n",
              "      <td>43.339073</td>\n",
              "    </tr>\n",
              "    <tr>\n",
              "      <th>2</th>\n",
              "      <td>High(50-75th%)</td>\n",
              "      <td>40.863894</td>\n",
              "    </tr>\n",
              "    <tr>\n",
              "      <th>3</th>\n",
              "      <td>Top End(75-100th%)</td>\n",
              "      <td>65.053198</td>\n",
              "    </tr>\n",
              "  </tbody>\n",
              "</table>\n",
              "</div>"
            ],
            "text/plain": [
              "           Cost_Range  Survival Rate\n",
              "0          Low(33th%)      25.620583\n",
              "1       Mid(33-50th%)      43.339073\n",
              "2      High(50-75th%)      40.863894\n",
              "3  Top End(75-100th%)      65.053198"
            ]
          },
          "metadata": {
            "tags": []
          },
          "execution_count": 187
        }
      ]
    },
    {
      "cell_type": "markdown",
      "metadata": {
        "id": "ff9b3Lxqc0A_"
      },
      "source": [
        "#Cabin Categorizing"
      ]
    },
    {
      "cell_type": "code",
      "metadata": {
        "id": "lkhO_BbGdEQn",
        "colab": {
          "base_uri": "https://localhost:8080/",
          "height": 0
        },
        "outputId": "dce2bced-0aa9-452c-fc82-493794c15e96"
      },
      "source": [
        "d_cabin=df_titanic.groupby('Cabin')['Survived'].mean().reset_index()\n",
        "d_cabin.rename(columns={'Survived':'Survival Rate'},inplace=True)\n",
        "d_cabin['Survival Rate']=d_cabin['Survival Rate']*100\n",
        "d_cabin"
      ],
      "execution_count": 188,
      "outputs": [
        {
          "output_type": "execute_result",
          "data": {
            "text/html": [
              "<div>\n",
              "<style scoped>\n",
              "    .dataframe tbody tr th:only-of-type {\n",
              "        vertical-align: middle;\n",
              "    }\n",
              "\n",
              "    .dataframe tbody tr th {\n",
              "        vertical-align: top;\n",
              "    }\n",
              "\n",
              "    .dataframe thead th {\n",
              "        text-align: right;\n",
              "    }\n",
              "</style>\n",
              "<table border=\"1\" class=\"dataframe\">\n",
              "  <thead>\n",
              "    <tr style=\"text-align: right;\">\n",
              "      <th></th>\n",
              "      <th>Cabin</th>\n",
              "      <th>Survival Rate</th>\n",
              "    </tr>\n",
              "  </thead>\n",
              "  <tbody>\n",
              "    <tr>\n",
              "      <th>0</th>\n",
              "      <td>A</td>\n",
              "      <td>45.454545</td>\n",
              "    </tr>\n",
              "    <tr>\n",
              "      <th>1</th>\n",
              "      <td>B</td>\n",
              "      <td>67.692308</td>\n",
              "    </tr>\n",
              "    <tr>\n",
              "      <th>2</th>\n",
              "      <td>C</td>\n",
              "      <td>57.446809</td>\n",
              "    </tr>\n",
              "    <tr>\n",
              "      <th>3</th>\n",
              "      <td>D</td>\n",
              "      <td>65.217391</td>\n",
              "    </tr>\n",
              "    <tr>\n",
              "      <th>4</th>\n",
              "      <td>E</td>\n",
              "      <td>68.292683</td>\n",
              "    </tr>\n",
              "    <tr>\n",
              "      <th>5</th>\n",
              "      <td>F</td>\n",
              "      <td>52.380952</td>\n",
              "    </tr>\n",
              "    <tr>\n",
              "      <th>6</th>\n",
              "      <td>G</td>\n",
              "      <td>60.000000</td>\n",
              "    </tr>\n",
              "    <tr>\n",
              "      <th>7</th>\n",
              "      <td>M</td>\n",
              "      <td>30.966469</td>\n",
              "    </tr>\n",
              "    <tr>\n",
              "      <th>8</th>\n",
              "      <td>T</td>\n",
              "      <td>0.000000</td>\n",
              "    </tr>\n",
              "  </tbody>\n",
              "</table>\n",
              "</div>"
            ],
            "text/plain": [
              "  Cabin  Survival Rate\n",
              "0     A      45.454545\n",
              "1     B      67.692308\n",
              "2     C      57.446809\n",
              "3     D      65.217391\n",
              "4     E      68.292683\n",
              "5     F      52.380952\n",
              "6     G      60.000000\n",
              "7     M      30.966469\n",
              "8     T       0.000000"
            ]
          },
          "metadata": {
            "tags": []
          },
          "execution_count": 188
        }
      ]
    },
    {
      "cell_type": "markdown",
      "metadata": {
        "id": "umq3Bt2DdKN-"
      },
      "source": [
        "#Socio-Economic Condition"
      ]
    },
    {
      "cell_type": "code",
      "metadata": {
        "id": "nkNyBT_7qD8A"
      },
      "source": [
        "dict={3:'Poor',2:'Middle Class',1:'Wealthy'}"
      ],
      "execution_count": 189,
      "outputs": []
    },
    {
      "cell_type": "code",
      "metadata": {
        "id": "z8F1dpOidrmi",
        "colab": {
          "base_uri": "https://localhost:8080/",
          "height": 0
        },
        "outputId": "b3907492-39b4-4d08-82a3-8e84b53796ea"
      },
      "source": [
        "d_socioeco=df_titanic.groupby('Pclass')['Survived'].mean().reset_index()\n",
        "d_socioeco.rename(columns={'Survived':'Survival Rate'},inplace=True)\n",
        "d_socioeco['Survival Rate']=d_socioeco['Survival Rate']*100\n",
        "for i,val in enumerate(d_socioeco['Pclass']):\n",
        "  d_socioeco['Pclass'][i]=dict[i+1]\n",
        "d_socioeco"
      ],
      "execution_count": 190,
      "outputs": [
        {
          "output_type": "stream",
          "text": [
            "/usr/local/lib/python3.7/dist-packages/ipykernel_launcher.py:5: SettingWithCopyWarning:\n",
            "\n",
            "\n",
            "A value is trying to be set on a copy of a slice from a DataFrame\n",
            "\n",
            "See the caveats in the documentation: https://pandas.pydata.org/pandas-docs/stable/user_guide/indexing.html#returning-a-view-versus-a-copy\n",
            "\n",
            "/usr/local/lib/python3.7/dist-packages/pandas/core/indexing.py:670: SettingWithCopyWarning:\n",
            "\n",
            "\n",
            "A value is trying to be set on a copy of a slice from a DataFrame\n",
            "\n",
            "See the caveats in the documentation: https://pandas.pydata.org/pandas-docs/stable/user_guide/indexing.html#returning-a-view-versus-a-copy\n",
            "\n"
          ],
          "name": "stderr"
        },
        {
          "output_type": "execute_result",
          "data": {
            "text/html": [
              "<div>\n",
              "<style scoped>\n",
              "    .dataframe tbody tr th:only-of-type {\n",
              "        vertical-align: middle;\n",
              "    }\n",
              "\n",
              "    .dataframe tbody tr th {\n",
              "        vertical-align: top;\n",
              "    }\n",
              "\n",
              "    .dataframe thead th {\n",
              "        text-align: right;\n",
              "    }\n",
              "</style>\n",
              "<table border=\"1\" class=\"dataframe\">\n",
              "  <thead>\n",
              "    <tr style=\"text-align: right;\">\n",
              "      <th></th>\n",
              "      <th>Pclass</th>\n",
              "      <th>Survival Rate</th>\n",
              "    </tr>\n",
              "  </thead>\n",
              "  <tbody>\n",
              "    <tr>\n",
              "      <th>0</th>\n",
              "      <td>Wealthy</td>\n",
              "      <td>57.585139</td>\n",
              "    </tr>\n",
              "    <tr>\n",
              "      <th>1</th>\n",
              "      <td>Middle Class</td>\n",
              "      <td>42.238267</td>\n",
              "    </tr>\n",
              "    <tr>\n",
              "      <th>2</th>\n",
              "      <td>Poor</td>\n",
              "      <td>26.939351</td>\n",
              "    </tr>\n",
              "  </tbody>\n",
              "</table>\n",
              "</div>"
            ],
            "text/plain": [
              "         Pclass  Survival Rate\n",
              "0       Wealthy      57.585139\n",
              "1  Middle Class      42.238267\n",
              "2          Poor      26.939351"
            ]
          },
          "metadata": {
            "tags": []
          },
          "execution_count": 190
        }
      ]
    },
    {
      "cell_type": "markdown",
      "metadata": {
        "id": "NBS9ZJGmdxBS"
      },
      "source": [
        "#Family Size Categorizing"
      ]
    },
    {
      "cell_type": "code",
      "metadata": {
        "id": "Uxc_mERfeAjH",
        "colab": {
          "base_uri": "https://localhost:8080/",
          "height": 0
        },
        "outputId": "1d7dfa23-cbe7-4ab9-e77a-d4d020813a1a"
      },
      "source": [
        "d_family=df_titanic.groupby('Fsize')['Survived'].mean().reset_index()\n",
        "d_family.rename(columns={'Survived':'Survival Rate'},inplace=True)\n",
        "d_family['Survival Rate']=d_family['Survival Rate']*100\n",
        "d_family"
      ],
      "execution_count": 191,
      "outputs": [
        {
          "output_type": "execute_result",
          "data": {
            "text/html": [
              "<div>\n",
              "<style scoped>\n",
              "    .dataframe tbody tr th:only-of-type {\n",
              "        vertical-align: middle;\n",
              "    }\n",
              "\n",
              "    .dataframe tbody tr th {\n",
              "        vertical-align: top;\n",
              "    }\n",
              "\n",
              "    .dataframe thead th {\n",
              "        text-align: right;\n",
              "    }\n",
              "</style>\n",
              "<table border=\"1\" class=\"dataframe\">\n",
              "  <thead>\n",
              "    <tr style=\"text-align: right;\">\n",
              "      <th></th>\n",
              "      <th>Fsize</th>\n",
              "      <th>Survival Rate</th>\n",
              "    </tr>\n",
              "  </thead>\n",
              "  <tbody>\n",
              "    <tr>\n",
              "      <th>0</th>\n",
              "      <td>1</td>\n",
              "      <td>29.240506</td>\n",
              "    </tr>\n",
              "    <tr>\n",
              "      <th>1</th>\n",
              "      <td>2</td>\n",
              "      <td>53.191489</td>\n",
              "    </tr>\n",
              "    <tr>\n",
              "      <th>2</th>\n",
              "      <td>3</td>\n",
              "      <td>55.974843</td>\n",
              "    </tr>\n",
              "    <tr>\n",
              "      <th>3</th>\n",
              "      <td>4</td>\n",
              "      <td>72.093023</td>\n",
              "    </tr>\n",
              "    <tr>\n",
              "      <th>4</th>\n",
              "      <td>5</td>\n",
              "      <td>22.727273</td>\n",
              "    </tr>\n",
              "    <tr>\n",
              "      <th>5</th>\n",
              "      <td>6</td>\n",
              "      <td>20.000000</td>\n",
              "    </tr>\n",
              "    <tr>\n",
              "      <th>6</th>\n",
              "      <td>7</td>\n",
              "      <td>31.250000</td>\n",
              "    </tr>\n",
              "    <tr>\n",
              "      <th>7</th>\n",
              "      <td>8</td>\n",
              "      <td>12.500000</td>\n",
              "    </tr>\n",
              "    <tr>\n",
              "      <th>8</th>\n",
              "      <td>11</td>\n",
              "      <td>18.181818</td>\n",
              "    </tr>\n",
              "  </tbody>\n",
              "</table>\n",
              "</div>"
            ],
            "text/plain": [
              "   Fsize  Survival Rate\n",
              "0      1      29.240506\n",
              "1      2      53.191489\n",
              "2      3      55.974843\n",
              "3      4      72.093023\n",
              "4      5      22.727273\n",
              "5      6      20.000000\n",
              "6      7      31.250000\n",
              "7      8      12.500000\n",
              "8     11      18.181818"
            ]
          },
          "metadata": {
            "tags": []
          },
          "execution_count": 191
        }
      ]
    },
    {
      "cell_type": "markdown",
      "metadata": {
        "id": "GmSkqL9J3duF"
      },
      "source": [
        "# **Prediction Model Vizulization**"
      ]
    },
    {
      "cell_type": "code",
      "metadata": {
        "colab": {
          "base_uri": "https://localhost:8080/",
          "height": 295
        },
        "id": "VAFyli1a3k2b",
        "outputId": "46740b8d-37c9-4f49-fa0e-a4bbd40bb146"
      },
      "source": [
        "sns.lineplot(y=df_prediction['Accuracy'],x=df_prediction['K-Vals']-1,color='Brown')\n",
        "sns.lineplot(y=df_prediction['Accuracy train'],x=df_prediction['K-Vals']-1,color='Blue')\n",
        "plt.legend(['Testing Accuracy','Trained Accuracy'])\n",
        "plt.title(\"Jaccard's Accuracy of Models based of K-Values \")\n",
        "plt.ylim(0.79,)\n",
        "plt.show()"
      ],
      "execution_count": 192,
      "outputs": [
        {
          "output_type": "display_data",
          "data": {
            "image/png": "[encoded data removed]",
            "text/plain": [
              "<Figure size 432x288 with 1 Axes>"
            ]
          },
          "metadata": {
            "tags": [],
            "needs_background": "light"
          }
        }
      ]
    },
    {
      "cell_type": "code",
      "metadata": {
        "colab": {
          "base_uri": "https://localhost:8080/",
          "height": 0
        },
        "id": "E3u5RCN_34R7",
        "outputId": "e4ff1424-fac3-43dd-eb39-1af862cfc9db"
      },
      "source": [
        "plt.figure(figsize=(10,8))\n",
        "sns.barplot(y=df_prediction['Accuracy'],x=df_prediction['K-Vals'],palette='cool',alpha=0.6)\n",
        "plt.title('Percentage accuracy of Models based of K-Values ')\n",
        "plt.ylim(0.79,0.86)\n",
        "for index, value in enumerate(df_prediction['Accuracy']):\n",
        "  plt.annotate('%.2f'%(value*100)+'%', xy=(index-0.3,value), color='Black')\n",
        "plt.show()"
      ],
      "execution_count": 193,
      "outputs": [
        {
          "output_type": "display_data",
          "data": {
            "image/png": "[encoded data removed]",
            "text/plain": [
              "<Figure size 720x576 with 1 Axes>"
            ]
          },
          "metadata": {
            "tags": [],
            "needs_background": "light"
          }
        }
      ]
    },
    {
      "cell_type": "code",
      "metadata": {
        "colab": {
          "base_uri": "https://localhost:8080/",
          "height": 0
        },
        "id": "6zQpVaSkBU-i",
        "outputId": "cc622d48-b82c-449d-e4a7-1f6cde29bb7d"
      },
      "source": [
        "sns.lineplot(y=df_prediction['F1 score'],x=df_prediction['K-Vals']-1,color='Brown')\n",
        "sns.lineplot(y=df_prediction['F1 train'],x=df_prediction['K-Vals']-1,color='Blue')\n",
        "plt.legend(['F1 Test data score','F1 trained data score'])\n",
        "plt.title(\"F1 score of Models based of K-Values \")\n",
        "plt.ylim(0.65,)\n",
        "plt.show()"
      ],
      "execution_count": 194,
      "outputs": [
        {
          "output_type": "display_data",
          "data": {
            "image/png": "[encoded data removed]",
            "text/plain": [
              "<Figure size 432x288 with 1 Axes>"
            ]
          },
          "metadata": {
            "tags": [],
            "needs_background": "light"
          }
        }
      ]
    },
    {
      "cell_type": "code",
      "metadata": {
        "colab": {
          "base_uri": "https://localhost:8080/",
          "height": 0
        },
        "id": "waTuQZJK4BVz",
        "outputId": "f80525cc-01b5-4a68-d96d-1e7121ab78fe"
      },
      "source": [
        "class_names=['Alive','Dead']\n",
        "pcm=[]\n",
        "for i in range(len(cm)):\n",
        "  pcm.append(np.around(cm[i]/cm[i].sum(),decimals=2))   \n",
        "for i, j in itertools.product(range(cm.shape[0]), range(cm.shape[1])):\n",
        "  plt.text(j+0.5, i+0.5, pcm[i][j], horizontalalignment=\"center\", color='Black')\n",
        "sns.heatmap(pcm,cmap='flare',xticklabels=class_names,yticklabels=class_names)\n",
        "plt.title('Confusion Matrix of Best Model ')\n",
        "plt.xlabel('Real Value')\n",
        "plt.ylabel('Predicted Value')"
      ],
      "execution_count": 195,
      "outputs": [
        {
          "output_type": "execute_result",
          "data": {
            "text/plain": [
              "Text(33.0, 0.5, 'Predicted Value')"
            ]
          },
          "metadata": {
            "tags": []
          },
          "execution_count": 195
        },
        {
          "output_type": "display_data",
          "data": {
            "image/png": "[encoded data removed]",
            "text/plain": [
              "<Figure size 432x288 with 2 Axes>"
            ]
          },
          "metadata": {
            "tags": [],
            "needs_background": "light"
          }
        }
      ]
    },
    {
      "cell_type": "markdown",
      "metadata": {
        "id": "PkEuW-wocbY2"
      },
      "source": [
        "#**DashBoarding**"
      ]
    },
    {
      "cell_type": "markdown",
      "metadata": {
        "id": "04vUmOe8wnk7"
      },
      "source": [
        "Dash Prep"
      ]
    },
    {
      "cell_type": "code",
      "metadata": {
        "id": "Vx4YEzYOm989"
      },
      "source": [
        "fig_survival=px.bar(d_survived,x='Survival',y='Died',title=\"Survivors\",color='Survival')\n",
        "fig_age=px.bar(d_ageS,x='Category',y='Survival Rate',title='Survivor Rate by Age Categorized',color='Category',range_y=[0,80])\n",
        "fig_ticket=px.bar(d_fareS,x='Cost_Range',y='Survival Rate',title='Survivor Rate by Ticket Cost Categorized',color='Cost_Range',range_y=[0,80])\n",
        "fig_cabin=px.bar(d_cabin,y='Cabin',x='Survival Rate',title='Survivor Rate by Cabin Categorized',color='Cabin',orientation='h',range_x=[0,80])\n",
        "fig_socioeco=px.bar(d_socioeco,x='Pclass',y='Survival Rate',title='Survivor Rate by Socio-Economic Condition',color='Pclass',range_y=[0,80])\n",
        "fig_family=px.bar(d_family,y='Fsize',x='Survival Rate',title='Survivor Rate by Family Size',color='Fsize',orientation='h',color_continuous_scale='oryel',range_x=[0,80])"
      ],
      "execution_count": 196,
      "outputs": []
    },
    {
      "cell_type": "code",
      "metadata": {
        "id": "UuakGFF_qQD5"
      },
      "source": [
        "fig_predictK=px.scatter(title=\"Jaccard's Accuracy of Models based of K-Values \")\n",
        "f1=fig_predictK.add_scatter(x=df_prediction['K-Vals'],y=df_prediction['Accuracy train'],name='Trained Accuracy')\n",
        "f1=fig_predictK.add_scatter(name='Testing Accuracy',x=df_prediction['K-Vals'],y=df_prediction['Accuracy'])"
      ],
      "execution_count": 197,
      "outputs": []
    },
    {
      "cell_type": "code",
      "metadata": {
        "id": "fEfF6i96w75l"
      },
      "source": [
        "fig_predictF=px.scatter(title=\"F1 score of Models based of K-Values \")\n",
        "f2=fig_predictF.add_scatter(x=df_prediction['K-Vals'],y=df_prediction['F1 train'],name='Trained Accuracy')\n",
        "f2=fig_predictF.add_scatter(name='Testing Accuracy',x=df_prediction['K-Vals'],y=df_prediction['F1 score'])\n"
      ],
      "execution_count": 198,
      "outputs": []
    },
    {
      "cell_type": "code",
      "metadata": {
        "id": "iWEb0cyoHg0O"
      },
      "source": [
        "tcm=pd.DataFrame(pcm)\n",
        "tcm.rename(columns={0:'Alive',1:'Dead'},index={0:'Alive',1:'Dead'},inplace=True)"
      ],
      "execution_count": 199,
      "outputs": []
    },
    {
      "cell_type": "code",
      "metadata": {
        "id": "LDaDFJVC6pGs"
      },
      "source": [
        "layout1=go.Layout(title='Confusion Matrix of Best Model')\n",
        "figh = go.Figure(data=go.Heatmap(x=['Alive','Dead'],y=['Dead','Alive'],z=tcm[::-1],colorscale='viridis'),layout=layout1)"
      ],
      "execution_count": 200,
      "outputs": []
    },
    {
      "cell_type": "code",
      "metadata": {
        "id": "nut_KrEN6CYz"
      },
      "source": [
        "df_prediction1=df_prediction\n",
        "df_prediction1['Accuracy']=df_prediction['Accuracy']*100"
      ],
      "execution_count": 201,
      "outputs": []
    },
    {
      "cell_type": "code",
      "metadata": {
        "id": "S2JoUPoU2_QM"
      },
      "source": [
        "fig_predictFb=px.bar(df_prediction1,x='K-Vals',y='Accuracy',range_y=(79,86),color=\"K-Vals\",title=\"Jaccard's Accuracy for Different Test values\")"
      ],
      "execution_count": 202,
      "outputs": []
    },
    {
      "cell_type": "code",
      "metadata": {
        "id": "RCzDBnjgZ77j"
      },
      "source": [
        "colors = {\n",
        "    'background': '#F89D7D',\n",
        "    'text': '#111111'\n",
        "}"
      ],
      "execution_count": 203,
      "outputs": []
    },
    {
      "cell_type": "markdown",
      "metadata": {
        "id": "8mkQMN0Nw20D"
      },
      "source": [
        "web app \n"
      ]
    },
    {
      "cell_type": "code",
      "metadata": {
        "id": "BqhOEKVhmiA8"
      },
      "source": [
        "def homepage():\n",
        "  layout=html.Div(children=[\n",
        "                    html.Br(),\n",
        "                    html.Br(),\n",
        "                    html.Div([\n",
        "                    html.Div(dcc.Graph(figure=fig_survival),style={'width':'50%'}),\n",
        "                    html.Div(dcc.Graph(figure=fig_age),style={'width':'50%'}),],\n",
        "                    style={'display':'flex'}),\n",
        "                    html.Div([\n",
        "                    html.Div(dcc.Graph(figure=fig_ticket),style={'width':'50%'}),\n",
        "                    html.Div(dcc.Graph(figure=fig_cabin),style={'width':'50%'})\n",
        "                    ,],\n",
        "                    style={'display':'flex'}),\n",
        "                    html.Div([\n",
        "                    html.Div(dcc.Graph(figure=fig_socioeco),style={'width':'50%'}),\n",
        "                    html.Div(dcc.Graph(figure=fig_family),style={'width':'50%'})\n",
        "                    ,],\n",
        "                    style={'display':'flex'}),\n",
        "                    ])\n",
        "  return layout\n"
      ],
      "execution_count": 204,
      "outputs": []
    },
    {
      "cell_type": "code",
      "metadata": {
        "id": "90IAJVwLp-av"
      },
      "source": [
        "def predictpage():\n",
        "  layout=html.Div(children=[\n",
        "                    html.Br(),\n",
        "                    html.Br(),\n",
        "                    html.Div([\n",
        "                    html.Div(dcc.Graph(figure=f1),style={'width':'50%'}),\n",
        "                    html.Div(dcc.Graph(figure=f2),style={'width':'50%'}),],\n",
        "                    style={'display':'flex'}),\n",
        "                    html.Div([\n",
        "                    html.Div(dcc.Graph(figure=fig_predictFb),style={'width':'50%'}),\n",
        "                    html.Div(dcc.Graph(figure=figh),style={'width':'50%'})\n",
        "                    ,],\n",
        "                    style={'display':'flex'}),\n",
        "                    ])\n",
        "  return layout"
      ],
      "execution_count": 205,
      "outputs": []
    },
    {
      "cell_type": "markdown",
      "metadata": {
        "id": "_lD3MvvYwyIF"
      },
      "source": [
        "dash app"
      ]
    },
    {
      "cell_type": "code",
      "metadata": {
        "id": "Xw9mcQKqZwfx",
        "colab": {
          "base_uri": "https://localhost:8080/",
          "height": 51
        },
        "outputId": "946bdd5a-1bd3-4b1c-f0f4-70610e1d9e23"
      },
      "source": [
        "apps = JupyterDash(__name__)\n",
        "\n",
        "\n",
        "apps.layout = html.Div([html.H1('DashBoard for The Titanic',style={'textAlign':'Center','backgroundColor':colors['background'],'font-size':30}) ,dcc.Tabs([\n",
        "        dcc.Tab(label='Titanic Analysis', children=[homepage()]),\n",
        "        dcc.Tab(label='KNN Model Attributes', children=[predictpage()]),\n",
        "        ]),                \n",
        "])\n",
        "\n",
        "\n",
        "\n",
        "if __name__=='__main__':\n",
        "  apps.run_server(debug=True)\n",
        "\n"
      ],
      "execution_count": 206,
      "outputs": [
        {
          "output_type": "stream",
          "text": [
            "Dash app running on:\n"
          ],
          "name": "stdout"
        },
        {
          "output_type": "display_data",
          "data": {
            "application/javascript": [
              "(async (port, path, text, element) => {\n",
              "    if (!google.colab.kernel.accessAllowed) {\n",
              "      return;\n",
              "    }\n",
              "    element.appendChild(document.createTextNode(''));\n",
              "    const url = await google.colab.kernel.proxyPort(port);\n",
              "    const anchor = document.createElement('a');\n",
              "    anchor.href = url + path;\n",
              "    anchor.target = '_blank';\n",
              "    anchor.setAttribute('data-href', url + path);\n",
              "    anchor.textContent = text;\n",
              "    element.appendChild(anchor);\n",
              "  })(8050, \"/\", \"http://127.0.0.1:8050/\", window.element)"
            ],
            "text/plain": [
              "<IPython.core.display.Javascript object>"
            ]
          },
          "metadata": {
            "tags": []
          }
        }
      ]
    },
    {
      "cell_type": "code",
      "metadata": {
        "id": "8qz80Aw7PJSC"
      },
      "source": [
        ""
      ],
      "execution_count": 206,
      "outputs": []
    }
  ]
}